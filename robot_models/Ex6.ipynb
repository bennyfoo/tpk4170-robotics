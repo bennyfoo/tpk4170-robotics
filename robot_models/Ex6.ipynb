{
 "cells": [
  {
   "cell_type": "code",
   "execution_count": 1,
   "metadata": {},
   "outputs": [],
   "source": [
    "import numpy as np\n",
    "np.set_printoptions(suppress=True, precision=6)"
   ]
  },
  {
   "cell_type": "code",
   "execution_count": 2,
   "metadata": {},
   "outputs": [],
   "source": [
    "import ipywidgets"
   ]
  },
  {
   "cell_type": "code",
   "execution_count": 3,
   "metadata": {},
   "outputs": [],
   "source": [
    "from models import Grid, Ball, Axes, ColladaMesh\n",
    "from visualization import Viewer"
   ]
  },
  {
   "cell_type": "code",
   "execution_count": 4,
   "metadata": {},
   "outputs": [],
   "source": [
    "from ur5 import BaseLink, Link1, Link2, Link3, Link4, Link5, Link6"
   ]
  },
  {
   "cell_type": "code",
   "execution_count": 124,
   "metadata": {},
   "outputs": [],
   "source": [
    "def dh(a, alpha, d, theta):\n",
    "    ct = np.cos(theta)\n",
    "    st = np.sin(theta)\n",
    "    ca = np.cos(alpha)\n",
    "    sa = np.sin(alpha)\n",
    "    return np.array([[ct, -st * ca,  st * sa, a * ct],\n",
    "                     [st,  ct * ca, -ct * sa, a * st],\n",
    "                     [0.0,      sa,       ca, d],\n",
    "                     [0.0,     0.0,      0.0, 1.0]])"
   ]
  },
  {
   "cell_type": "code",
   "execution_count": 125,
   "metadata": {},
   "outputs": [],
   "source": [
    "def fk(dh_a, dh_alpha, dh_d, q_zero_offset, q):\n",
    "    A1 = dh(dh_a[0], dh_alpha[0], dh_d[0], q[0] + q_zero_offset[0])\n",
    "    A2 = dh(dh_a[1], dh_alpha[1], dh_d[1], q[1] + q_zero_offset[1])\n",
    "    A3 = dh(dh_a[2], dh_alpha[2], dh_d[2], q[2] + q_zero_offset[2])\n",
    "    A4 = dh(dh_a[3], dh_alpha[3], dh_d[3], q[3] + q_zero_offset[3])\n",
    "    A5 = dh(dh_a[4], dh_alpha[4], dh_d[4], q[4] + q_zero_offset[4])\n",
    "    A6 = dh(dh_a[5], dh_alpha[5], dh_d[5], q[5] + q_zero_offset[5])\n",
    "    T01 = A1\n",
    "    T02 = A1 @ A2\n",
    "    T03 = A1 @ A2 @ A3\n",
    "    T04 = A1 @ A2 @ A3 @ A4\n",
    "    T05 = A1 @ A2 @ A3 @ A4 @ A5\n",
    "    T06 = A1 @ A2 @ A3 @ A4 @ A5 @ A6\n",
    "    return (T01, T02, T03, T04, T05, T06)"
   ]
  },
  {
   "cell_type": "code",
   "execution_count": 126,
   "metadata": {},
   "outputs": [],
   "source": [
    "def fk_ur5(q):\n",
    "    a = [0.00000, -0.42500, -0.39225,  0.00000,  0.00000,  0.0000]\n",
    "    d = [0.089159,  0.00000,  0.00000,  0.10915,  0.09465,  0.0823]\n",
    "    alpha = [ 1.570796327, 0, 0, 1.570796327, -1.570796327, 0 ]\n",
    "    q_zero_offset = [0, 0, 0, 0, 0, 0]\n",
    "    joint_direction = [-1, -1, 1, 1, 1, 1]\n",
    "    return fk(a, alpha, d, q_zero_offset, q)"
   ]
  },
  {
   "cell_type": "code",
   "execution_count": 127,
   "metadata": {},
   "outputs": [],
   "source": [
    "def Jacobian(Ts):\n",
    "    p0 = np.array([0, 0, 0])\n",
    "    z0 = np.array([0, 0, 1])\n",
    "    pn = Ts[5][:3, 3]\n",
    "    J = np.zeros((6, 6))\n",
    "    J[:3, 0] = np.cross(z0, pn-p0)\n",
    "    J[3:, 0] = z0\n",
    "    for i in range(5):\n",
    "        T = Ts[i]\n",
    "        zi = T[:3, 2]\n",
    "        pi = T[:3, 3]\n",
    "        J[:3, i+1] = np.cross(zi, pn-pi)\n",
    "        J[3:, i+1] = zi \n",
    "    return J"
   ]
  },
  {
   "cell_type": "code",
   "execution_count": 128,
   "metadata": {},
   "outputs": [],
   "source": [
    "def ik_ur5(trf, q0):\n",
    "    Rd = trf[:3,:3]\n",
    "    qk = q0\n",
    "    qs = []\n",
    "    for i in range(1000):\n",
    "        Ts = fk_ur5(qk)\n",
    "        Tk = Ts[5]\n",
    "        Jk = Jacobian(Ts)\n",
    "        Rk = Tk[:3,:3]\n",
    "        Re = Rd @ Rk.T\n",
    "        ep = trf[:3,3] - Tk[:3,3]\n",
    "        eo = np.array([Re[2,1] - Re[1,2], \n",
    "                       Re[0,2]-  Re[2,0], \n",
    "                       Re[1,0] - Re[0,1]]) * 0.5\n",
    "\n",
    "        e = np.array((ep, eo)).reshape(6,1)\n",
    "\n",
    "        K = 0.1\n",
    "        dq = K * np.dot(np.linalg.pinv(Jk),e).ravel()\n",
    "        qk = qk + dq \n",
    "        qs.append(qk)\n",
    "\n",
    "        if np.linalg.norm(e) < 1e-3:\n",
    "            break\n",
    "    return qk, qs"
   ]
  },
  {
   "cell_type": "code",
   "execution_count": 115,
   "metadata": {},
   "outputs": [],
   "source": [
    "q_zero = np.array([1,-1,1,0,1,0])\n",
    "T01, T02, T03, T04, T05, T06 = fk_ur5(q_zero)"
   ]
  },
  {
   "cell_type": "code",
   "execution_count": 116,
   "metadata": {},
   "outputs": [],
   "source": [
    "class UR5Visualizer:\n",
    "    def __init__(self, interact=False):\n",
    "        self.viewer = Viewer()\n",
    "        self.grid = Grid()\n",
    "        self.viewer.add(self.grid)\n",
    "        \n",
    "        self.base_link = BaseLink()\n",
    "        self.viewer.add(self.base_link)\n",
    "        self.link_1 = Link1()\n",
    "        self.viewer.add(self.link_1)\n",
    "        self.link_2 = Link2()\n",
    "        self.viewer.add(self.link_2)\n",
    "        self.link_3 = Link3()\n",
    "        self.viewer.add(self.link_3)\n",
    "        self.link_4 = Link4()\n",
    "        self.viewer.add(self.link_4)\n",
    "        self.link_5 = Link5()\n",
    "        self.viewer.add(self.link_5)\n",
    "        self.link_6 = Link6()\n",
    "        self.viewer.add(self.link_6)\n",
    "        \n",
    "        if interact:\n",
    "            self.interact()\n",
    "            \n",
    "        self.show(np.array([0.0, 0.0, 0.0, 0.0, 0.0, 0.0]))\n",
    "        \n",
    "    def show(self, q):\n",
    "        T01, T02, T03, T04, T05, T06 = fk_ur5(q)\n",
    "        self.link_1(T01)\n",
    "        self.link_2(T02)\n",
    "        self.link_3(T03)\n",
    "        self.link_4(T04)\n",
    "        self.link_5(T05)\n",
    "        self.link_6(T06)\n",
    "        \n",
    "        \n",
    "    def interact(self):\n",
    "        def f(q1, q2, q3, q4, q5, q6):\n",
    "            q = np.array([q1, q2, q3, q4, q5, q6])\n",
    "            self.show(q)\n",
    "            \n",
    "        ipywidgets.interact(f,\n",
    "                            q1=(np.deg2rad(-180), np.deg2rad(180)),\n",
    "                            q2=(np.deg2rad(-180), np.deg2rad(180)),\n",
    "                            q3=(np.deg2rad(-180), np.deg2rad(180)),\n",
    "                            q4=(np.deg2rad(-180), np.deg2rad(180)),\n",
    "                            q5=(np.deg2rad(-180), np.deg2rad(180)),\n",
    "                            q6=(np.deg2rad(-180), np.deg2rad(180)))\n",
    "        \n",
    "        "
   ]
  },
  {
   "cell_type": "code",
   "execution_count": 122,
   "metadata": {},
   "outputs": [
    {
     "data": {
      "application/vnd.jupyter.widget-view+json": {
       "model_id": "83aeeb0a6367476699a601408e0b2501",
       "version_major": 2,
       "version_minor": 0
      },
      "text/plain": [
       "Renderer(camera=PerspectiveCamera(aspect=1.5, children=(DirectionalLight(color='white', intensity=0.66, positi…"
      ]
     },
     "metadata": {},
     "output_type": "display_data"
    }
   ],
   "source": [
    "vis = UR5Visualizer()"
   ]
  },
  {
   "cell_type": "code",
   "execution_count": 123,
   "metadata": {},
   "outputs": [
    {
     "data": {
      "application/vnd.jupyter.widget-view+json": {
       "model_id": "8057ad9927e4435abf1820891214547c",
       "version_major": 2,
       "version_minor": 0
      },
      "text/plain": [
       "interactive(children=(FloatSlider(value=0.0, description='q1', max=3.141592653589793, min=-3.141592653589793),…"
      ]
     },
     "metadata": {},
     "output_type": "display_data"
    }
   ],
   "source": [
    "vis.interact()"
   ]
  },
  {
   "cell_type": "code",
   "execution_count": 118,
   "metadata": {},
   "outputs": [
    {
     "data": {
      "text/plain": [
       "array([[ 1.      ,  0.      ,  0.      , -0.244156],\n",
       "       [ 0.      , -0.      , -1.      , -0.664567],\n",
       "       [-0.      ,  1.      , -0.      ,  0.352134],\n",
       "       [ 0.      ,  0.      ,  0.      ,  1.      ]])"
      ]
     },
     "execution_count": 118,
     "metadata": {},
     "output_type": "execute_result"
    }
   ],
   "source": [
    "T06"
   ]
  },
  {
   "cell_type": "code",
   "execution_count": 119,
   "metadata": {},
   "outputs": [
    {
     "name": "stdout",
     "output_type": "stream",
     "text": [
      "75\n"
     ]
    }
   ],
   "source": [
    "q_it, _ = ik_iterative(T06, np.array([1.,-1.,1.,1.,1.,1.]))"
   ]
  },
  {
   "cell_type": "code",
   "execution_count": 120,
   "metadata": {},
   "outputs": [
    {
     "data": {
      "text/plain": [
       "array([ 1.000025, -1.000007,  0.999938,  0.000521,  1.000254,  0.000452])"
      ]
     },
     "execution_count": 120,
     "metadata": {},
     "output_type": "execute_result"
    }
   ],
   "source": [
    "q_it"
   ]
  },
  {
   "cell_type": "code",
   "execution_count": 121,
   "metadata": {},
   "outputs": [],
   "source": [
    "vis.show(q_it)"
   ]
  },
  {
   "cell_type": "code",
   "execution_count": null,
   "metadata": {},
   "outputs": [],
   "source": []
  }
 ],
 "metadata": {
  "kernelspec": {
   "display_name": "Python 3",
   "language": "python",
   "name": "python3"
  },
  "language_info": {
   "codemirror_mode": {
    "name": "ipython",
    "version": 3
   },
   "file_extension": ".py",
   "mimetype": "text/x-python",
   "name": "python",
   "nbconvert_exporter": "python",
   "pygments_lexer": "ipython3",
   "version": "3.6.5"
  }
 },
 "nbformat": 4,
 "nbformat_minor": 2
}
