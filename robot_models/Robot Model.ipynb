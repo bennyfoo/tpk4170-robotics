{
 "cells": [
  {
   "cell_type": "code",
   "execution_count": 1,
   "metadata": {},
   "outputs": [],
   "source": [
    "import numpy as np\n",
    "np.set_printoptions(suppress=True, precision=6)"
   ]
  },
  {
   "cell_type": "code",
   "execution_count": 2,
   "metadata": {},
   "outputs": [],
   "source": [
    "from robot_model import KR6R900sixx, UR5"
   ]
  },
  {
   "cell_type": "code",
   "execution_count": 3,
   "metadata": {},
   "outputs": [
    {
     "data": {
      "application/vnd.jupyter.widget-view+json": {
       "model_id": "2946e6ebb86f43c59bc3e53c5ed266a3",
       "version_major": 2,
       "version_minor": 0
      },
      "text/plain": [
       "Renderer(camera=PerspectiveCamera(aspect=1.5, children=(DirectionalLight(color='white', intensity=0.66, positi…"
      ]
     },
     "metadata": {},
     "output_type": "display_data"
    }
   ],
   "source": [
    "ur5 = UR5()"
   ]
  },
  {
   "cell_type": "code",
   "execution_count": 4,
   "metadata": {},
   "outputs": [],
   "source": [
    "# ur5.q = np.array([0,np.pi/2,np.pi/2,np.pi/2,-np.pi/2,0])"
   ]
  },
  {
   "cell_type": "code",
   "execution_count": 5,
   "metadata": {},
   "outputs": [],
   "source": [
    "ur5.q = np.array([0,0,0,0,0,0])"
   ]
  },
  {
   "cell_type": "code",
   "execution_count": 23,
   "metadata": {},
   "outputs": [
    {
     "data": {
      "text/plain": [
       "array([[-1.      , -0.      ,  0.      ,  0.81725 ],\n",
       "       [ 0.      ,  0.      ,  1.      ,  0.19145 ],\n",
       "       [-0.      ,  1.      , -0.      , -0.005491],\n",
       "       [ 0.      ,  0.      ,  0.      ,  1.      ]])"
      ]
     },
     "execution_count": 23,
     "metadata": {},
     "output_type": "execute_result"
    }
   ],
   "source": [
    "ur5._ee_debug_call_twice()"
   ]
  },
  {
   "cell_type": "code",
   "execution_count": null,
   "metadata": {},
   "outputs": [],
   "source": []
  },
  {
   "cell_type": "code",
   "execution_count": 34,
   "metadata": {},
   "outputs": [],
   "source": [
    "ur_params = [DenavitHartenbergFrame(0.0,     np.pi/2,  0.089159,      0.0),\n",
    "             DenavitHartenbergFrame(-0.425,      0.0,     0.0,   -np.pi/2),\n",
    "             DenavitHartenbergFrame(-0.39225,    0.0,     0.0,        0.0),\n",
    "             DenavitHartenbergFrame(0.0  ,   np.pi/2,   0.10915, -np.pi/2),\n",
    "             DenavitHartenbergFrame(0.0  ,  -np.pi/2,   0.09465,      0.0),\n",
    "             DenavitHartenbergFrame(0.0  ,       0.0,   0.0823,       0.0)]\n",
    "ur_joint_direction = np.array([-1, -1, 1, 1, 1, 1])"
   ]
  },
  {
   "cell_type": "code",
   "execution_count": 35,
   "metadata": {},
   "outputs": [
    {
     "name": "stdout",
     "output_type": "stream",
     "text": [
      "[[-1.        0.        0.       -0.      ]\n",
      " [-0.       -0.       -1.       -0.19145 ]\n",
      " [-0.       -1.        0.        1.001059]\n",
      " [ 0.        0.        0.        1.      ]]\n"
     ]
    }
   ],
   "source": [
    "ur_fk_solver = DenavitHartenbergFKSolver(ur_params)\n",
    "T, _, J = ur_fk_solver.solve(np.array([0,0,0,0,0,0]))\n",
    "print(T)"
   ]
  },
  {
   "cell_type": "code",
   "execution_count": 11,
   "metadata": {},
   "outputs": [
    {
     "data": {
      "application/vnd.jupyter.widget-view+json": {
       "model_id": "92316cc94f7f4228a96c84f3ee8d516f",
       "version_major": 2,
       "version_minor": 0
      },
      "text/plain": [
       "Renderer(camera=PerspectiveCamera(aspect=1.5, children=(DirectionalLight(color='white', intensity=0.66, positi…"
      ]
     },
     "metadata": {},
     "output_type": "display_data"
    }
   ],
   "source": [
    "agilus = KR6R900sixx(interact=False)"
   ]
  },
  {
   "cell_type": "code",
   "execution_count": 12,
   "metadata": {},
   "outputs": [],
   "source": [
    "agilus.q = [0.4,-np.pi/2 + 1, np.pi/2, 1, 1, 0]"
   ]
  },
  {
   "cell_type": "code",
   "execution_count": null,
   "metadata": {},
   "outputs": [],
   "source": []
  },
  {
   "cell_type": "code",
   "execution_count": 11,
   "metadata": {},
   "outputs": [],
   "source": [
    "class DenavitHartenbergFrame:\n",
    "    def __init__(self, a, alpha, d, theta):\n",
    "        self.a = a\n",
    "        self.alpha = alpha\n",
    "        self.d = d\n",
    "        self.theta = theta\n",
    "        \n",
    "    def __repr__(self):\n",
    "        return 'DH(a={}, alpha={}, d={}, theta={})'.format(self.a, self.alpha, self.d, self.theta)"
   ]
  },
  {
   "cell_type": "code",
   "execution_count": 12,
   "metadata": {},
   "outputs": [],
   "source": [
    "dh_params = [DenavitHartenbergFrame(0.025, -np.pi/2,  0.4, 0),\n",
    "             DenavitHartenbergFrame(0.455,      0.0,  0.0, 0),\n",
    "             DenavitHartenbergFrame(0.035, -np.pi/2,  0.0, -np.pi/2),\n",
    "             DenavitHartenbergFrame(0.0  ,  np.pi/2, 0.42, 0),\n",
    "             DenavitHartenbergFrame(0.0  , -np.pi/2,  0.0, 0),\n",
    "             DenavitHartenbergFrame(0.0  ,      0.0, 0.08, np.pi)]"
   ]
  },
  {
   "cell_type": "code",
   "execution_count": 13,
   "metadata": {},
   "outputs": [],
   "source": [
    "class DenavitHartenbergFKSolver:\n",
    "    def __init__(self, dh_params, rotation_directions=None):\n",
    "        self._dh_params = dh_params\n",
    "        self._rotation_directions = rotation_directions\n",
    "        \n",
    "    def _dh_transform(self, a, alpha, d, theta):\n",
    "        ct = np.cos(theta)\n",
    "        st = np.sin(theta)\n",
    "        ca = np.cos(alpha)\n",
    "        sa = np.sin(alpha)\n",
    "        return np.array([[ct, -st * ca,  st * sa, a * ct],\n",
    "                         [st,  ct * ca, -ct * sa, a * st],\n",
    "                         [0.0,      sa,       ca, d],\n",
    "                         [0.0,     0.0,      0.0, 1.0]])\n",
    "    \n",
    "    @property\n",
    "    def dh_params(self):\n",
    "        return self._dh_params\n",
    "    \n",
    "    def solve(self, q):\n",
    "        if self._rotation_directions is not None:\n",
    "            q *= self._rotation_directions\n",
    "        intermediate_link_transforms = []\n",
    "        for dhi, qi in zip(self._dh_params, q):\n",
    "            intermediate_link_transforms.append(\n",
    "                self._dh_transform(dhi.a, dhi.alpha, dhi.d, (dhi.theta + qi)))\n",
    "        link_transforms = [intermediate_link_transforms[0]] # T^0_1\n",
    "        trf_0_i = intermediate_link_transforms[0]\n",
    "        for i in range(1, 6):\n",
    "            trf_0_i = trf_0_i.dot(intermediate_link_transforms[i])\n",
    "            link_transforms.append(trf_0_i)\n",
    "            \n",
    "\n",
    "        p0 = np.array([0, 0, 0])\n",
    "        z0 = np.array([0, 0, 1])\n",
    "        pn = link_transforms[-1][:3, 3]\n",
    "        J = np.zeros((6, 6))\n",
    "        J[:3, 0] = np.cross(z0, pn-p0)\n",
    "        J[3:, 0] = z0\n",
    "        for i in range(5):\n",
    "            T = link_transforms[i]\n",
    "            zi = T[:3, 2]\n",
    "            pi = T[:3, 3]\n",
    "            J[:3, i+1] = np.cross(zi, pn-pi)\n",
    "            J[3:, i+1] = zi    \n",
    "        \n",
    "        return (link_transforms[-1], link_transforms, J)\n",
    "        "
   ]
  },
  {
   "cell_type": "code",
   "execution_count": 12,
   "metadata": {},
   "outputs": [
    {
     "ename": "NameError",
     "evalue": "name 'agilus' is not defined",
     "output_type": "error",
     "traceback": [
      "\u001b[0;31m---------------------------------------------------------------------------\u001b[0m",
      "\u001b[0;31mNameError\u001b[0m                                 Traceback (most recent call last)",
      "\u001b[0;32m<ipython-input-12-594b5feeff93>\u001b[0m in \u001b[0;36m<module>\u001b[0;34m()\u001b[0m\n\u001b[1;32m      1\u001b[0m \u001b[0mfk_solver\u001b[0m \u001b[0;34m=\u001b[0m \u001b[0mDenavitHartenbergFKSolver\u001b[0m\u001b[0;34m(\u001b[0m\u001b[0mdh_params\u001b[0m\u001b[0;34m)\u001b[0m\u001b[0;34m\u001b[0m\u001b[0m\n\u001b[0;32m----> 2\u001b[0;31m \u001b[0mtrf\u001b[0m\u001b[0;34m,\u001b[0m \u001b[0m_\u001b[0m\u001b[0;34m,\u001b[0m \u001b[0mjac\u001b[0m \u001b[0;34m=\u001b[0m \u001b[0mfk_solver\u001b[0m\u001b[0;34m.\u001b[0m\u001b[0msolve\u001b[0m\u001b[0;34m(\u001b[0m\u001b[0magilus\u001b[0m\u001b[0;34m.\u001b[0m\u001b[0mq\u001b[0m\u001b[0;34m)\u001b[0m\u001b[0;34m\u001b[0m\u001b[0m\n\u001b[0m\u001b[1;32m      3\u001b[0m \u001b[0mprint\u001b[0m\u001b[0;34m(\u001b[0m\u001b[0mtrf\u001b[0m\u001b[0;34m)\u001b[0m\u001b[0;34m\u001b[0m\u001b[0m\n",
      "\u001b[0;31mNameError\u001b[0m: name 'agilus' is not defined"
     ]
    }
   ],
   "source": [
    "fk_solver = DenavitHartenbergFKSolver(dh_params)\n",
    "trf, _, jac = fk_solver.solve(agilus.q)\n",
    "print(trf)"
   ]
  },
  {
   "cell_type": "code",
   "execution_count": 10,
   "metadata": {},
   "outputs": [
    {
     "data": {
      "text/plain": [
       "array([[-0.8221,  0.4418, -0.3592,  0.5831],\n",
       "       [ 0.1461,  0.7734,  0.6169,  0.308 ],\n",
       "       [ 0.5503,  0.4546, -0.7003,  0.2553],\n",
       "       [ 0.    ,  0.    ,  0.    ,  1.    ]])"
      ]
     },
     "execution_count": 10,
     "metadata": {},
     "output_type": "execute_result"
    }
   ],
   "source": [
    "ee_debug_trf = agilus._ee_debug_call_twice()\n",
    "ee_debug_trf"
   ]
  },
  {
   "cell_type": "code",
   "execution_count": 17,
   "metadata": {},
   "outputs": [
    {
     "data": {
      "text/plain": [
       "True"
      ]
     },
     "execution_count": 17,
     "metadata": {},
     "output_type": "execute_result"
    }
   ],
   "source": [
    "np.allclose(trf, ee_debug_trf)"
   ]
  },
  {
   "cell_type": "code",
   "execution_count": 18,
   "metadata": {},
   "outputs": [],
   "source": [
    "class KR6R900sixxIKSolver:\n",
    "    def __init__(self, fk_solver):\n",
    "        self._fk_solver = fk_solver\n",
    "        \n",
    "    def solve_analytical(self, trf, front=1, elbow=1, wrist=1):\n",
    "        ne = trf[:3,0]\n",
    "        se = trf[:3,1]\n",
    "        ae = trf[:3,2]\n",
    "        pe = trf[:3,3]\n",
    "        \n",
    "        d1 = self._fk_solver.dh_params[0].d\n",
    "        d4 = self._fk_solver.dh_params[3].d\n",
    "        d6 = self._fk_solver.dh_params[5].d\n",
    "        \n",
    "        a1 = self._fk_solver.dh_params[0].a\n",
    "        a2 = self._fk_solver.dh_params[1].a\n",
    "        a3 = self._fk_solver.dh_params[2].a\n",
    "        \n",
    "        l3 = np.sqrt(a3 * a3 + d4 * d4)\n",
    "        \n",
    "        pw = pe - d6 * ae\n",
    "        \n",
    "        q1 = np.arctan2(front * pw[1], front*pw[0])\n",
    "        \n",
    "        pty = - (pw[2] - d1)\n",
    "        ptx = front * (np.sqrt(pw[0] * pw[0] + pw[1] * pw[1]) - front * a1)\n",
    "        \n",
    "        c3 = (ptx * ptx + pty * pty - a2 * a2 - l3 * l3 ) / (2 * a2 * l3)\n",
    "        s3 = elbow * np.sqrt(1.0 - c3 * c3)\n",
    "        psi3 = np.arctan2(s3, c3)\n",
    "        offset3 = np.arctan2(a3, d4)\n",
    "        q3 = psi3 + offset3\n",
    "        \n",
    "        den2 = (ptx * ptx + pty * pty)\n",
    "        c2 = (ptx * (a2 + l3 * c3) + pty * l3 * s3) / den2\n",
    "        s2 = (pty * (a2 + l3 * c3) - ptx * l3 * s3) / den2\n",
    "        q2 = np.arctan2(s2, c2)\n",
    "        \n",
    "        _, trfs, _ = self._fk_solver.solve(np.array([q1, q2, q3, 0.0, 0.0, 0.0]))\n",
    "        \n",
    "        rot_0_3 = trfs[2][:3,:3]\n",
    "        rot_3_6 = rot_0_3.T.dot(trf[:3,:3])\n",
    "        \n",
    "        q4 = np.arctan2(wrist * rot_3_6[1,2], wrist * rot_3_6[0,2])\n",
    "        q5 = -np.arctan2(wrist * np.sqrt(rot_3_6[0,2] * rot_3_6[0,2] + rot_3_6[1,2] * rot_3_6[1,2]), rot_3_6[2,2])\n",
    "        q6 = np.arctan2(wrist * rot_3_6[2,1], -wrist * rot_3_6[2,0]) + self._fk_solver.dh_params[-1].theta\n",
    "        \n",
    "        return np.array([q1, q2, q3, q4, q5, q6])\n",
    "    \n",
    "\n",
    "    def solve_iterative(self, trf, q0):\n",
    "        Rd = trf[:3,:3]\n",
    "        qk = q0\n",
    "\n",
    "        for i in range(1000):\n",
    "            Tk, _, Jk = fk_solver.solve(qk)\n",
    "            Rk = Tk[:3,:3]\n",
    "            Re = Rd @ Rk.T\n",
    "            ep = trf[:3,3] - Tk[:3,3]\n",
    "            eo = np.array([Re[2,1] - Re[1,2], \n",
    "                           Re[0,2]-  Re[2,0], \n",
    "                           Re[1,0] - Re[0,1]]) * 0.5\n",
    "            \n",
    "            e = np.array((ep, eo)).reshape(6,1)\n",
    "\n",
    "            K = 0.1\n",
    "            dq = K * np.dot(np.linalg.pinv(Jk),e).ravel()\n",
    "            qk = qk + dq \n",
    "\n",
    "            if np.linalg.norm(e) < 1e-6:\n",
    "                print(i)\n",
    "                break\n",
    "        return qk"
   ]
  },
  {
   "cell_type": "code",
   "execution_count": 20,
   "metadata": {},
   "outputs": [
    {
     "name": "stdout",
     "output_type": "stream",
     "text": [
      "[ 0.4    -0.5708  1.5708  1.      1.      0.    ]\n",
      "[ 0.4    -0.5708  1.5708  1.      1.      0.    ]\n",
      "140\n",
      "[ 0.4    -0.5708  1.5708  1.      1.      0.    ]\n"
     ]
    }
   ],
   "source": [
    "fk_solver = DenavitHartenbergFKSolver(dh_params)\n",
    "q1 = agilus.q\n",
    "print(q1)\n",
    "trf1, _, _ = fk_solver.solve(q1)\n",
    "ik_solver = KR6R900sixxIKSolver(fk_solver)\n",
    "q2 = ik_solver.solve_analytical(trf, front=1, wrist=-1)\n",
    "print(q2)\n",
    "q3 = ik_solver.solve_iterative(trf, np.array([1,1,1,1,1,1]))\n",
    "print(q3)\n",
    "\n",
    "trf2, _, _ = fk_solver.solve(q2)\n",
    "trf3, _, _ = fk_solver.solve(q3)"
   ]
  },
  {
   "cell_type": "code",
   "execution_count": 21,
   "metadata": {},
   "outputs": [
    {
     "data": {
      "text/plain": [
       "array([ 0.4   , -0.5708,  1.5708,  1.    ,  1.    ,  0.    ])"
      ]
     },
     "execution_count": 21,
     "metadata": {},
     "output_type": "execute_result"
    }
   ],
   "source": [
    "agilus.q"
   ]
  },
  {
   "cell_type": "code",
   "execution_count": 22,
   "metadata": {},
   "outputs": [
    {
     "data": {
      "text/plain": [
       "array([[-0.8221,  0.4418, -0.3592,  0.5831],\n",
       "       [ 0.1461,  0.7734,  0.6169,  0.308 ],\n",
       "       [ 0.5503,  0.4546, -0.7003,  0.2553],\n",
       "       [ 0.    ,  0.    ,  0.    ,  1.    ]])"
      ]
     },
     "execution_count": 22,
     "metadata": {},
     "output_type": "execute_result"
    }
   ],
   "source": [
    "agilus._ee_debug_call_twice()"
   ]
  },
  {
   "cell_type": "code",
   "execution_count": 23,
   "metadata": {},
   "outputs": [
    {
     "data": {
      "text/plain": [
       "array([[-0.8221,  0.4418, -0.3592,  0.5831],\n",
       "       [ 0.1461,  0.7734,  0.6169,  0.308 ],\n",
       "       [ 0.5503,  0.4546, -0.7003,  0.2553],\n",
       "       [ 0.    ,  0.    ,  0.    ,  1.    ]])"
      ]
     },
     "execution_count": 23,
     "metadata": {},
     "output_type": "execute_result"
    }
   ],
   "source": [
    "trf1"
   ]
  },
  {
   "cell_type": "code",
   "execution_count": null,
   "metadata": {},
   "outputs": [],
   "source": []
  },
  {
   "cell_type": "code",
   "execution_count": null,
   "metadata": {},
   "outputs": [],
   "source": []
  }
 ],
 "metadata": {
  "kernelspec": {
   "display_name": "Python 3",
   "language": "python",
   "name": "python3"
  },
  "language_info": {
   "codemirror_mode": {
    "name": "ipython",
    "version": 3
   },
   "file_extension": ".py",
   "mimetype": "text/x-python",
   "name": "python",
   "nbconvert_exporter": "python",
   "pygments_lexer": "ipython3",
   "version": "3.6.5"
  }
 },
 "nbformat": 4,
 "nbformat_minor": 2
}
