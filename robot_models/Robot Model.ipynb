{
 "cells": [
  {
   "cell_type": "code",
   "execution_count": 1,
   "metadata": {},
   "outputs": [],
   "source": [
    "import numpy as np\n",
    "np.set_printoptions(suppress=True)"
   ]
  },
  {
   "cell_type": "code",
   "execution_count": 2,
   "metadata": {},
   "outputs": [],
   "source": [
    "from robot_model import KR6R900sixx"
   ]
  },
  {
   "cell_type": "code",
   "execution_count": 3,
   "metadata": {},
   "outputs": [
    {
     "data": {
      "application/vnd.jupyter.widget-view+json": {
       "model_id": "00a1f33230314788a9d960c2330152a7",
       "version_major": 2,
       "version_minor": 0
      },
      "text/plain": [
       "Renderer(camera=PerspectiveCamera(aspect=1.5, children=(DirectionalLight(color='white', intensity=0.66, positi…"
      ]
     },
     "metadata": {},
     "output_type": "display_data"
    }
   ],
   "source": [
    "agilus = KR6R900sixx(interact=False)"
   ]
  },
  {
   "cell_type": "code",
   "execution_count": 4,
   "metadata": {},
   "outputs": [],
   "source": [
    "agilus.q = [0.4,-np.pi/2 + 1, np.pi/2, 1, 1, 0]"
   ]
  },
  {
   "cell_type": "code",
   "execution_count": 5,
   "metadata": {},
   "outputs": [
    {
     "data": {
      "text/plain": [
       "array([ 0.4       , -0.57079633,  1.57079633,  1.        ,  1.        ,\n",
       "        0.        ])"
      ]
     },
     "execution_count": 5,
     "metadata": {},
     "output_type": "execute_result"
    }
   ],
   "source": [
    "agilus.q"
   ]
  },
  {
   "cell_type": "code",
   "execution_count": 6,
   "metadata": {},
   "outputs": [],
   "source": [
    "class DenavitHartenbergFrame:\n",
    "    def __init__(self, a, alpha, d, theta):\n",
    "        self.a = a\n",
    "        self.alpha = alpha\n",
    "        self.d = d\n",
    "        self.theta = theta\n",
    "        \n",
    "    def __repr__(self):\n",
    "        return 'DH(a={}, alpha={}, d={}, theta={})'.format(self.a, self.alpha, self.d, self.theta)"
   ]
  },
  {
   "cell_type": "code",
   "execution_count": 7,
   "metadata": {},
   "outputs": [],
   "source": [
    "dh_params = [DenavitHartenbergFrame(0.025, -np.pi/2,  0.4, 0),\n",
    "             DenavitHartenbergFrame(0.455,      0.0,  0.0, 0),\n",
    "             DenavitHartenbergFrame(0.035, -np.pi/2,  0.0, -np.pi/2),\n",
    "             DenavitHartenbergFrame(0.0  ,  np.pi/2, 0.42, 0),\n",
    "             DenavitHartenbergFrame(0.0  , -np.pi/2,  0.0, 0),\n",
    "             DenavitHartenbergFrame(0.0  ,      0.0, 0.08, np.pi)]"
   ]
  },
  {
   "cell_type": "code",
   "execution_count": 8,
   "metadata": {},
   "outputs": [],
   "source": [
    "class DenavitHartenbergFKSolver:\n",
    "    def __init__(self, dh_params, rotation_directions=None):\n",
    "        self._dh_params = dh_params\n",
    "        self._rotation_directions = rotation_directions\n",
    "        \n",
    "    def _dh_transform(self, a, alpha, d, theta):\n",
    "        ct = np.cos(theta)\n",
    "        st = np.sin(theta)\n",
    "        ca = np.cos(alpha)\n",
    "        sa = np.sin(alpha)\n",
    "        return np.array([[ct, -st * ca,  st * sa, a * ct],\n",
    "                         [st,  ct * ca, -ct * sa, a * st],\n",
    "                         [0.0,      sa,       ca, d],\n",
    "                         [0.0,     0.0,      0.0, 1.0]])\n",
    "    \n",
    "    @property\n",
    "    def dh_params(self):\n",
    "        return self._dh_params\n",
    "    \n",
    "    def solve(self, q):\n",
    "        if self._rotation_directions is not None:\n",
    "            q *= self._rotation_directions\n",
    "        intermediate_link_transforms = []\n",
    "        for dhi, qi in zip(self._dh_params, q):\n",
    "            intermediate_link_transforms.append(\n",
    "                self._dh_transform(dhi.a, dhi.alpha, dhi.d, (dhi.theta + qi)))\n",
    "        link_transforms = [intermediate_link_transforms[0]] # T^0_1\n",
    "        trf_0_i = intermediate_link_transforms[0]\n",
    "        for i in range(1, 6):\n",
    "            trf_0_i = trf_0_i.dot(intermediate_link_transforms[i])\n",
    "            link_transforms.append(trf_0_i)\n",
    "        return (link_transforms[-1], link_transforms, intermediate_link_transforms)\n",
    "        "
   ]
  },
  {
   "cell_type": "code",
   "execution_count": 9,
   "metadata": {},
   "outputs": [
    {
     "data": {
      "text/plain": [
       "array([[-0.8220643 , -0.44177518, -0.3592283 ,  0.58307443],\n",
       "       [-0.14605091,  0.77338816, -0.61687916, -0.30802059],\n",
       "       [ 0.55034481, -0.45464871, -0.70029646,  0.2553066 ],\n",
       "       [ 0.        ,  0.        ,  0.        ,  1.        ]])"
      ]
     },
     "execution_count": 9,
     "metadata": {},
     "output_type": "execute_result"
    }
   ],
   "source": [
    "fk_solver = DenavitHartenbergFKSolver(dh_params, \n",
    "                                      rotation_directions=[-1.,1.,1.,-1.,1.,-1.])\n",
    "trf, _, _ = fk_solver.solve(agilus.q)\n",
    "trf"
   ]
  },
  {
   "cell_type": "code",
   "execution_count": 10,
   "metadata": {},
   "outputs": [],
   "source": [
    "fk_solver = DenavitHartenbergFKSolver(dh_params)"
   ]
  },
  {
   "cell_type": "code",
   "execution_count": 11,
   "metadata": {},
   "outputs": [
    {
     "data": {
      "text/plain": [
       "array([[1., 0., 0., 0.],\n",
       "       [0., 1., 0., 0.],\n",
       "       [0., 0., 1., 0.],\n",
       "       [0., 0., 0., 1.]])"
      ]
     },
     "execution_count": 11,
     "metadata": {},
     "output_type": "execute_result"
    }
   ],
   "source": [
    "ee_debug_trf = agilus._ee_debug_call_twice()\n",
    "ee_debug_trf"
   ]
  },
  {
   "cell_type": "code",
   "execution_count": 12,
   "metadata": {},
   "outputs": [
    {
     "data": {
      "text/plain": [
       "False"
      ]
     },
     "execution_count": 12,
     "metadata": {},
     "output_type": "execute_result"
    }
   ],
   "source": [
    "np.allclose(trf, ee_debug_trf)"
   ]
  },
  {
   "cell_type": "code",
   "execution_count": 19,
   "metadata": {},
   "outputs": [],
   "source": [
    "class KR6R900sixxAnalyticalIK:\n",
    "    def __init__(self, fk_solver):\n",
    "        self._fk_solver = fk_solver\n",
    "        \n",
    "    def solve(self, trf, front=1, elbow=1, wrist=1):\n",
    "        ne = trf[:3,0]\n",
    "        se = trf[:3,1]\n",
    "        ae = trf[:3,2]\n",
    "        pe = trf[:3,3]\n",
    "        \n",
    "        d1 = self._fk_solver.dh_params[0].d\n",
    "        d4 = self._fk_solver.dh_params[3].d\n",
    "        d6 = self._fk_solver.dh_params[5].d\n",
    "        \n",
    "        a1 = self._fk_solver.dh_params[0].a\n",
    "        a2 = self._fk_solver.dh_params[1].a\n",
    "        a3 = self._fk_solver.dh_params[2].a\n",
    "        \n",
    "        l3 = np.sqrt(a3 * a3 + d4 * d4)\n",
    "        \n",
    "        pw = pe - d6 * ae\n",
    "        \n",
    "        q1 = np.arctan2(front * pw[1], front*pw[0])\n",
    "        \n",
    "        pty = - (pw[2] - d1)\n",
    "        ptx = front * (np.sqrt(pw[0] * pw[0] + pw[1] * pw[1]) - front * a1)\n",
    "        \n",
    "        c3 = (ptx * ptx + pty * pty - a2 * a2 - l3 * l3 ) / (2 * a2 * l3)\n",
    "        s3 = elbow * np.sqrt(1.0 - c3 * c3)\n",
    "        psi3 = np.arctan2(s3, c3)\n",
    "        offset3 = np.arctan2(a3, d4)\n",
    "        q3 = psi3 + offset3\n",
    "        \n",
    "        den2 = (ptx * ptx + pty * pty)\n",
    "        c2 = (ptx * (a2 + l3 * c3) + pty * l3 * s3) / den2\n",
    "        s2 = (pty * (a2 + l3 * c3) - ptx * l3 * s3) / den2\n",
    "        q2 = np.arctan2(s2, c2)\n",
    "        \n",
    "        _, trfs, _ = self._fk_solver.solve(np.array([q1, q2, q3, 0.0, 0.0, 0.0]))\n",
    "        \n",
    "        rot_0_3 = trfs[2][:3,:3]\n",
    "        rot_3_6 = rot_0_3.T.dot(trf[:3,:3])\n",
    "        \n",
    "        q4 = np.arctan2(wrist * rot_3_6[1,2], wrist * rot_3_6[0,2])\n",
    "        q5 = -np.arctan2(wrist * np.sqrt(rot_3_6[0,2] * rot_3_6[0,2] + rot_3_6[1,2] * rot_3_6[1,2]), rot_3_6[2,2])\n",
    "        q6 = np.arctan2(wrist * rot_3_6[2,1], -wrist * rot_3_6[2,0]) + self._fk_solver.dh_params[-1].theta\n",
    "        \n",
    "        return np.array([q1, q2, q3, q4, q5, q6])"
   ]
  },
  {
   "cell_type": "code",
   "execution_count": 22,
   "metadata": {},
   "outputs": [
    {
     "name": "stdout",
     "output_type": "stream",
     "text": [
      "[1. 1. 1. 1. 1. 1.]\n"
     ]
    }
   ],
   "source": [
    "fk_solver = DenavitHartenbergFKSolver(dh_params)\n",
    "trf, _, _ = fk_solver.solve(np.array([1,1,1,1,1,1]))\n",
    "ik_solver = KR6R900sixxAnalyticalIK(fk_solver)\n",
    "q = ik_solver.solve(trf, wrist=-1)\n",
    "print(q)\n",
    "trf2, _, _ = fk_solver.solve(q)"
   ]
  },
  {
   "cell_type": "code",
   "execution_count": 15,
   "metadata": {},
   "outputs": [
    {
     "data": {
      "text/plain": [
       "False"
      ]
     },
     "execution_count": 15,
     "metadata": {},
     "output_type": "execute_result"
    }
   ],
   "source": [
    "np.allclose(trf, trf2)"
   ]
  },
  {
   "cell_type": "code",
   "execution_count": 16,
   "metadata": {},
   "outputs": [
    {
     "data": {
      "text/plain": [
       "array([[-0.21667169,  0.26112258, -0.94067443, -0.0061594 ],\n",
       "       [ 0.95867353,  0.23890322, -0.1545002 ,  0.09524838],\n",
       "       [ 0.18438665, -0.93527549, -0.30209487, -0.40350695],\n",
       "       [ 0.        ,  0.        ,  0.        ,  1.        ]])"
      ]
     },
     "execution_count": 16,
     "metadata": {},
     "output_type": "execute_result"
    }
   ],
   "source": [
    "trf"
   ]
  },
  {
   "cell_type": "code",
   "execution_count": 17,
   "metadata": {},
   "outputs": [
    {
     "data": {
      "text/plain": [
       "array([[ 0.21667169, -0.26112258, -0.94067443, -0.0061594 ],\n",
       "       [-0.95867353, -0.23890322, -0.1545002 ,  0.09524838],\n",
       "       [-0.18438665,  0.93527549, -0.30209487, -0.40350695],\n",
       "       [ 0.        ,  0.        ,  0.        ,  1.        ]])"
      ]
     },
     "execution_count": 17,
     "metadata": {},
     "output_type": "execute_result"
    }
   ],
   "source": [
    "trf2"
   ]
  },
  {
   "cell_type": "code",
   "execution_count": 18,
   "metadata": {},
   "outputs": [
    {
     "data": {
      "text/plain": [
       "array([[-0.21667169,  0.26112258, -0.94067443, -0.0061594 ],\n",
       "       [ 0.95867353,  0.23890322, -0.1545002 ,  0.09524838],\n",
       "       [ 0.18438665, -0.93527549, -0.30209487, -0.40350695],\n",
       "       [ 0.        ,  0.        ,  0.        ,  1.        ]])"
      ]
     },
     "execution_count": 18,
     "metadata": {},
     "output_type": "execute_result"
    }
   ],
   "source": [
    "trf"
   ]
  },
  {
   "cell_type": "code",
   "execution_count": null,
   "metadata": {},
   "outputs": [],
   "source": []
  }
 ],
 "metadata": {
  "kernelspec": {
   "display_name": "Python 3",
   "language": "python",
   "name": "python3"
  },
  "language_info": {
   "codemirror_mode": {
    "name": "ipython",
    "version": 3
   },
   "file_extension": ".py",
   "mimetype": "text/x-python",
   "name": "python",
   "nbconvert_exporter": "python",
   "pygments_lexer": "ipython3",
   "version": "3.6.5"
  }
 },
 "nbformat": 4,
 "nbformat_minor": 2
}
