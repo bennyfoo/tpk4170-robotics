{
 "cells": [
  {
   "cell_type": "markdown",
   "metadata": {},
   "source": [
    "Grid"
   ]
  },
  {
   "cell_type": "markdown",
   "metadata": {},
   "source": [
    "ROS3D.Grid = function(options) {\n",
    "  options = options || {};\n",
    "  var num_cells = options.num_cells || 10;\n",
    "  var color = options.color || '#cccccc';\n",
    "  var lineWidth = options.lineWidth || 1;\n",
    "  var cellSize = options.cellSize || 1;\n",
    "\n",
    "  THREE.Object3D.call(this);\n",
    "\n",
    "  var material = new THREE.LineBasicMaterial({\n",
    "    color: color,\n",
    "    linewidth: lineWidth\n",
    "  });\n",
    "\n",
    "  for (var i = 0; i <= num_cells; ++i) {\n",
    "    var edge = cellSize * num_cells / 2;\n",
    "    var position = edge - (i * cellSize);\n",
    "    var geometryH = new THREE.Geometry();\n",
    "    geometryH.vertices.push(\n",
    "      new THREE.Vector3( -edge, position, 0 ),\n",
    "      new THREE.Vector3( edge, position, 0 )\n",
    "    );\n",
    "    var geometryV = new THREE.Geometry();\n",
    "    geometryV.vertices.push(\n",
    "      new THREE.Vector3( position, -edge, 0 ),\n",
    "      new THREE.Vector3( position, edge, 0 )\n",
    "    );\n",
    "    this.add(new THREE.Line(geometryH, material));\n",
    "    this.add(new THREE.Line(geometryV, material));\n",
    "  }\n",
    "};`"
   ]
  },
  {
   "cell_type": "code",
   "execution_count": 3,
   "metadata": {},
   "outputs": [],
   "source": [
    "from pythreejs import *\n",
    "import numpy as np\n",
    "from collada import Collada\n",
    "from matplotlib.colors import to_hex\n",
    "import ipywidgets\n",
    "from transformations import quaternion_from_euler, quaternion_about_axis\n",
    "import time\n",
    "from traitlets import observe"
   ]
  },
  {
   "cell_type": "code",
   "execution_count": 46,
   "metadata": {},
   "outputs": [
    {
     "data": {
      "application/vnd.jupyter.widget-view+json": {
       "model_id": "259462cfbaac4461849c8682bb853fd1",
       "version_major": 2,
       "version_minor": 0
      },
      "text/plain": [
       "Renderer(camera=PerspectiveCamera(children=(DirectionalLight(color='white', intensity=0.5, position=(3.0, 5.0,…"
      ]
     },
     "metadata": {},
     "output_type": "display_data"
    }
   ],
   "source": [
    "# ball = Mesh(geometry=SphereGeometry(),\n",
    "#             material=MeshLambertMaterial(color='red'))\n",
    "key_light = DirectionalLight(color='white', position=[3, 5, 1], intensity=0.5)\n",
    "\n",
    "c = PerspectiveCamera(position=[0, 5, 5], up=[0, 1, 0], children=[key_light])\n",
    "\n",
    "l = Line(Geometry(vertices=[(-100,0,0), (100,0,0)]), material=LineBasicMaterial(color='#123456', linewidth=2))\n",
    "\n",
    "scene = Scene(children=[c, grid(color='#000000'), AmbientLight(color='#777777')], background=None)\n",
    "\n",
    "renderer = Renderer(camera=c,\n",
    "                    scene=scene,\n",
    "                    alpha=True,\n",
    "                    clearOpacity=0,\n",
    "                    controls=[OrbitControls(controlling=c)])\n",
    "display(renderer)"
   ]
  },
  {
   "cell_type": "code",
   "execution_count": 45,
   "metadata": {},
   "outputs": [],
   "source": [
    "def grid(num_cells=5, color='#ffffff', linewidth=1, cellsize=1):\n",
    "    grid = Group()\n",
    "    material = LineBasicMaterial(color=color, linewidth=linewidth)\n",
    "    for i in range(num_cells+1):\n",
    "        edge = cellsize * num_cells / 2\n",
    "        position = edge - (i * cellsize)\n",
    "        geometry_h = Geometry(vertices=[(-edge, position, 0),\n",
    "                                        (edge, position, 0)])\n",
    "        geometry_v = Geometry(vertices=[(position, -edge, 0),\n",
    "                                        (position, edge, 0)])\n",
    "        grid.add(Line(geometry=geometry_h, material=material))\n",
    "        grid.add(Line(geometry=geometry_v, material=material))\n",
    "    return grid"
   ]
  },
  {
   "cell_type": "code",
   "execution_count": 43,
   "metadata": {},
   "outputs": [
    {
     "data": {
      "application/vnd.jupyter.widget-view+json": {
       "model_id": "b6d3694c5055452bb0aea2fc187e8c31",
       "version_major": 2,
       "version_minor": 0
      },
      "text/plain": [
       "Preview(child=Line(geometry=Geometry(colors=['#ffffff'], vertices=[[0, 0, 0], [1, 0, 0]]), material=LineBasicM…"
      ]
     },
     "metadata": {},
     "output_type": "display_data"
    }
   ],
   "source": [
    "Line(Geometry(vertices=[(0,0,0), (1,0,0)]), material=LineBasicMaterial(color='#123456', linewidth=1))"
   ]
  },
  {
   "cell_type": "code",
   "execution_count": 18,
   "metadata": {},
   "outputs": [],
   "source": [
    "s = Geometry()"
   ]
  },
  {
   "cell_type": "code",
   "execution_count": 20,
   "metadata": {},
   "outputs": [],
   "source": [
    "gr = grid()"
   ]
  },
  {
   "cell_type": "code",
   "execution_count": null,
   "metadata": {},
   "outputs": [],
   "source": [
    "gr."
   ]
  },
  {
   "cell_type": "code",
   "execution_count": null,
   "metadata": {},
   "outputs": [],
   "source": [
    "  for (var i = 0; i <= num_cells; ++i) {\n",
    "    var edge = cellSize * num_cells / 2;\n",
    "    var position = edge - (i * cellSize);\n",
    "    var geometryH = new THREE.Geometry();\n",
    "    geometryH.vertices.push(\n",
    "      new THREE.Vector3( -edge, position, 0 ),\n",
    "      new THREE.Vector3( edge, position, 0 )\n",
    "    );\n",
    "    var geometryV = new THREE.Geometry();\n",
    "    geometryV.vertices.push(\n",
    "      new THREE.Vector3( position, -edge, 0 ),\n",
    "      new THREE.Vector3( position, edge, 0 )\n",
    "    );\n",
    "    this.add(new THREE.Line(geometryH, material));\n",
    "    this.add(new THREE.Line(geometryV, material));\n",
    "  }"
   ]
  }
 ],
 "metadata": {
  "kernelspec": {
   "display_name": "Python 3",
   "language": "python",
   "name": "python3"
  },
  "language_info": {
   "codemirror_mode": {
    "name": "ipython",
    "version": 3
   },
   "file_extension": ".py",
   "mimetype": "text/x-python",
   "name": "python",
   "nbconvert_exporter": "python",
   "pygments_lexer": "ipython3",
   "version": "3.6.5"
  }
 },
 "nbformat": 4,
 "nbformat_minor": 2
}
