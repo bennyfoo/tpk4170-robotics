{
 "cells": [
  {
   "cell_type": "code",
   "execution_count": 12,
   "metadata": {},
   "outputs": [],
   "source": [
    "import numpy as np"
   ]
  },
  {
   "cell_type": "code",
   "execution_count": 13,
   "metadata": {},
   "outputs": [],
   "source": [
    "import "
   ]
  },
  {
   "cell_type": "code",
   "execution_count": 21,
   "metadata": {},
   "outputs": [],
   "source": [
    "msg = '''<RobotState>\n",
    "  <Pos X=\"447.171417\" Y=\"1.160460\" Z=\"645.844360\" A=\"-179.999557\" B=\"0.000010\" C=\"-179.999710\"></Pos>\n",
    "</RobotState>'''"
   ]
  },
  {
   "cell_type": "code",
   "execution_count": 23,
   "metadata": {},
   "outputs": [
    {
     "name": "stdout",
     "output_type": "stream",
     "text": [
      "<RobotState>\n",
      "  <Pos X=\"447.171417\" Y=\"1.160460\" Z=\"645.844360\" A=\"-179.999557\" B=\"0.000010\" C=\"-179.999710\"></Pos>\n",
      "</RobotState>\n"
     ]
    }
   ],
   "source": [
    "print(msg)"
   ]
  },
  {
   "cell_type": "code",
   "execution_count": 40,
   "metadata": {},
   "outputs": [],
   "source": [
    "type_ = 0\n",
    "a1, a2, a3, a4, a5, a6 = 0.0, 0.0, 0.0, 0.0, 0.0, 0.0\n",
    "x, y, z, a, b, c = 0.0, 0.0, 0.0, 0.0, 0.0, 0.0\n",
    "vel = 0.0\n",
    "cmd = '''<RobotCommand>\n",
    "  <Type>{type_}</Type>\n",
    "  <Axis A1=\"{a1}\" A2=\"{a2}\" A3=\"{a3}\" A4=\"{a4}\" A5=\"a5\" A6=\"{a6}\"/></Axis>\n",
    "  <Cart X=\"{x}\" Y=\"{y}\" Z=\"{z}\" A=\"{a}\" B=\"b\" C=\"{c}\"></Cart>\n",
    "  <MaxVelocityScalingFactor>{vel}</MaxVelocityScalingFactor>\n",
    "</RobotCommand>'''"
   ]
  },
  {
   "cell_type": "code",
   "execution_count": 43,
   "metadata": {},
   "outputs": [],
   "source": [
    "import xml.etree.ElementTree as ET"
   ]
  },
  {
   "cell_type": "code",
   "execution_count": 58,
   "metadata": {},
   "outputs": [
    {
     "name": "stdout",
     "output_type": "stream",
     "text": [
      "<RobotState><Axis A1=\"5\" /></RobotState>\n"
     ]
    }
   ],
   "source": [
    "robotstate = ET.Element('RobotState')\n",
    "axis = ET.SubElement(robotstate, 'Axis')\n",
    "axis.set('A1', str(5))\n",
    "axis.text = ''\n",
    "\n",
    "ET.dump(robotstate)"
   ]
  },
  {
   "cell_type": "code",
   "execution_count": 47,
   "metadata": {},
   "outputs": [],
   "source": [
    "ET.SubElement?"
   ]
  },
  {
   "cell_type": "code",
   "execution_count": 41,
   "metadata": {},
   "outputs": [
    {
     "name": "stdout",
     "output_type": "stream",
     "text": [
      "<RobotCommand>\n",
      "  <Type>0</Type>\n",
      "  <Axis A1=\"0.0\" A2=\"0.0\" A3=\"0.0\" A4=\"0.0\" A5=\"a5\" A6=\"0.0\"/></Axis>\n",
      "  <Cart X=\"0.0\" Y=\"0.0\" Z=\"0.0\" A=\"0.0\" B=\"b\" C=\"0.0\"></Cart>\n",
      "  <MaxVelocityScalingFactor>0.0</MaxVelocityScalingFactor>\n",
      "</RobotCommand>\n"
     ]
    }
   ],
   "source": [
    "msg = cmd.format(type_=type_, \n",
    "           a1=a1, a2=a2, a3=a3, a4=a4, a5=a5, a6=a6,\n",
    "           x=x, y=y, z=z, a=a, b=b, c=c, vel=vel)\n",
    "print(msg)"
   ]
  },
  {
   "cell_type": "code",
   "execution_count": 42,
   "metadata": {},
   "outputs": [
    {
     "ename": "NameError",
     "evalue": "name 'self' is not defined",
     "output_type": "error",
     "traceback": [
      "\u001b[0;31m---------------------------------------------------------------------------\u001b[0m",
      "\u001b[0;31mNameError\u001b[0m                                 Traceback (most recent call last)",
      "\u001b[0;32m<ipython-input-42-bca83a5798e7>\u001b[0m in \u001b[0;36m<module>\u001b[0;34m()\u001b[0m\n\u001b[0;32m----> 1\u001b[0;31m \u001b[0;32mclass\u001b[0m \u001b[0mAxis\u001b[0m\u001b[0;34m:\u001b[0m\u001b[0;34m\u001b[0m\u001b[0m\n\u001b[0m\u001b[1;32m      2\u001b[0m     \u001b[0mself\u001b[0m\u001b[0;34m.\u001b[0m\u001b[0ma1\u001b[0m \u001b[0;34m=\u001b[0m \u001b[0;36m0.0\u001b[0m\u001b[0;34m\u001b[0m\u001b[0m\n",
      "\u001b[0;32m<ipython-input-42-bca83a5798e7>\u001b[0m in \u001b[0;36mAxis\u001b[0;34m()\u001b[0m\n\u001b[1;32m      1\u001b[0m \u001b[0;32mclass\u001b[0m \u001b[0mAxis\u001b[0m\u001b[0;34m:\u001b[0m\u001b[0;34m\u001b[0m\u001b[0m\n\u001b[0;32m----> 2\u001b[0;31m     \u001b[0mself\u001b[0m\u001b[0;34m.\u001b[0m\u001b[0ma1\u001b[0m \u001b[0;34m=\u001b[0m \u001b[0;36m0.0\u001b[0m\u001b[0;34m\u001b[0m\u001b[0m\n\u001b[0m",
      "\u001b[0;31mNameError\u001b[0m: name 'self' is not defined"
     ]
    }
   ],
   "source": [
    "class Axis:\n",
    "    self.a1 = 0.0"
   ]
  },
  {
   "cell_type": "code",
   "execution_count": 28,
   "metadata": {},
   "outputs": [
    {
     "ename": "KeyError",
     "evalue": "'x'",
     "output_type": "error",
     "traceback": [
      "\u001b[0;31m---------------------------------------------------------------------------\u001b[0m",
      "\u001b[0;31mKeyError\u001b[0m                                  Traceback (most recent call last)",
      "\u001b[0;32m<ipython-input-28-241c52112f44>\u001b[0m in \u001b[0;36m<module>\u001b[0;34m()\u001b[0m\n\u001b[0;32m----> 1\u001b[0;31m \u001b[0mcmd\u001b[0m\u001b[0;34m.\u001b[0m\u001b[0mformat\u001b[0m\u001b[0;34m(\u001b[0m\u001b[0;34m*\u001b[0m\u001b[0;34m[\u001b[0m\u001b[0;36m1\u001b[0m\u001b[0;34m,\u001b[0m\u001b[0;36m2\u001b[0m\u001b[0;34m,\u001b[0m\u001b[0;36m3\u001b[0m\u001b[0;34m,\u001b[0m\u001b[0;36m4\u001b[0m\u001b[0;34m,\u001b[0m\u001b[0;36m4\u001b[0m\u001b[0;34m,\u001b[0m\u001b[0;36m5\u001b[0m\u001b[0;34m]\u001b[0m\u001b[0;34m)\u001b[0m\u001b[0;34m\u001b[0m\u001b[0m\n\u001b[0m",
      "\u001b[0;31mKeyError\u001b[0m: 'x'"
     ]
    }
   ],
   "source": [
    "cmd.format()"
   ]
  },
  {
   "cell_type": "code",
   "execution_count": 15,
   "metadata": {},
   "outputs": [],
   "source": [
    "vis.show([0,-np.pi/2,np.pi/2,0,0,0])"
   ]
  },
  {
   "cell_type": "code",
   "execution_count": 7,
   "metadata": {},
   "outputs": [
    {
     "name": "stdout",
     "output_type": "stream",
     "text": [
      "__init__.py \u001b[34m__pycache__\u001b[m\u001b[m \u001b[34mkr16_2\u001b[m\u001b[m      \u001b[34mkr6r900sixx\u001b[m\u001b[m models.py   \u001b[34mur5\u001b[m\u001b[m\r\n"
     ]
    }
   ],
   "source": [
    "!ls /Users/lars/miniconda3/envs/tpk4170/share/tpk4170/models/"
   ]
  },
  {
   "cell_type": "code",
   "execution_count": null,
   "metadata": {},
   "outputs": [],
   "source": []
  }
 ],
 "metadata": {
  "kernelspec": {
   "display_name": "Python 3",
   "language": "python",
   "name": "python3"
  },
  "language_info": {
   "codemirror_mode": {
    "name": "ipython",
    "version": 3
   },
   "file_extension": ".py",
   "mimetype": "text/x-python",
   "name": "python",
   "nbconvert_exporter": "python",
   "pygments_lexer": "ipython3",
   "version": "3.6.5"
  }
 },
 "nbformat": 4,
 "nbformat_minor": 2
}
