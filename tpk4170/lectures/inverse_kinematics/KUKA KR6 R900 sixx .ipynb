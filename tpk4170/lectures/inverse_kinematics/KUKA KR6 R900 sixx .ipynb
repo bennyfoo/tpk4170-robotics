{
 "cells": [
  {
   "cell_type": "code",
   "execution_count": 1,
   "metadata": {},
   "outputs": [],
   "source": [
    "import numpy as np\n",
    "np.set_printoptions(suppress=True, precision=6)"
   ]
  },
  {
   "cell_type": "code",
   "execution_count": 2,
   "metadata": {},
   "outputs": [],
   "source": [
    "from models import Grid, Ball, Axes, ColladaMesh\n",
    "from visualization import Viewer"
   ]
  },
  {
   "cell_type": "code",
   "execution_count": 3,
   "metadata": {},
   "outputs": [],
   "source": [
    "from kr6r900sixx import BaseLink, Link1, Link2, Link3, Link4, Link5, Link6"
   ]
  },
  {
   "cell_type": "markdown",
   "metadata": {},
   "source": [
    "# Modeling of the KUKA Agilus KR6 R900 sixx"
   ]
  },
  {
   "cell_type": "markdown",
   "metadata": {},
   "source": [
    "![](kr6r900sixx/images/AGILUS_sixx_EX.jpg)"
   ]
  },
  {
   "cell_type": "markdown",
   "metadata": {},
   "source": [
    "## Working envelope"
   ]
  },
  {
   "cell_type": "markdown",
   "metadata": {},
   "source": [
    "![](kr6r900sixx/images/working_envelope.png)"
   ]
  },
  {
   "cell_type": "markdown",
   "metadata": {},
   "source": [
    "## Direction of rotation of robot axes"
   ]
  },
  {
   "cell_type": "markdown",
   "metadata": {},
   "source": [
    "![](kr6r900sixx/images/direction_of_rotation_of_robot_axes_cropped.png)"
   ]
  },
  {
   "cell_type": "markdown",
   "metadata": {},
   "source": [
    "![](kr6r900sixx/images/range_of_motion.png)"
   ]
  },
  {
   "cell_type": "markdown",
   "metadata": {},
   "source": [
    "## Denavit-Hartenberg parameters"
   ]
  },
  {
   "cell_type": "code",
   "execution_count": 4,
   "metadata": {},
   "outputs": [],
   "source": [
    "dh_a = np.array([0.025, 0.455, 0.035, 0.0, 0.0, 0.0])\n",
    "dh_alpha = np.array([-np.pi/2, 0.0, -np.pi/2, np.pi/2, -np.pi/2, 0.0])\n",
    "dh_d = np.array([0.4, 0.0, 0.0, 0.42, 0.0, 0.08])\n",
    "q_zero_offset = np.array([0.0,0.0,-np.pi/2,0.0,0.0,0.0])\n",
    "joint_direction = np.array([-1, 1, 1, -1, 1, -1])"
   ]
  },
  {
   "cell_type": "code",
   "execution_count": 5,
   "metadata": {},
   "outputs": [
    {
     "data": {
      "text/plain": [
       "array([[ 0.025   , -1.570796,  0.4     ,  0.      ],\n",
       "       [ 0.455   ,  0.      ,  0.      ,  0.      ],\n",
       "       [ 0.035   , -1.570796,  0.      , -1.570796],\n",
       "       [ 0.      ,  1.570796,  0.42    ,  0.      ],\n",
       "       [ 0.      , -1.570796,  0.      ,  0.      ],\n",
       "       [ 0.      ,  0.      ,  0.08    ,  0.      ]])"
      ]
     },
     "execution_count": 5,
     "metadata": {},
     "output_type": "execute_result"
    }
   ],
   "source": [
    "np.vstack((dh_a, dh_alpha, dh_d, q_zero_offset)).T"
   ]
  },
  {
   "cell_type": "code",
   "execution_count": 34,
   "metadata": {},
   "outputs": [
    {
     "name": "stdout",
     "output_type": "stream",
     "text": [
      "[ 0.       -1.570796  1.570796  0.        0.        0.      ]\n"
     ]
    }
   ],
   "source": [
    "q_home = np.array([0.0, -np.pi/2, np.pi/2, 0.0, 0.0, 0.0])\n",
    "print(q_home)"
   ]
  },
  {
   "cell_type": "code",
   "execution_count": 35,
   "metadata": {},
   "outputs": [
    {
     "name": "stdout",
     "output_type": "stream",
     "text": [
      "[0. 0. 0. 0. 0. 0.]\n"
     ]
    }
   ],
   "source": [
    "q_zero = np.array([0.0, 0.0, 0.0, 0.0, 0.0, 0.0])\n",
    "print(q_zero)"
   ]
  },
  {
   "cell_type": "code",
   "execution_count": 36,
   "metadata": {},
   "outputs": [],
   "source": [
    "def dh(a, alpha, d, theta):\n",
    "    ct = np.cos(theta)\n",
    "    st = np.sin(theta)\n",
    "    ca = np.cos(alpha)\n",
    "    sa = np.sin(alpha)\n",
    "    return np.array([[ct, -st * ca,  st * sa, a * ct],\n",
    "                     [st,  ct * ca, -ct * sa, a * st],\n",
    "                     [0.0,      sa,       ca, d],\n",
    "                     [0.0,     0.0,      0.0, 1.0]])"
   ]
  },
  {
   "cell_type": "markdown",
   "metadata": {},
   "source": [
    "## Link transformations"
   ]
  },
  {
   "cell_type": "code",
   "execution_count": 37,
   "metadata": {},
   "outputs": [],
   "source": [
    "A1 = dh(dh_a[0], dh_alpha[0], dh_d[0], q_home[0] + q_zero_offset[0])\n",
    "A2 = dh(dh_a[1], dh_alpha[1], dh_d[1], q_home[1] + q_zero_offset[1])\n",
    "A3 = dh(dh_a[2], dh_alpha[2], dh_d[2], q_home[2] + q_zero_offset[2])\n",
    "A4 = dh(dh_a[3], dh_alpha[3], dh_d[3], q_home[3] + q_zero_offset[3])\n",
    "A5 = dh(dh_a[4], dh_alpha[4], dh_d[4], q_home[4] + q_zero_offset[4])\n",
    "A6 = dh(dh_a[5], dh_alpha[5], dh_d[5], q_home[5] + q_zero_offset[5])"
   ]
  },
  {
   "cell_type": "markdown",
   "metadata": {},
   "source": [
    "## Forward Kinematics"
   ]
  },
  {
   "cell_type": "code",
   "execution_count": 38,
   "metadata": {},
   "outputs": [],
   "source": [
    "T01 = A1\n",
    "T02 = A1 @ A2\n",
    "T03 = A1 @ A2 @ A3\n",
    "T04 = A1 @ A2 @ A3 @ A4\n",
    "T05 = A1 @ A2 @ A3 @ A4 @ A5\n",
    "T06 = A1 @ A2 @ A3 @ A4 @ A5 @ A6"
   ]
  },
  {
   "cell_type": "code",
   "execution_count": 39,
   "metadata": {},
   "outputs": [
    {
     "name": "stdout",
     "output_type": "stream",
     "text": [
      "[[ 0.     1.     0.     0.025]\n",
      " [-0.     0.     1.    -0.   ]\n",
      " [ 1.    -0.     0.     0.855]\n",
      " [ 0.     0.     0.     1.   ]]\n"
     ]
    }
   ],
   "source": [
    "print(T02)"
   ]
  },
  {
   "cell_type": "markdown",
   "metadata": {},
   "source": [
    "## Visualization"
   ]
  },
  {
   "cell_type": "code",
   "execution_count": 71,
   "metadata": {
    "scrolled": false
   },
   "outputs": [
    {
     "data": {
      "application/vnd.jupyter.widget-view+json": {
       "model_id": "335c4ebf6a1b4b85abfe0f552b02fdd0",
       "version_major": 2,
       "version_minor": 0
      },
      "text/plain": [
       "Renderer(camera=PerspectiveCamera(aspect=1.5, children=(DirectionalLight(color='white', intensity=0.66, positi…"
      ]
     },
     "metadata": {},
     "output_type": "display_data"
    }
   ],
   "source": [
    "viewer = Viewer()\n",
    "grid = Grid()\n",
    "viewer.add(grid)"
   ]
  },
  {
   "cell_type": "code",
   "execution_count": 72,
   "metadata": {},
   "outputs": [],
   "source": [
    "base_link = BaseLink()\n",
    "viewer.add(base_link)"
   ]
  },
  {
   "cell_type": "code",
   "execution_count": 73,
   "metadata": {},
   "outputs": [],
   "source": [
    "link_1 = Link1()\n",
    "viewer.add(link_1)"
   ]
  },
  {
   "cell_type": "code",
   "execution_count": 74,
   "metadata": {},
   "outputs": [],
   "source": [
    "link_2 = Link2()\n",
    "viewer.add(link_2)"
   ]
  },
  {
   "cell_type": "code",
   "execution_count": 75,
   "metadata": {},
   "outputs": [],
   "source": [
    "link_3 = Link3()\n",
    "viewer.add(link_3)"
   ]
  },
  {
   "cell_type": "code",
   "execution_count": 76,
   "metadata": {},
   "outputs": [],
   "source": [
    "link_4 = Link4()\n",
    "link_4.add(Ball(color='white', radius=0.01))\n",
    "viewer.add(link_4)"
   ]
  },
  {
   "cell_type": "code",
   "execution_count": 46,
   "metadata": {},
   "outputs": [],
   "source": [
    "link_5 = Link5()\n",
    "viewer.add(link_5)"
   ]
  },
  {
   "cell_type": "code",
   "execution_count": 47,
   "metadata": {},
   "outputs": [],
   "source": [
    "link_6 = Link6()\n",
    "viewer.add(link_6)"
   ]
  },
  {
   "cell_type": "markdown",
   "metadata": {},
   "source": [
    "### Apply transformations"
   ]
  },
  {
   "cell_type": "code",
   "execution_count": 77,
   "metadata": {},
   "outputs": [],
   "source": [
    "link_1(T01)\n",
    "link_2(T02)\n",
    "link_3(T03)\n",
    "link_4(T04)\n",
    "link_5(T05)\n",
    "link_6(T06)"
   ]
  },
  {
   "cell_type": "markdown",
   "metadata": {},
   "source": [
    "## Inverse Kinematics"
   ]
  },
  {
   "cell_type": "code",
   "execution_count": 78,
   "metadata": {},
   "outputs": [],
   "source": [
    "def fk(dh_a, dh_alpha, dh_d, q_zero_offset, q):\n",
    "    A1 = dh(dh_a[0], dh_alpha[0], dh_d[0], q[0] + q_zero_offset[0])\n",
    "    A2 = dh(dh_a[1], dh_alpha[1], dh_d[1], q[1] + q_zero_offset[1])\n",
    "    A3 = dh(dh_a[2], dh_alpha[2], dh_d[2], q[2] + q_zero_offset[2])\n",
    "    A4 = dh(dh_a[3], dh_alpha[3], dh_d[3], q[3] + q_zero_offset[3])\n",
    "    A5 = dh(dh_a[4], dh_alpha[4], dh_d[4], q[4] + q_zero_offset[4])\n",
    "    A6 = dh(dh_a[5], dh_alpha[5], dh_d[5], q[5] + q_zero_offset[5])\n",
    "    T01 = A1\n",
    "    T02 = A1 @ A2\n",
    "    T03 = A1 @ A2 @ A3\n",
    "    T04 = A1 @ A2 @ A3 @ A4\n",
    "    T05 = A1 @ A2 @ A3 @ A4 @ A5\n",
    "    T06 = A1 @ A2 @ A3 @ A4 @ A5 @ A6\n",
    "    return (T01, T02, T03, T04, T05, T06)"
   ]
  },
  {
   "cell_type": "code",
   "execution_count": 81,
   "metadata": {},
   "outputs": [],
   "source": [
    "Ts = fk(dh_a, dh_alpha, dh_d, q_zero_offset, q_home)"
   ]
  },
  {
   "cell_type": "code",
   "execution_count": 82,
   "metadata": {},
   "outputs": [
    {
     "data": {
      "text/plain": [
       "array([[ 0.   ,  0.   ,  1.   ,  0.525],\n",
       "       [-0.   , -1.   ,  0.   ,  0.   ],\n",
       "       [ 1.   , -0.   , -0.   ,  0.89 ],\n",
       "       [ 0.   ,  0.   ,  0.   ,  1.   ]])"
      ]
     },
     "execution_count": 82,
     "metadata": {},
     "output_type": "execute_result"
    }
   ],
   "source": [
    "Ts[5]"
   ]
  },
  {
   "cell_type": "code",
   "execution_count": 86,
   "metadata": {},
   "outputs": [],
   "source": [
    "def ik(trf, dh_a, dh_alpha, dh_d, q_zero_offset, front=1, elbow=1, wrist=1):\n",
    "    ne = trf[:3,0]\n",
    "    se = trf[:3,1]\n",
    "    ae = trf[:3,2]\n",
    "    pe = trf[:3,3]\n",
    "\n",
    "    d1 = dh_d[0]\n",
    "    d4 = dh_d[3]\n",
    "    d6 = dh_d[5]\n",
    "\n",
    "    a1 = dh_a[0]\n",
    "    a2 = dh_a[1]\n",
    "    a3 = dh_a[2]\n",
    "    \n",
    "    l3 = np.sqrt(a3 * a3 + d4 * d4)\n",
    "\n",
    "    pw = pe - d6 * ae\n",
    "\n",
    "    q1 = np.arctan2(front * pw[1], front*pw[0])\n",
    "\n",
    "    pty = - (pw[2] - d1)\n",
    "    ptx = front * (np.sqrt(pw[0] * pw[0] + pw[1] * pw[1]) - front * a1)\n",
    "\n",
    "    c3 = (ptx * ptx + pty * pty - a2 * a2 - l3 * l3 ) / (2 * a2 * l3)\n",
    "    s3 = elbow * np.sqrt(1.0 - c3 * c3)\n",
    "    psi3 = np.arctan2(s3, c3)\n",
    "    offset3 = np.arctan2(a3, d4)\n",
    "    q3 = psi3 + offset3\n",
    "\n",
    "    den2 = (ptx * ptx + pty * pty)\n",
    "    c2 = (ptx * (a2 + l3 * c3) + pty * l3 * s3) / den2\n",
    "    s2 = (pty * (a2 + l3 * c3) - ptx * l3 * s3) / den2\n",
    "    q2 = np.arctan2(s2, c2)\n",
    "\n",
    "    T01, T02, T03, T04, T05, T06 = fk(dh_a, dh_alpha, dh_d, q_zero_offset, \n",
    "                                      np.array([q1, q2, q3, 0.0, 0.0, 0.0]))    \n",
    "\n",
    "    rot_0_3 = T03[:3,:3]\n",
    "    rot_3_6 = rot_0_3.T.dot(trf[:3,:3])\n",
    "\n",
    "    q4 = np.arctan2(wrist * rot_3_6[1,2], wrist * rot_3_6[0,2])\n",
    "    q5 = -np.arctan2(wrist * np.sqrt(rot_3_6[0,2] * rot_3_6[0,2] + rot_3_6[1,2] * rot_3_6[1,2]), rot_3_6[2,2])\n",
    "    q6 = np.arctan2(wrist * rot_3_6[2,1], -wrist * rot_3_6[2,0]) \n",
    "\n",
    "    return np.array([q1, q2, q3, q4, q5, q6])"
   ]
  },
  {
   "cell_type": "code",
   "execution_count": 87,
   "metadata": {},
   "outputs": [
    {
     "data": {
      "text/plain": [
       "array([ 0.      , -1.570796,  1.570796,  0.      ,  0.      ,  0.      ])"
      ]
     },
     "execution_count": 87,
     "metadata": {},
     "output_type": "execute_result"
    }
   ],
   "source": [
    "q_home"
   ]
  },
  {
   "cell_type": "code",
   "execution_count": 88,
   "metadata": {},
   "outputs": [
    {
     "data": {
      "text/plain": [
       "array([-0.      , -1.570796,  1.570796,  1.570796,  0.      , -1.570796])"
      ]
     },
     "execution_count": 88,
     "metadata": {},
     "output_type": "execute_result"
    }
   ],
   "source": [
    "q_ik = ik(T06, dh_a, dh_alpha, dh_d, q_zero_offset, wrist=-1)\n",
    "q_ik"
   ]
  },
  {
   "cell_type": "code",
   "execution_count": 96,
   "metadata": {},
   "outputs": [
    {
     "data": {
      "text/plain": [
       "array([[ 0.   ,  0.   ,  1.   ,  0.525],\n",
       "       [-0.   , -1.   ,  0.   , -0.   ],\n",
       "       [ 1.   , -0.   , -0.   ,  0.89 ],\n",
       "       [ 0.   ,  0.   ,  0.   ,  1.   ]])"
      ]
     },
     "execution_count": 96,
     "metadata": {},
     "output_type": "execute_result"
    }
   ],
   "source": [
    "T06_ik = fk(dh_a, dh_alpha, dh_d, q_zero_offset, q_ik)[5]\n",
    "T06_ik"
   ]
  },
  {
   "cell_type": "code",
   "execution_count": 97,
   "metadata": {},
   "outputs": [
    {
     "data": {
      "text/plain": [
       "array([[ 0.   ,  0.   ,  1.   ,  0.525],\n",
       "       [-0.   , -1.   ,  0.   ,  0.   ],\n",
       "       [ 1.   , -0.   , -0.   ,  0.89 ],\n",
       "       [ 0.   ,  0.   ,  0.   ,  1.   ]])"
      ]
     },
     "execution_count": 97,
     "metadata": {},
     "output_type": "execute_result"
    }
   ],
   "source": [
    "T06"
   ]
  },
  {
   "cell_type": "code",
   "execution_count": 98,
   "metadata": {},
   "outputs": [
    {
     "data": {
      "text/plain": [
       "True"
      ]
     },
     "execution_count": 98,
     "metadata": {},
     "output_type": "execute_result"
    }
   ],
   "source": [
    "np.allclose(T06, T06_ik)"
   ]
  },
  {
   "cell_type": "markdown",
   "metadata": {},
   "source": [
    "## Visualize Inverse Kinematics"
   ]
  },
  {
   "cell_type": "code",
   "execution_count": 143,
   "metadata": {},
   "outputs": [],
   "source": [
    "class AgilusVisualizer:\n",
    "    def __init__(self):\n",
    "        self.viewer = Viewer()\n",
    "        self.grid = Grid()\n",
    "        self.viewer.add(grid)\n",
    "        \n",
    "        self.two_robots = False\n",
    "        self.initialized = False\n",
    "        \n",
    "        self.base_link = BaseLink()\n",
    "        self.viewer.add(self.base_link)\n",
    "        self.link_1 = Link1()\n",
    "        self.viewer.add(self.link_1)\n",
    "        self.link_2 = Link2()\n",
    "        self.viewer.add(self.link_2)\n",
    "        self.link_3 = Link3()\n",
    "        self.viewer.add(self.link_3)\n",
    "        self.link_4 = Link4()\n",
    "        self.viewer.add(self.link_4)\n",
    "        self.link_5 = Link5()\n",
    "        self.viewer.add(self.link_5)\n",
    "        self.link_6 = Link6()\n",
    "        self.viewer.add(self.link_6)\n",
    "        \n",
    "    def show(self, q, q2=None):\n",
    "        if q2 is not None:\n",
    "            mat = self.link_1.mesh.children[0].material\n",
    "            mat.transparent = True\n",
    "            mat.opacity = 0.5\n",
    "            mat = self.link_2.mesh.children[0].material\n",
    "            mat.transparent = True\n",
    "            mat.opacity = 0.5\n",
    "            mat = self.link_3.mesh.children[0].material\n",
    "            mat.transparent = True\n",
    "            mat.opacity = 0.5\n",
    "            mat = self.link_4.mesh.children[0].material\n",
    "            mat.transparent = True\n",
    "            mat.opacity = 0.5\n",
    "            mat = self.link_5.mesh.children[0].material\n",
    "            mat.transparent = True\n",
    "            mat.opacity = 0.5\n",
    "            mat = self.link_6.mesh.children[0].material\n",
    "            mat.transparent = True\n",
    "            mat.opacity = 0.5\n",
    "            \n",
    "            if not self.two_robots:\n",
    "                self.base_link = BaseLink()\n",
    "                self.link_1_2 = Link1()\n",
    "                self.viewer.add(self.link_1_2)\n",
    "                self.link_2_2 = Link2()\n",
    "                self.viewer.add(self.link_2_2)\n",
    "                self.link_3_2 = Link3()\n",
    "                self.viewer.add(self.link_3_2)\n",
    "                self.link_4_2 = Link4()\n",
    "                self.viewer.add(self.link_4_2)\n",
    "                self.link_5_2 = Link5()\n",
    "                self.viewer.add(self.link_5_2)\n",
    "                self.link_6_2 = Link6()\n",
    "                self.viewer.add(self.link_6_2)\n",
    "                \n",
    "            self.two_robots = True\n",
    "                \n",
    "            T01, T02, T03, T04, T05, T06 = fk(dh_a, dh_alpha, dh_d, q_zero_offset, q2)\n",
    "            self.link_1_2(T01)\n",
    "            self.link_2_2(T02)\n",
    "            self.link_3_2(T03)\n",
    "            self.link_4_2(T04)\n",
    "            self.link_5_2(T05)\n",
    "            self.link_6_2(T06)\n",
    "            \n",
    "        T01, T02, T03, T04, T05, T06 = fk(dh_a, dh_alpha, dh_d, q_zero_offset, q)\n",
    "        self.link_1(T01)\n",
    "        self.link_2(T02)\n",
    "        self.link_3(T03)\n",
    "        self.link_4(T04)\n",
    "        self.link_5(T05)\n",
    "        self.link_6(T06)"
   ]
  },
  {
   "cell_type": "code",
   "execution_count": 144,
   "metadata": {},
   "outputs": [
    {
     "data": {
      "application/vnd.jupyter.widget-view+json": {
       "model_id": "e821c1eb5ecf45f280062a90c98aa009",
       "version_major": 2,
       "version_minor": 0
      },
      "text/plain": [
       "Renderer(camera=PerspectiveCamera(aspect=1.5, children=(DirectionalLight(color='white', intensity=0.66, positi…"
      ]
     },
     "metadata": {},
     "output_type": "display_data"
    }
   ],
   "source": [
    "vis = AgilusVisualizer()"
   ]
  },
  {
   "cell_type": "code",
   "execution_count": 145,
   "metadata": {},
   "outputs": [],
   "source": [
    "vis.show(q_home)"
   ]
  },
  {
   "cell_type": "code",
   "execution_count": 146,
   "metadata": {},
   "outputs": [],
   "source": [
    "vis.show(q_zero)"
   ]
  },
  {
   "cell_type": "code",
   "execution_count": 147,
   "metadata": {},
   "outputs": [],
   "source": [
    "q = np.array([1,-np.pi/2,np.pi/2,-2,1,1])"
   ]
  },
  {
   "cell_type": "code",
   "execution_count": 148,
   "metadata": {},
   "outputs": [],
   "source": [
    "vis.show(q)"
   ]
  },
  {
   "cell_type": "code",
   "execution_count": 149,
   "metadata": {},
   "outputs": [
    {
     "name": "stdout",
     "output_type": "stream",
     "text": [
      "[[-0.272382 -0.223901  0.935776  0.315297]\n",
      " [ 0.715197 -0.697706  0.041238  0.377754]\n",
      " [ 0.643663  0.680496  0.350175  0.918014]\n",
      " [ 0.        0.        0.        1.      ]]\n"
     ]
    }
   ],
   "source": [
    "Ts = fk(dh_a, dh_alpha, dh_d, q_zero_offset, q)\n",
    "T = Ts[5]\n",
    "print(T)"
   ]
  },
  {
   "cell_type": "code",
   "execution_count": 114,
   "metadata": {},
   "outputs": [
    {
     "data": {
      "text/plain": [
       "array([-2.141593, -2.989286,  1.453524,  2.195963,  1.233396, -0.843534])"
      ]
     },
     "execution_count": 114,
     "metadata": {},
     "output_type": "execute_result"
    }
   ],
   "source": [
    "q_ik = ik(T, dh_a, dh_alpha, dh_d, q_zero_offset, wrist=-1, front=-1, elbow=1)\n",
    "q_ik"
   ]
  },
  {
   "cell_type": "code",
   "execution_count": 115,
   "metadata": {},
   "outputs": [],
   "source": [
    "vis.show(q_ik)"
   ]
  },
  {
   "cell_type": "code",
   "execution_count": 116,
   "metadata": {},
   "outputs": [],
   "source": [
    "vis.show(q, q_ik)"
   ]
  },
  {
   "cell_type": "markdown",
   "metadata": {},
   "source": [
    "## Iterative Inverse Kinematics"
   ]
  },
  {
   "cell_type": "code",
   "execution_count": 117,
   "metadata": {},
   "outputs": [],
   "source": [
    "def Jacobian(Ts):\n",
    "    p0 = np.array([0, 0, 0])\n",
    "    z0 = np.array([0, 0, 1])\n",
    "    pn = Ts[5][:3, 3]\n",
    "    J = np.zeros((6, 6))\n",
    "    J[:3, 0] = np.cross(z0, pn-p0)\n",
    "    J[3:, 0] = z0\n",
    "    for i in range(5):\n",
    "        T = Ts[i]\n",
    "        zi = T[:3, 2]\n",
    "        pi = T[:3, 3]\n",
    "        J[:3, i+1] = np.cross(zi, pn-pi)\n",
    "        J[3:, i+1] = zi \n",
    "    return J"
   ]
  },
  {
   "cell_type": "code",
   "execution_count": 119,
   "metadata": {},
   "outputs": [
    {
     "data": {
      "text/plain": [
       "array([[-0.377754,  0.279884,  0.034047,  0.023573, -0.003299, -0.      ],\n",
       "       [ 0.315297,  0.435894,  0.053024, -0.015136, -0.077882, -0.      ],\n",
       "       [ 0.      , -0.463224, -0.463224, -0.061212,  0.017988,  0.      ],\n",
       "       [ 0.      , -0.841471, -0.841471,  0.540302,  0.350175,  0.935776],\n",
       "       [ 0.      ,  0.540302,  0.540302,  0.841471, -0.224845,  0.041238],\n",
       "       [ 1.      ,  0.      ,  0.      , -0.      , -0.909297,  0.350175]])"
      ]
     },
     "execution_count": 119,
     "metadata": {},
     "output_type": "execute_result"
    }
   ],
   "source": [
    "Jacobian(Ts)"
   ]
  },
  {
   "cell_type": "code",
   "execution_count": 155,
   "metadata": {},
   "outputs": [],
   "source": [
    "def ik_iterative(trf, q0):\n",
    "    Rd = trf[:3,:3]\n",
    "    qk = q0\n",
    "    qs = []\n",
    "    for i in range(1000):\n",
    "        Ts = fk(dh_a, dh_alpha, dh_d, q_zero_offset, qk)\n",
    "        Tk = Ts[5]\n",
    "        Jk = Jacobian(Ts)\n",
    "        Rk = Tk[:3,:3]\n",
    "        Re = Rd @ Rk.T\n",
    "        ep = trf[:3,3] - Tk[:3,3]\n",
    "        eo = np.array([Re[2,1] - Re[1,2], \n",
    "                       Re[0,2]-  Re[2,0], \n",
    "                       Re[1,0] - Re[0,1]]) * 0.5\n",
    "\n",
    "        e = np.array((ep, eo)).reshape(6,1)\n",
    "\n",
    "        K = 0.1\n",
    "        dq = K * np.dot(np.linalg.pinv(Jk),e).ravel()\n",
    "        qk = qk + dq \n",
    "        qs.append(qk)\n",
    "\n",
    "        if np.linalg.norm(e) < 1e-3:\n",
    "            print(i)\n",
    "            break\n",
    "    return qk, qs"
   ]
  },
  {
   "cell_type": "code",
   "execution_count": 166,
   "metadata": {},
   "outputs": [
    {
     "name": "stdout",
     "output_type": "stream",
     "text": [
      "71\n"
     ]
    },
    {
     "data": {
      "text/plain": [
       "array([ 0.999418, -1.570958,  1.571034, -1.999392,  0.999819,  0.999784])"
      ]
     },
     "execution_count": 166,
     "metadata": {},
     "output_type": "execute_result"
    }
   ],
   "source": [
    "q_ik_it, qs = ik_iterative(T, np.array([0,-1,1,-1,1,0]))\n",
    "q_ik_it"
   ]
  },
  {
   "cell_type": "code",
   "execution_count": null,
   "metadata": {},
   "outputs": [],
   "source": []
  },
  {
   "cell_type": "code",
   "execution_count": 167,
   "metadata": {},
   "outputs": [],
   "source": [
    "import matplotlib.pyplot as plt"
   ]
  },
  {
   "cell_type": "code",
   "execution_count": 168,
   "metadata": {},
   "outputs": [
    {
     "data": {
      "text/plain": [
       "[<matplotlib.lines.Line2D at 0x1378fe780>,\n",
       " <matplotlib.lines.Line2D at 0x1378fe8d0>,\n",
       " <matplotlib.lines.Line2D at 0x1378fea20>,\n",
       " <matplotlib.lines.Line2D at 0x1378feb70>,\n",
       " <matplotlib.lines.Line2D at 0x1378fecc0>,\n",
       " <matplotlib.lines.Line2D at 0x1378fee10>]"
      ]
     },
     "execution_count": 168,
     "metadata": {},
     "output_type": "execute_result"
    },
    {
     "data": {
      "image/png": "[encoded data removed]",
      "text/plain": [
       "<Figure size 432x288 with 1 Axes>"
      ]
     },
     "metadata": {
      "needs_background": "light"
     },
     "output_type": "display_data"
    }
   ],
   "source": [
    "plt.plot(np.array(qs))"
   ]
  },
  {
   "cell_type": "code",
   "execution_count": 169,
   "metadata": {},
   "outputs": [
    {
     "data": {
      "text/plain": [
       "array([[-0.271653, -0.223847,  0.936001,  0.315494],\n",
       "       [ 0.715331, -0.697595,  0.040777,  0.377517],\n",
       "       [ 0.643821,  0.680628,  0.349628,  0.917938],\n",
       "       [ 0.      ,  0.      ,  0.      ,  1.      ]])"
      ]
     },
     "execution_count": 169,
     "metadata": {},
     "output_type": "execute_result"
    }
   ],
   "source": [
    "fk(dh_a, dh_alpha, dh_d, q_zero_offset, q_ik_it)[5]"
   ]
  },
  {
   "cell_type": "code",
   "execution_count": 170,
   "metadata": {},
   "outputs": [
    {
     "data": {
      "text/plain": [
       "array([[-0.272382, -0.223901,  0.935776,  0.315297],\n",
       "       [ 0.715197, -0.697706,  0.041238,  0.377754],\n",
       "       [ 0.643663,  0.680496,  0.350175,  0.918014],\n",
       "       [ 0.      ,  0.      ,  0.      ,  1.      ]])"
      ]
     },
     "execution_count": 170,
     "metadata": {},
     "output_type": "execute_result"
    }
   ],
   "source": [
    "fk(dh_a, dh_alpha, dh_d, q_zero_offset, q_ik)[5]"
   ]
  },
  {
   "cell_type": "code",
   "execution_count": 171,
   "metadata": {},
   "outputs": [
    {
     "data": {
      "application/vnd.jupyter.widget-view+json": {
       "model_id": "5022c131a7c34e6f887b9fa438686ec1",
       "version_major": 2,
       "version_minor": 0
      },
      "text/plain": [
       "Renderer(camera=PerspectiveCamera(aspect=1.5, children=(DirectionalLight(color='white', intensity=0.66, positi…"
      ]
     },
     "metadata": {},
     "output_type": "display_data"
    }
   ],
   "source": [
    "vis2 = AgilusVisualizer()"
   ]
  },
  {
   "cell_type": "code",
   "execution_count": 173,
   "metadata": {},
   "outputs": [],
   "source": [
    "for q in qs:\n",
    "    vis2.show(q_ik, q)\n",
    "    time.sleep(0.01)"
   ]
  },
  {
   "cell_type": "code",
   "execution_count": 139,
   "metadata": {},
   "outputs": [],
   "source": [
    "import time"
   ]
  },
  {
   "cell_type": "code",
   "execution_count": null,
   "metadata": {},
   "outputs": [],
   "source": []
  }
 ],
 "metadata": {
  "kernelspec": {
   "display_name": "Python 3",
   "language": "python",
   "name": "python3"
  },
  "language_info": {
   "codemirror_mode": {
    "name": "ipython",
    "version": 3
   },
   "file_extension": ".py",
   "mimetype": "text/x-python",
   "name": "python",
   "nbconvert_exporter": "python",
   "pygments_lexer": "ipython3",
   "version": "3.6.5"
  }
 },
 "nbformat": 4,
 "nbformat_minor": 2
}
