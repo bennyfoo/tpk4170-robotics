{
 "cells": [
  {
   "cell_type": "code",
   "execution_count": 6,
   "metadata": {},
   "outputs": [],
   "source": [
    "import numpy as np\n",
    "import cv2 as cv\n",
    "from glob import glob"
   ]
  },
  {
   "cell_type": "code",
   "execution_count": 9,
   "metadata": {},
   "outputs": [],
   "source": [
    "img_mask = './images/left??.jpg'"
   ]
  },
  {
   "cell_type": "code",
   "execution_count": 11,
   "metadata": {},
   "outputs": [],
   "source": [
    "img_names = glob(img_mask)"
   ]
  },
  {
   "cell_type": "code",
   "execution_count": 13,
   "metadata": {},
   "outputs": [],
   "source": [
    "square_size = 1.0\n",
    "\n",
    "pattern_size = (9, 6)\n",
    "pattern_points = np.zeros((np.prod(pattern_size), 3), np.float32)\n",
    "pattern_points[:, :2] = np.indices(pattern_size).T.reshape(-1, 2)\n",
    "pattern_points *= square_size\n",
    "\n",
    "obj_points = []\n",
    "img_points = []\n",
    "h, w = cv.imread(img_names[0], 0).shape[:2]"
   ]
  },
  {
   "cell_type": "code",
   "execution_count": 16,
   "metadata": {},
   "outputs": [],
   "source": [
    "def processImage(fn):\n",
    "    print('processing %s... ' % fn)\n",
    "    img = cv.imread(fn, 0)\n",
    "    if img is None:\n",
    "        print(\"Failed to load\", fn)\n",
    "        return None\n",
    "\n",
    "    assert w == img.shape[1] and h == img.shape[0], (\"size: %d x %d ... \" % (img.shape[1], img.shape[0]))\n",
    "    found, corners = cv.findChessboardCorners(img, pattern_size)\n",
    "    if found:\n",
    "        term = (cv.TERM_CRITERIA_EPS + cv.TERM_CRITERIA_COUNT, 30, 0.1)\n",
    "        cv.cornerSubPix(img, corners, (5, 5), (-1, -1), term)\n",
    "\n",
    "#     if debug_dir:\n",
    "#         vis = cv.cvtColor(img, cv.COLOR_GRAY2BGR)\n",
    "#         cv.drawChessboardCorners(vis, pattern_size, corners, found)\n",
    "#         _path, name, _ext = splitfn(fn)\n",
    "#         outfile = os.path.join(debug_dir, name + '_chess.png')\n",
    "#         cv.imwrite(outfile, vis)\n",
    "\n",
    "    if not found:\n",
    "        print('chessboard not found')\n",
    "        return None\n",
    "\n",
    "    print('           %s... OK' % fn)\n",
    "    return (corners.reshape(-1, 2), pattern_points)"
   ]
  },
  {
   "cell_type": "code",
   "execution_count": 19,
   "metadata": {},
   "outputs": [
    {
     "name": "stdout",
     "output_type": "stream",
     "text": [
      "processing ./images/left09.jpg... \n",
      "           ./images/left09.jpg... OK\n",
      "processing ./images/left08.jpg... \n",
      "           ./images/left08.jpg... OK\n",
      "processing ./images/left14.jpg... \n",
      "           ./images/left14.jpg... OK\n",
      "processing ./images/left01.jpg... \n",
      "           ./images/left01.jpg... OK\n",
      "processing ./images/left03.jpg... \n",
      "           ./images/left03.jpg... OK\n",
      "processing ./images/left02.jpg... \n",
      "           ./images/left02.jpg... OK\n",
      "processing ./images/left12.jpg... \n",
      "           ./images/left12.jpg... OK\n",
      "processing ./images/left06.jpg... \n",
      "           ./images/left06.jpg... OK\n",
      "processing ./images/left07.jpg... \n",
      "           ./images/left07.jpg... OK\n",
      "processing ./images/left13.jpg... \n",
      "           ./images/left13.jpg... OK\n",
      "processing ./images/left05.jpg... \n",
      "           ./images/left05.jpg... OK\n",
      "processing ./images/left11.jpg... \n",
      "           ./images/left11.jpg... OK\n",
      "processing ./images/left04.jpg... \n",
      "           ./images/left04.jpg... OK\n"
     ]
    }
   ],
   "source": [
    "chessboards = [processImage(fn) for fn in img_names]"
   ]
  },
  {
   "cell_type": "code",
   "execution_count": 20,
   "metadata": {},
   "outputs": [],
   "source": [
    "chessboards = [x for x in chessboards if x is not None]\n",
    "for (corners, pattern_points) in chessboards:\n",
    "    img_points.append(corners)\n",
    "    obj_points.append(pattern_points)"
   ]
  },
  {
   "cell_type": "code",
   "execution_count": 22,
   "metadata": {},
   "outputs": [
    {
     "name": "stdout",
     "output_type": "stream",
     "text": [
      "\n",
      "RMS: 0.19643790890334045\n",
      "camera matrix:\n",
      " [[532.79536562   0.         342.45825163]\n",
      " [  0.         532.91928338 233.90060514]\n",
      " [  0.           0.           1.        ]]\n",
      "distortion coefficients:  [-2.81086258e-01  2.72581010e-02  1.21665908e-03 -1.34204274e-04\n",
      "  1.58514023e-01]\n"
     ]
    }
   ],
   "source": [
    "# calculate camera distortion\n",
    "rms, camera_matrix, dist_coefs, rvecs, tvecs = cv.calibrateCamera(obj_points, img_points, (w, h), None, None)\n",
    "\n",
    "print(\"\\nRMS:\", rms)\n",
    "print(\"camera matrix:\\n\", camera_matrix)\n",
    "print(\"distortion coefficients: \", dist_coefs.ravel())"
   ]
  },
  {
   "cell_type": "code",
   "execution_count": null,
   "metadata": {},
   "outputs": [],
   "source": []
  }
 ],
 "metadata": {
  "kernelspec": {
   "display_name": "Python 3",
   "language": "python",
   "name": "python3"
  },
  "language_info": {
   "codemirror_mode": {
    "name": "ipython",
    "version": 3
   },
   "file_extension": ".py",
   "mimetype": "text/x-python",
   "name": "python",
   "nbconvert_exporter": "python",
   "pygments_lexer": "ipython3",
   "version": "3.6.5"
  }
 },
 "nbformat": 4,
 "nbformat_minor": 2
}
