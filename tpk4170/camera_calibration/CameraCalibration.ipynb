{
 "cells": [
  {
   "cell_type": "code",
   "execution_count": null,
   "metadata": {},
   "outputs": [],
   "source": [
    "import os\n",
    "from glob import glob"
   ]
  },
  {
   "cell_type": "code",
   "execution_count": null,
   "metadata": {},
   "outputs": [],
   "source": [
    "import numpy as np\n",
    "np.set_printoptions(suppress=True)\n",
    "import cv2 as cv"
   ]
  },
  {
   "cell_type": "code",
   "execution_count": null,
   "metadata": {},
   "outputs": [],
   "source": [
    "import matplotlib as mpl\n",
    "import matplotlib.pyplot as plt\n",
    "mpl.rcParams['figure.dpi'] = 150"
   ]
  },
  {
   "cell_type": "code",
   "execution_count": null,
   "metadata": {},
   "outputs": [],
   "source": [
    "from tpk4170.visualization import Viewer\n",
    "from tpk4170.models import Grid, Axes\n",
    "from tpk4170.utils.transformations import quaternion_from_matrix\n",
    "from tpk4170.utils import splitfn"
   ]
  },
  {
   "cell_type": "markdown",
   "metadata": {},
   "source": [
    "# Camera calibration\n",
    "Adapted from the camera calibration tutorial found [here](https://docs.opencv.org/3.4.3/dc/dbb/tutorial_py_calibration.htm)."
   ]
  },
  {
   "cell_type": "markdown",
   "metadata": {},
   "source": [
    "## Goals\n",
    "You will learn about:\n",
    "1. types of distortion caused by cameras\n",
    "2. how to find the intrinsic and extrinsic properties of a camera\n",
    "3. how to undistort images based off these properties"
   ]
  },
  {
   "cell_type": "markdown",
   "metadata": {},
   "source": [
    "## Basics\n",
    "Some pinhole cameras introduce significant distortion to images. Two major kinds of distortion are:\n",
    "- **radial distortion** \n",
    "- **tangential distortion**."
   ]
  },
  {
   "cell_type": "markdown",
   "metadata": {},
   "source": [
    "### Radial distortion\n",
    "\n",
    "Radial distortion causes straight lines to appear curved. Radial distortion becomes larger the farther points are from the center of the image. \n",
    "\n",
    "For example, one image is shown below in which two edges of a chess board are marked with red lines. But, you can see that the border of the chess board is not a straight line and doesn't match with the red line. All the expected straight lines are bulged out. \n",
    "\n",
    "![](https://docs.opencv.org/3.4.3/calib_radial.jpg)"
   ]
  },
  {
   "cell_type": "markdown",
   "metadata": {},
   "source": [
    "Radial distortion can be represented as follows:\n",
    "\\begin{align}\n",
    "x_{\\text{distorted}} &= x( 1 + k_1 r^2 + k_2 r^4 + k_3 r^6) \\\\ \n",
    "y_{\\text{distorted}} &= y( 1 + k_1 r^2 + k_2 r^4 + k_3 r^6)\n",
    "\\end{align}"
   ]
  },
  {
   "cell_type": "markdown",
   "metadata": {},
   "source": [
    "### Tangential distortion\n",
    "Tangential distortion occurs because the image-taking lense is not aligned perfectly parallel to the imaging plane. So, some areas in the image may look nearer than expected. The amount of tangential distortion can be represented as below:\n",
    "\\begin{align}\n",
    "x_{\\text{distorted}} &= x + [ 2p_1xy + p_2(r^2+2x^2)] \\\\ \n",
    "y_{\\text{distorted}} &= y + [ p_1(r^2+ 2y^2)+ 2p_2xy]\n",
    "\\end{align}"
   ]
  },
  {
   "cell_type": "markdown",
   "metadata": {},
   "source": [
    "### Distortion coefficients\n",
    "In short, we need to find five parameters, known as distortion coefficients given by:\n",
    "```python\n",
    "dist_coeffs = [k1, k2, p1, p2, k3]\n",
    "```"
   ]
  },
  {
   "cell_type": "markdown",
   "metadata": {},
   "source": [
    "### Camera parameters\n",
    "\n",
    "You alse need to some other information, like the **intrinsic** and **extrinsic** parameters of the camera. \n",
    "\n",
    "Intrinsic parameters are specific to a camera. They include information like focal length $(f_x, f_y)$ and optical centers $(c_x,c_y)$. The focal length and optical centers can be used to create a camera matrix, which can be used to remove distortion due to the lenses of a specific camera. The camera matrix is unique to a specific camera, so once calculated, it can be reused on other images taken by the same camera. It is expressed as a 3x3 matrix:\n",
    "\n",
    "\\begin{align}\n",
    "K = \\left [ \\begin{matrix} f_x & 0 & c_x \\\\ 0 & f_y & c_y \\\\ 0 & 0 & 1 \\end{matrix} \\right ]\n",
    "\\end{align}\n",
    "\n",
    "Extrinsic parameters corresponds to rotation and translation vectors which translates a coordinates of a 3D point to a coordinate system.\n",
    "\n",
    "To find these parameters, we must provide some sample images of a well defined pattern (e.g. a chess board). We find some specific points of which we already know the relative positions (e.g. square corners in the chess board). We know the coordinates of these points in real world space and we know the coordinates in the image, so we can solve for the distortion coefficients. For better results, we need at least 10 test patterns."
   ]
  },
  {
   "cell_type": "markdown",
   "metadata": {},
   "source": [
    "## Code\n",
    "\n",
    "We need at least 10 test patterns for camera calibration. OpenCV comes with some images of a chess board.\n",
    "\n",
    "Consider an image of a chess board. The important input data needed for calibration of the camera is the set of 3D real world points and the corresponding 2D coordinates of these points in the image. These image points are locations where two black squares touch each other on the chess board.\n",
    "\n",
    "The images are taken from a static camera and chess boards are placed at different locations and orientations. We need to know (X,Y,Z) values. For simplicity, we can say chess board was kept stationary at XY plane, (so Z=0 always) and camera was moved accordingly. This consideration helps us to find only X,Y values. Now for X,Y values, we can simply pass the points as (0,0), (1,0), (2,0), ... which denotes the location of points. \n",
    "\n",
    "In this case, the results we get will be in the scale of size of chess board square. But if we know the square size, (say 30 mm), we can pass the values as (0,0), (30,0), (60,0), ... . Thus, we get the results in mm. In this case, we don't know square size since we didn't take those images, so we pass in terms of square size.\n",
    "\n",
    "3D points are called **object points** and 2D image points are called **image points**."
   ]
  },
  {
   "cell_type": "markdown",
   "metadata": {},
   "source": [
    "### Load image file names"
   ]
  },
  {
   "cell_type": "code",
   "execution_count": null,
   "metadata": {},
   "outputs": [],
   "source": [
    "img_mask = './images/left??.jpg'\n",
    "img_names = glob(img_mask)\n",
    "print(img_names)"
   ]
  },
  {
   "cell_type": "markdown",
   "metadata": {},
   "source": [
    "### Create object points\n",
    "Prepare object points, like (0,0,0), (1,0,0), (2,0,0) ....,(6,5,0)"
   ]
  },
  {
   "cell_type": "code",
   "execution_count": null,
   "metadata": {},
   "outputs": [],
   "source": [
    "# square_size = 1\n",
    "square_size = 0.05\n",
    "pattern_size = (9, 6)\n",
    "pattern_points = np.zeros((np.prod(pattern_size), 3), np.float32)\n",
    "pattern_points[:, :2] = np.indices(pattern_size).T.reshape(-1, 2)\n",
    "pattern_points *= square_size\n",
    "print(pattern_points[34:40])"
   ]
  },
  {
   "cell_type": "markdown",
   "metadata": {},
   "source": [
    "### Process image"
   ]
  },
  {
   "cell_type": "markdown",
   "metadata": {},
   "source": [
    "To find a chess board pattern, we can use the function `cv.findChessboardCorners()`. \n",
    "\n",
    "We need to pass what kind of pattern we are looking for, like 8x8 grid, 5x5 grid etc. In this example, we use 9x6 grid. It returns the corner points and retval which will be True if the pattern is obtained. These corners will be placed in an order from left-to-right and top-to-bottom."
   ]
  },
  {
   "cell_type": "code",
   "execution_count": null,
   "metadata": {},
   "outputs": [],
   "source": [
    "def process_image(fn, debug=False):\n",
    "\n",
    "    #  Read image from file\n",
    "    img = cv.imread(fn, 0)\n",
    "    if img is None:\n",
    "        print(\"Failed to load\", fn)\n",
    "        return None\n",
    "\n",
    "    #  Locate chessboard corners in images\n",
    "    found, corners = cv.findChessboardCorners(img, pattern_size)\n",
    "    if found:\n",
    "        term = (cv.TERM_CRITERIA_EPS + cv.TERM_CRITERIA_COUNT, 30, 0.001)\n",
    "        cv.cornerSubPix(img, corners, (5, 5), (-1, -1), term)\n",
    "\n",
    "    #  Debug: Draw chessboard on image\n",
    "    if debug:\n",
    "        vis = cv.cvtColor(img, cv.COLOR_GRAY2BGR)\n",
    "        cv.drawChessboardCorners(vis, pattern_size, corners, found)\n",
    "        _path, name, _ext = splitfn(fn)\n",
    "        outfile = os.path.join(_path, name + '_chess.png')\n",
    "        cv.imwrite(outfile, vis)\n",
    "\n",
    "    #  Return None if the chessboard is not founf\n",
    "    if not found:\n",
    "        print('Chessboard not found')\n",
    "        return None\n",
    "\n",
    "    #  Print status\n",
    "    print('{}... OK'.format(fn))\n",
    "\n",
    "    return (corners.reshape(-1, 2), pattern_points)"
   ]
  },
  {
   "cell_type": "code",
   "execution_count": null,
   "metadata": {},
   "outputs": [],
   "source": [
    "chessboards = [process_image(fn, debug=True) for fn in img_names]\n",
    "chessboards = [x for x in chessboards if x is not None]"
   ]
  },
  {
   "cell_type": "code",
   "execution_count": null,
   "metadata": {},
   "outputs": [],
   "source": [
    "img = cv.imread('./images/left09.jpg')\n",
    "plt.imshow(img);"
   ]
  },
  {
   "cell_type": "code",
   "execution_count": null,
   "metadata": {},
   "outputs": [],
   "source": [
    "img_chess = cv.imread('./images/left09_chess.png')\n",
    "plt.imshow(img_chess);"
   ]
  },
  {
   "cell_type": "code",
   "execution_count": null,
   "metadata": {},
   "outputs": [],
   "source": [
    "# Split image points and objects points\n",
    "img_points = []\n",
    "obj_points = []\n",
    "for (corners, pattern_points) in chessboards:\n",
    "    img_points.append(corners)\n",
    "    obj_points.append(pattern_points)"
   ]
  },
  {
   "cell_type": "code",
   "execution_count": null,
   "metadata": {},
   "outputs": [],
   "source": [
    "# Find the size of the image\n",
    "img_size = cv.imread(img_names[0], 0).shape[:2]\n",
    "print(img_size)"
   ]
  },
  {
   "cell_type": "markdown",
   "metadata": {},
   "source": [
    "### Calibrate the camera parameters"
   ]
  },
  {
   "cell_type": "code",
   "execution_count": null,
   "metadata": {},
   "outputs": [],
   "source": [
    "rms, camera_matrix, dist_coeffs, rvecs, tvecs = cv.calibrateCamera(obj_points, img_points, img_size, None, None)"
   ]
  },
  {
   "cell_type": "markdown",
   "metadata": {},
   "source": [
    "#### RMS"
   ]
  },
  {
   "cell_type": "code",
   "execution_count": null,
   "metadata": {},
   "outputs": [],
   "source": [
    "print(rms)"
   ]
  },
  {
   "cell_type": "markdown",
   "metadata": {},
   "source": [
    "#### Camera matrix"
   ]
  },
  {
   "cell_type": "code",
   "execution_count": null,
   "metadata": {},
   "outputs": [],
   "source": [
    "print(camera_matrix)"
   ]
  },
  {
   "cell_type": "markdown",
   "metadata": {},
   "source": [
    "#### Distortion coefficients"
   ]
  },
  {
   "cell_type": "code",
   "execution_count": null,
   "metadata": {},
   "outputs": [],
   "source": [
    "print(dist_coeffs.ravel())"
   ]
  },
  {
   "cell_type": "markdown",
   "metadata": {},
   "source": [
    "### Undistort"
   ]
  },
  {
   "cell_type": "code",
   "execution_count": null,
   "metadata": {},
   "outputs": [],
   "source": [
    "# undistort\n",
    "img_undistorted = cv.undistort(img, camera_matrix, dist_coeffs)"
   ]
  },
  {
   "cell_type": "code",
   "execution_count": null,
   "metadata": {},
   "outputs": [],
   "source": [
    "plt.imshow(img_undistorted);"
   ]
  },
  {
   "cell_type": "markdown",
   "metadata": {},
   "source": [
    "### Reprojection error"
   ]
  },
  {
   "cell_type": "code",
   "execution_count": null,
   "metadata": {},
   "outputs": [],
   "source": [
    "img_points2, _ = cv.projectPoints(obj_points[-1], rvecs[-1], tvecs[-1], camera_matrix, dist_coeffs)\n",
    "img_points2 = img_points2.reshape(-1,2)"
   ]
  },
  {
   "cell_type": "code",
   "execution_count": null,
   "metadata": {},
   "outputs": [],
   "source": [
    "img_repr = cv.imread(img_names[-1])\n",
    "for (cx, cy) in img_points2:\n",
    "    img_repr = cv.circle(img_repr, (cx, cy), 2, (255,0,0), -1)\n",
    "plt.imshow(img_repr);"
   ]
  },
  {
   "cell_type": "code",
   "execution_count": null,
   "metadata": {},
   "outputs": [],
   "source": [
    "plt.scatter(img_points[-1][:,0], img_points[-1][:,1], marker='x');\n",
    "plt.scatter(img_points2[:,0], img_points2[:,1], marker='+');"
   ]
  },
  {
   "cell_type": "code",
   "execution_count": null,
   "metadata": {},
   "outputs": [],
   "source": [
    "tot_error = 0\n",
    "for i in range(len(obj_points)):\n",
    "    img_points2, _ = cv.projectPoints(obj_points[i], rvecs[i], tvecs[i], camera_matrix, dist_coeffs)\n",
    "    img_points2 = img_points2.reshape(-1,2)\n",
    "    error = cv.norm(img_points[i], img_points2, cv.NORM_L2) / len(img_points2)\n",
    "    tot_error += error\n",
    "print(\"error: \", tot_error / len(obj_points))"
   ]
  },
  {
   "cell_type": "markdown",
   "metadata": {},
   "source": [
    "### Show extrinsic parameters"
   ]
  },
  {
   "cell_type": "code",
   "execution_count": null,
   "metadata": {},
   "outputs": [],
   "source": [
    "vis = Viewer()\n",
    "vis.add(Grid())\n",
    "vis.add(Axes(0.3))"
   ]
  },
  {
   "cell_type": "code",
   "execution_count": null,
   "metadata": {},
   "outputs": [],
   "source": [
    "for rvec, tvec in zip(rvecs, tvecs):\n",
    "    axes = Axes(0.3)\n",
    "    R = np.eye(4)\n",
    "    R[:3, :3] = cv.Rodrigues(rvec)[0]\n",
    "    axes.quaternion = quaternion_from_matrix(R).tolist()\n",
    "    axes.position = tvec.ravel().tolist()\n",
    "    vis.add(axes)"
   ]
  },
  {
   "cell_type": "code",
   "execution_count": null,
   "metadata": {},
   "outputs": [],
   "source": []
  }
 ],
 "metadata": {
  "kernelspec": {
   "display_name": "Python 3",
   "language": "python",
   "name": "python3"
  },
  "language_info": {
   "codemirror_mode": {
    "name": "ipython",
    "version": 3
   },
   "file_extension": ".py",
   "mimetype": "text/x-python",
   "name": "python",
   "nbconvert_exporter": "python",
   "pygments_lexer": "ipython3",
   "version": "3.6.5"
  }
 },
 "nbformat": 4,
 "nbformat_minor": 2
}
