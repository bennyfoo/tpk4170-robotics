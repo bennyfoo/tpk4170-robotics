{
 "cells": [
  {
   "cell_type": "code",
   "execution_count": 1,
   "metadata": {},
   "outputs": [],
   "source": [
    "from glob import glob"
   ]
  },
  {
   "cell_type": "code",
   "execution_count": 2,
   "metadata": {},
   "outputs": [],
   "source": [
    "import numpy as np\n",
    "np.set_printoptions(suppress=True)\n",
    "from numpy import eye, dot\n",
    "import cv2 as cv"
   ]
  },
  {
   "cell_type": "code",
   "execution_count": 3,
   "metadata": {},
   "outputs": [],
   "source": [
    "import chessboard\n",
    "import park_martin"
   ]
  },
  {
   "cell_type": "code",
   "execution_count": 4,
   "metadata": {},
   "outputs": [],
   "source": [
    "from scipy.linalg import expm, inv"
   ]
  },
  {
   "cell_type": "code",
   "execution_count": null,
   "metadata": {},
   "outputs": [],
   "source": []
  },
  {
   "cell_type": "code",
   "execution_count": 5,
   "metadata": {},
   "outputs": [],
   "source": [
    "img_names = glob('./data/images/image??.png')\n",
    "img_list = [cv.imread(img_name, 0) for img_name in img_names]"
   ]
  },
  {
   "cell_type": "code",
   "execution_count": 6,
   "metadata": {},
   "outputs": [],
   "source": [
    "pose_names = glob('./data/poses/pose??.txt')"
   ]
  },
  {
   "cell_type": "code",
   "execution_count": 7,
   "metadata": {},
   "outputs": [],
   "source": [
    "rob_pose_list = [np.loadtxt(pose_name) for pose_name in pose_names]"
   ]
  },
  {
   "cell_type": "code",
   "execution_count": 8,
   "metadata": {},
   "outputs": [],
   "source": [
    "camera_matrix, dist_coeffs = chessboard.calibrate_lens(img_list)"
   ]
  },
  {
   "cell_type": "code",
   "execution_count": 9,
   "metadata": {},
   "outputs": [],
   "source": [
    "def hat(v):\n",
    "    return [[   0, -v[2],  v[1]],\n",
    "            [v[2],     0, -v[0]],\n",
    "            [-v[1],  v[0],    0]]"
   ]
  },
  {
   "cell_type": "code",
   "execution_count": 10,
   "metadata": {},
   "outputs": [],
   "source": [
    "def tf_mat(r, t):\n",
    "    res = eye(4)\n",
    "    res[0:3, 0:3] = expm(hat(r))\n",
    "    res[0:3, -1] = t\n",
    "    return res"
   ]
  },
  {
   "cell_type": "code",
   "execution_count": 11,
   "metadata": {},
   "outputs": [],
   "source": [
    "\n",
    "obj_pose_list = []\n",
    "corner_list = []\n",
    "for i, img in enumerate(img_list):\n",
    "    found, corners = chessboard.find_corners(img)\n",
    "    corner_list.append(corners)\n",
    "    if not found:\n",
    "        raise Exception(\"Failed to find corners in img # %d\" % i)\n",
    "    rvec, tvec = chessboard.get_object_pose(\n",
    "        chessboard.pattern_points, corners, camera_matrix, dist_coeffs)\n",
    "    object_pose = tf_mat(rvec, tvec)\n",
    "    obj_pose_list.append(object_pose)"
   ]
  },
  {
   "cell_type": "code",
   "execution_count": 12,
   "metadata": {},
   "outputs": [],
   "source": [
    "A, B = [], []\n",
    "for i in range(1,len(img_list)):\n",
    "    p = rob_pose_list[i-1], obj_pose_list[i-1]\n",
    "    n = rob_pose_list[i], obj_pose_list[i]\n",
    "    A.append(dot(inv(p[0]), n[0]))\n",
    "    B.append(dot(inv(p[1]), n[1]))"
   ]
  },
  {
   "cell_type": "code",
   "execution_count": 13,
   "metadata": {},
   "outputs": [
    {
     "name": "stdout",
     "output_type": "stream",
     "text": [
      "X: \n",
      "[[ 0.14745783 -0.55154848  0.82100576  0.04066306]\n",
      " [ 0.86928682  0.46823208  0.15842708 -0.06329481]\n",
      " [-0.47180145  0.69032818  0.54849831  0.751672  ]\n",
      " [ 0.          0.          0.          1.        ]]\n"
     ]
    }
   ],
   "source": [
    "# Transformation to chessboard in robot gripper\n",
    "X = eye(4)\n",
    "Rx, tx = park_martin.calibrate(A, B)\n",
    "X[0:3, 0:3] = Rx\n",
    "X[0:3, -1] = tx\n",
    "\n",
    "print(\"X: \")\n",
    "print(X)"
   ]
  },
  {
   "cell_type": "code",
   "execution_count": 14,
   "metadata": {},
   "outputs": [
    {
     "name": "stdout",
     "output_type": "stream",
     "text": [
      "For validation. Printing transformations from the robot base to the camera\n",
      "All the transformations should be quite similar\n",
      "[[-0.24523428 -0.76656934 -0.59349106 -0.1529003 ]\n",
      " [ 0.9017303  -0.40517059  0.15072862 -0.34338586]\n",
      " [-0.35600908 -0.49820506  0.7906006   0.26441113]\n",
      " [ 0.          0.          0.          1.        ]]\n",
      "[[ 0.16037487 -0.89339663 -0.41966948 -0.33598279]\n",
      " [ 0.93870769  0.26948373 -0.21495669 -0.46417796]\n",
      " [ 0.30513564 -0.35947329  0.88185666 -0.03592851]\n",
      " [ 0.          0.          0.          1.        ]]\n",
      "[[-0.20716406 -0.97646958  0.05991695 -0.7063825 ]\n",
      " [ 0.75008667 -0.19785713 -0.6310488  -0.0251003 ]\n",
      " [ 0.62805499 -0.08578771  0.77342577  0.02302095]\n",
      " [ 0.          0.          0.          1.        ]]\n",
      "[[-0.73671601 -0.58192419 -0.34440343 -0.3651727 ]\n",
      " [ 0.67582614 -0.61666204 -0.40371646 -0.40687071]\n",
      " [ 0.02255189 -0.53018119  0.8475844  -0.30562148]\n",
      " [ 0.          0.          0.          1.        ]]\n",
      "[[ 0.12517234 -0.84695969 -0.51671182 -0.3438272 ]\n",
      " [ 0.89405524  0.32207473 -0.31134066 -0.12174849]\n",
      " [ 0.43011281 -0.42299771  0.79754362  0.067965  ]\n",
      " [ 0.          0.          0.          1.        ]]\n",
      "[[-0.29738059 -0.73497718 -0.60940403  0.11548955]\n",
      " [ 0.91612867 -0.39938615  0.0346253  -0.27627886]\n",
      " [-0.26883635 -0.54799568  0.79210345 -0.28763583]\n",
      " [ 0.          0.          0.          1.        ]]\n",
      "[[-0.71502677 -0.53601058 -0.44880882 -0.08165785]\n",
      " [ 0.68932241 -0.64753754 -0.32485321  0.01213027]\n",
      " [-0.11649582 -0.54165274  0.83249081 -0.11251168]\n",
      " [ 0.          0.          0.          1.        ]]\n",
      "[[-0.18851629 -0.97313109 -0.13220239 -0.70163428]\n",
      " [ 0.73235595 -0.04961385 -0.67911202  0.23065103]\n",
      " [ 0.65430604 -0.22484297  0.72203145  0.13482242]\n",
      " [ 0.          0.          0.          1.        ]]\n",
      "[[-0.40457909 -0.90907072 -0.09952979 -0.86227381]\n",
      " [ 0.81890255 -0.31168663 -0.48192331 -0.01671329]\n",
      " [ 0.40708023 -0.27648121  0.87054212  0.16299296]\n",
      " [ 0.          0.          0.          1.        ]]\n",
      "[[ 0.06248168 -0.9980449  -0.00160148 -0.98852513]\n",
      " [ 0.55883369  0.03631475 -0.82848423 -0.39620244]\n",
      " [ 0.82692257  0.05087017  0.56001008  0.28255948]\n",
      " [ 0.          0.          0.          1.        ]]\n",
      "[[ 0.49144582 -0.83226559 -0.25654461 -0.77492846]\n",
      " [ 0.77762718  0.55197469 -0.30103148 -0.57477333]\n",
      " [ 0.39214428 -0.05155542  0.91845795  0.34063337]\n",
      " [ 0.          0.          0.          1.        ]]\n",
      "[[-0.01300006 -0.89385902 -0.44815974 -0.54180999]\n",
      " [ 0.97966448  0.07836049 -0.18470856 -0.23293089]\n",
      " [ 0.2002214  -0.44144735  0.87466316  0.05673823]\n",
      " [ 0.          0.          0.          1.        ]]\n",
      "[[-0.31710618 -0.73390007 -0.60069482 -0.25998567]\n",
      " [ 0.92016102 -0.39146878 -0.00747433 -0.55809444]\n",
      " [-0.22966785 -0.55510613  0.79944347  0.21581544]\n",
      " [ 0.          0.          0.          1.        ]]\n",
      "[[-0.37600215 -0.92184254 -0.09396052 -0.83965252]\n",
      " [ 0.77267637 -0.25594935 -0.58091401  0.23909743]\n",
      " [ 0.51146214 -0.29102608  0.80852358  0.12802172]\n",
      " [ 0.          0.          0.          1.        ]]\n",
      "[[ 0.04459502 -0.8549506  -0.51678911 -0.3865736 ]\n",
      " [ 0.95787378  0.18350149 -0.22091838 -0.07400058]\n",
      " [ 0.28370585 -0.48516686  0.82711794  0.05582669]\n",
      " [ 0.          0.          0.          1.        ]]\n",
      "[[-0.67565837 -0.61435554 -0.40749582 -0.44488801]\n",
      " [ 0.73279988 -0.62008855 -0.2801686  -0.60993351]\n",
      " [-0.08056035 -0.48791122  0.8691678  -0.02889704]\n",
      " [ 0.          0.          0.          1.        ]]\n",
      "[[-0.05049393 -0.96038402 -0.27406749 -0.39359571]\n",
      " [ 0.56120209  0.19971195 -0.80322318  0.0728278 ]\n",
      " [ 0.8261373  -0.19436514  0.52888527  0.13898001]\n",
      " [ 0.          0.          0.          1.        ]]\n",
      "[[-0.01145315 -0.90604676 -0.42302257 -0.04900092]\n",
      " [ 0.95227009  0.11917337 -0.28103251  0.07789805]\n",
      " [ 0.30504162 -0.40605044  0.86143629 -0.01733441]\n",
      " [ 0.          0.          0.          1.        ]]\n",
      "[[-0.17915358 -0.85612974 -0.48471226  0.09211065]\n",
      " [ 0.97773432 -0.10021651 -0.18436981 -0.16137775]\n",
      " [ 0.10926827 -0.50695036  0.85502152 -0.60491659]\n",
      " [ 0.          0.          0.          1.        ]]\n",
      "[[-0.12227615 -0.89462809 -0.42975468 -0.17817466]\n",
      " [ 0.98671396 -0.06290478 -0.14979518  0.14131157]\n",
      " [ 0.10697736 -0.44236136  0.89043383 -0.49610997]\n",
      " [ 0.          0.          0.          1.        ]]\n",
      "[[-0.4800789  -0.87709734 -0.0149843  -0.54499153]\n",
      " [ 0.82310782 -0.44448955 -0.35344362  0.58076501]\n",
      " [ 0.30334414 -0.18201454  0.93533569 -0.15518636]\n",
      " [ 0.          0.          0.          1.        ]]\n"
     ]
    }
   ],
   "source": [
    "print(\"For validation. Printing transformations from the robot base to the camera\")\n",
    "print(\"All the transformations should be quite similar\")\n",
    "\n",
    "for i in range(len(img_list)):\n",
    "    rob = rob_pose_list[i]\n",
    "    obj = obj_pose_list[i]\n",
    "    tmp = dot(rob, dot(X, inv(obj)))\n",
    "    print(tmp)\n",
    "\n",
    "# Here I just pick one, but maybe some average can be used instead\n",
    "rob = rob_pose_list[0]\n",
    "obj = obj_pose_list[0]\n",
    "cam_pose = dot(dot(rob, X), inv(obj))"
   ]
  },
  {
   "cell_type": "markdown",
   "metadata": {},
   "source": [
    "# Hand-eye Calibration"
   ]
  },
  {
   "cell_type": "markdown",
   "metadata": {},
   "source": [
    "Resource: \n",
    "- http://campar.in.tum.de/Chair/HandEyeCalibration "
   ]
  },
  {
   "cell_type": "markdown",
   "metadata": {},
   "source": [
    "## Eye-in-hand"
   ]
  },
  {
   "cell_type": "markdown",
   "metadata": {},
   "source": [
    "![](https://www.torsteinmyhre.name/snippets/robcam_calibration/images/extrinsic-camera-calibration-eye-in-hand-651px.png)"
   ]
  },
  {
   "cell_type": "code",
   "execution_count": null,
   "metadata": {},
   "outputs": [],
   "source": []
  },
  {
   "cell_type": "markdown",
   "metadata": {},
   "source": [
    "## Eye-to-hand"
   ]
  },
  {
   "cell_type": "markdown",
   "metadata": {},
   "source": [
    "![](https://www.torsteinmyhre.name/snippets/robcam_calibration/images/extrinsic-camera-calibration-stationary-camera-651px.png)"
   ]
  },
  {
   "cell_type": "code",
   "execution_count": null,
   "metadata": {},
   "outputs": [],
   "source": []
  }
 ],
 "metadata": {
  "kernelspec": {
   "display_name": "Python 3",
   "language": "python",
   "name": "python3"
  },
  "language_info": {
   "codemirror_mode": {
    "name": "ipython",
    "version": 3
   },
   "file_extension": ".py",
   "mimetype": "text/x-python",
   "name": "python",
   "nbconvert_exporter": "python",
   "pygments_lexer": "ipython3",
   "version": "3.6.5"
  }
 },
 "nbformat": 4,
 "nbformat_minor": 2
}
