{
 "cells": [
  {
   "cell_type": "code",
   "execution_count": 9,
   "metadata": {},
   "outputs": [],
   "source": [
    "import os\n",
    "from glob import glob"
   ]
  },
  {
   "cell_type": "code",
   "execution_count": 13,
   "metadata": {},
   "outputs": [],
   "source": [
    "import numpy as np\n",
    "np.set_printoptions(suppress=True)\n",
    "from numpy import eye, dot\n",
    "import cv2 as cv"
   ]
  },
  {
   "cell_type": "code",
   "execution_count": 1,
   "metadata": {},
   "outputs": [],
   "source": [
    "import chessboard\n",
    "import park_martin"
   ]
  },
  {
   "cell_type": "code",
   "execution_count": 2,
   "metadata": {},
   "outputs": [],
   "source": [
    "from scipy.linalg import expm, inv"
   ]
  },
  {
   "cell_type": "code",
   "execution_count": 3,
   "metadata": {},
   "outputs": [],
   "source": [
    "from tpk4170.hand_eye_calibration.utils import load_images, load_rob_poses"
   ]
  },
  {
   "cell_type": "code",
   "execution_count": 5,
   "metadata": {},
   "outputs": [],
   "source": [
    "images = load_images()"
   ]
  },
  {
   "cell_type": "code",
   "execution_count": 7,
   "metadata": {},
   "outputs": [],
   "source": [
    "rob_poses = load_rob_poses()"
   ]
  },
  {
   "cell_type": "code",
   "execution_count": 8,
   "metadata": {},
   "outputs": [],
   "source": [
    "camera_matrix, dist_coeffs = chessboard.calibrate_lens(images)"
   ]
  },
  {
   "cell_type": "code",
   "execution_count": 9,
   "metadata": {},
   "outputs": [],
   "source": [
    "def hat(v):\n",
    "    return [[0, -v[2],  v[1]],\n",
    "            [v[2],     0, -v[0]],\n",
    "            [-v[1],  v[0],    0]]"
   ]
  },
  {
   "cell_type": "code",
   "execution_count": 14,
   "metadata": {},
   "outputs": [],
   "source": [
    "def tf_mat(r, t):\n",
    "    res = eye(4)\n",
    "    res[0:3, 0:3] = expm(hat(r))\n",
    "    res[0:3, -1] = t\n",
    "    return res"
   ]
  },
  {
   "cell_type": "code",
   "execution_count": 16,
   "metadata": {},
   "outputs": [],
   "source": [
    "obj_poses = []\n",
    "corner_list = []\n",
    "for i, img in enumerate(images):\n",
    "    found, corners = chessboard.find_corners(img)\n",
    "    corner_list.append(corners)\n",
    "    if not found:\n",
    "        raise Exception(\"Failed to find corners in img # %d\" % i)\n",
    "    rvec, tvec = chessboard.get_object_pose(\n",
    "        chessboard.pattern_points, corners, camera_matrix, dist_coeffs)\n",
    "    object_pose = tf_mat(rvec, tvec)\n",
    "    obj_poses.append(object_pose)"
   ]
  },
  {
   "cell_type": "code",
   "execution_count": 18,
   "metadata": {},
   "outputs": [],
   "source": [
    "A, B = [], []\n",
    "for i in range(1, len(images)):\n",
    "    p = rob_poses[i-1], obj_poses[i-1]\n",
    "    n = rob_poses[i], obj_poses[i]\n",
    "    A.append(dot(inv(p[0]), n[0]))\n",
    "    B.append(dot(inv(p[1]), n[1]))"
   ]
  },
  {
   "cell_type": "code",
   "execution_count": 19,
   "metadata": {},
   "outputs": [
    {
     "name": "stdout",
     "output_type": "stream",
     "text": [
      "X: \n",
      "[[ 0.09853313 -0.99513261  0.00151965  0.04083886]\n",
      " [-0.99510923 -0.09854131 -0.00687275  0.09969052]\n",
      " [ 0.00698905 -0.00083503 -0.99997523  0.15899348]\n",
      " [ 0.          0.          0.          1.        ]]\n"
     ]
    }
   ],
   "source": [
    "# Transformation to chessboard in robot gripper\n",
    "X = eye(4)\n",
    "Rx, tx = park_martin.calibrate(A, B)\n",
    "X[0:3, 0:3] = Rx\n",
    "X[0:3, -1] = tx\n",
    "\n",
    "print(\"X: \")\n",
    "print(X)"
   ]
  },
  {
   "cell_type": "code",
   "execution_count": 23,
   "metadata": {},
   "outputs": [
    {
     "name": "stdout",
     "output_type": "stream",
     "text": [
      "For validation. Printing transformations from the robot base to the camera\n",
      "All the transformations should be quite similar\n",
      "[[ 0.73440851  0.01537859  0.67853332 -0.99273101]\n",
      " [-0.67862591  0.00112074  0.73448326 -0.8800224 ]\n",
      " [ 0.01053486 -0.99988113  0.01125937  0.74050302]\n",
      " [ 0.          0.          0.          1.        ]]\n",
      "[[ 0.73262243  0.01627859  0.68044066 -0.99479051]\n",
      " [-0.6805475   0.00146293  0.7327025  -0.87803725]\n",
      " [ 0.01093194 -0.99986641  0.01215011  0.73824691]\n",
      " [ 0.          0.          0.          1.        ]]\n",
      "[[ 0.73879692  0.01895382  0.67366148 -0.985715  ]\n",
      " [-0.67360731 -0.01006586  0.73902083 -0.87817649]\n",
      " [ 0.02078827 -0.99976965  0.0053308   0.75086777]\n",
      " [ 0.          0.          0.          1.        ]]\n",
      "[[ 0.73959807  0.01997899  0.6727522  -0.98471032]\n",
      " [-0.67270204 -0.01013806  0.73984397 -0.87887138]\n",
      " [ 0.02160177 -0.99974908  0.00594186  0.75148219]\n",
      " [ 0.          0.          0.          1.        ]]\n",
      "[[ 0.74415318  0.01941701  0.66772666 -0.97820253]\n",
      " [-0.66766939 -0.0102472   0.74438734 -0.8829052 ]\n",
      " [ 0.02129617 -0.99975899  0.00533867  0.75861432]\n",
      " [ 0.          0.          0.          1.        ]]\n",
      "[[ 0.74274663  0.01891782  0.66930545 -0.9801672 ]\n",
      " [-0.66926819 -0.00916819  0.74296429 -0.88161791]\n",
      " [ 0.0201916  -0.99977899  0.00585146  0.75668802]\n",
      " [ 0.          0.          0.          1.        ]]\n",
      "[[ 0.73602894  0.02297617  0.67656012 -0.98556016]\n",
      " [-0.67660787 -0.00680841  0.73631212 -0.87952173]\n",
      " [ 0.02152393 -0.99971284  0.01053465  0.75136239]\n",
      " [ 0.          0.          0.          1.        ]]\n",
      "[[ 0.73545333  0.02214333  0.67721345 -0.98707105]\n",
      " [-0.67725686 -0.00661675  0.73571692 -0.87855105]\n",
      " [ 0.02077214 -0.99973278  0.01013038  0.75187973]\n",
      " [ 0.          0.          0.          1.        ]]\n",
      "[[ 0.73823843  0.02361471  0.67412645 -0.9846837 ]\n",
      " [-0.67409209 -0.01058738  0.73857152 -0.88057228]\n",
      " [ 0.02457837 -0.99966521  0.0081025   0.74789468]\n",
      " [ 0.          0.          0.          1.        ]]\n",
      "[[ 0.73437269  0.01446481  0.67859239 -0.98941752]\n",
      " [-0.67834356 -0.01880192  0.73450424 -0.87396286]\n",
      " [ 0.02338336 -0.9997186  -0.00399548  0.75477521]\n",
      " [ 0.          0.          0.          1.        ]]\n",
      "[[ 0.73504164  0.01427084  0.6778717  -0.98809342]\n",
      " [-0.67763314 -0.01838988  0.73517012 -0.87464473]\n",
      " [ 0.02295744 -0.99972904 -0.00384695  0.75453131]\n",
      " [ 0.          0.          0.          1.        ]]\n",
      "[[ 0.73074747  0.02051457  0.68233942 -0.99230165]\n",
      " [-0.68255275  0.00527978  0.7308172  -0.87603583]\n",
      " [ 0.01138977 -0.9997756   0.01786047  0.73550337]\n",
      " [ 0.          0.          0.          1.        ]]\n",
      "[[ 0.73497634  0.01884658  0.6778309  -0.98923589]\n",
      " [-0.67799684  0.00361222  0.73505596 -0.87896204]\n",
      " [ 0.01140483 -0.99981592  0.01543285  0.73824556]\n",
      " [ 0.          0.          0.          1.        ]]\n",
      "[[ 0.73275324  0.01879358  0.68023499 -0.98952077]\n",
      " [-0.68021037 -0.00865787  0.7329658  -0.87566106]\n",
      " [ 0.0196644  -0.99978589  0.00643947  0.74884976]\n",
      " [ 0.          0.          0.          1.        ]]\n",
      "[[ 0.73410195  0.02127915  0.67870574 -0.98865724]\n",
      " [-0.67881252 -0.00283224  0.73430618 -0.87598381]\n",
      " [ 0.01754763 -0.99976956  0.01236536  0.74410896]\n",
      " [ 0.          0.          0.          1.        ]]\n",
      "[[ 0.73339029  0.01583512  0.6796234  -0.99878244]\n",
      " [-0.67966176 -0.00363729  0.73351655 -0.87853686]\n",
      " [ 0.01408729 -0.99986803  0.00809494  0.74230748]\n",
      " [ 0.          0.          0.          1.        ]]\n",
      "[[ 0.72782814  0.0198227   0.68547297 -0.99968311]\n",
      " [-0.68560577 -0.00013179  0.72797299 -0.87385874]\n",
      " [ 0.01452073 -0.99980356  0.01349464  0.73609544]\n",
      " [ 0.          0.          0.          1.        ]]\n",
      "[[ 0.73489226  0.00769323  0.67814023 -0.98589686]\n",
      " [-0.67807247 -0.00978514  0.73492981 -0.88018677]\n",
      " [ 0.01228969 -0.99992249 -0.00197445  0.76786793]\n",
      " [ 0.          0.          0.          1.        ]]\n",
      "[[ 0.74031874  0.00074257  0.67225564 -0.97704559]\n",
      " [-0.67220292 -0.01174548  0.74027368 -0.88925371]\n",
      " [ 0.00844562 -0.99993065 -0.0081962   0.77666942]\n",
      " [ 0.          0.          0.          1.        ]]\n",
      "[[ 0.7528642   0.00845977  0.65812149 -0.95827164]\n",
      " [-0.6579844  -0.01444513  0.75289302 -0.8953294 ]\n",
      " [ 0.01587597 -0.99985994 -0.00530881  0.77757897]\n",
      " [ 0.          0.          0.          1.        ]]\n",
      "[[ 0.735231    0.00186933  0.67781405 -0.98747389]\n",
      " [-0.67777882 -0.00853332  0.73521626 -0.88513229]\n",
      " [ 0.00715836 -0.99996176 -0.00500696  0.77325046]\n",
      " [ 0.          0.          0.          1.        ]]\n"
     ]
    }
   ],
   "source": [
    "print(\"For validation. Printing transformations from the robot base to the camera\")\n",
    "print(\"All the transformations should be quite similar\")\n",
    "\n",
    "for i in range(len(images)):\n",
    "    rob = rob_poses[i]\n",
    "    obj = obj_poses[i]\n",
    "    tmp = dot(rob, dot(X, inv(obj)))\n",
    "    print(tmp)\n",
    "\n",
    "# Here I just pick one, but maybe some average can be used instead\n",
    "rob = rob_poses[0]\n",
    "obj = obj_poses[0]\n",
    "cam_pose = dot(dot(rob, X), inv(obj))"
   ]
  },
  {
   "cell_type": "markdown",
   "metadata": {},
   "source": [
    "# Hand-eye Calibration"
   ]
  },
  {
   "cell_type": "markdown",
   "metadata": {},
   "source": [
    "Resource: \n",
    "- http://campar.in.tum.de/Chair/HandEyeCalibration "
   ]
  },
  {
   "cell_type": "markdown",
   "metadata": {},
   "source": [
    "## Eye-in-hand"
   ]
  },
  {
   "cell_type": "markdown",
   "metadata": {},
   "source": [
    "![](https://www.torsteinmyhre.name/snippets/robcam_calibration/images/extrinsic-camera-calibration-eye-in-hand-651px.png)"
   ]
  },
  {
   "cell_type": "code",
   "execution_count": null,
   "metadata": {},
   "outputs": [],
   "source": []
  },
  {
   "cell_type": "markdown",
   "metadata": {},
   "source": [
    "## Eye-to-hand"
   ]
  },
  {
   "cell_type": "markdown",
   "metadata": {},
   "source": [
    "![](https://www.torsteinmyhre.name/snippets/robcam_calibration/images/extrinsic-camera-calibration-stationary-camera-651px.png)"
   ]
  },
  {
   "cell_type": "code",
   "execution_count": null,
   "metadata": {},
   "outputs": [],
   "source": []
  }
 ],
 "metadata": {
  "kernelspec": {
   "display_name": "Python 3",
   "language": "python",
   "name": "python3"
  },
  "language_info": {
   "codemirror_mode": {
    "name": "ipython",
    "version": 3
   },
   "file_extension": ".py",
   "mimetype": "text/x-python",
   "name": "python",
   "nbconvert_exporter": "python",
   "pygments_lexer": "ipython3",
   "version": "3.6.5"
  }
 },
 "nbformat": 4,
 "nbformat_minor": 2
}
