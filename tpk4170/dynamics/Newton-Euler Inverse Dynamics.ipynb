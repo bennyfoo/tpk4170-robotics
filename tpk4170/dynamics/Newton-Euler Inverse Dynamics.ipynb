{
 "cells": [
  {
   "cell_type": "code",
   "execution_count": null,
   "metadata": {},
   "outputs": [],
   "source": [
    "# !pip install modern_robotics sympy"
   ]
  },
  {
   "cell_type": "code",
   "execution_count": null,
   "metadata": {},
   "outputs": [],
   "source": [
    "import sympy as sp\n",
    "import numpy as np\n",
    "import modern_robotics as mr\n",
    "from sympy import symbols, cos, sin, diff, simplify, expand, Matrix, diag, zeros, eye\n",
    "from sympy.physics.mechanics import dynamicsymbols, vector, mechanics_printing"
   ]
  },
  {
   "cell_type": "code",
   "execution_count": null,
   "metadata": {},
   "outputs": [],
   "source": [
    "mechanics_printing()"
   ]
  },
  {
   "cell_type": "markdown",
   "metadata": {},
   "source": [
    "# Newton-Euler Inverse Dynamics"
   ]
  },
  {
   "cell_type": "markdown",
   "metadata": {},
   "source": [
    "## Functions"
   ]
  },
  {
   "cell_type": "code",
   "execution_count": null,
   "metadata": {},
   "outputs": [],
   "source": [
    "def so3m(v):\n",
    "    return Matrix([[0, -v[2], v[1]],\n",
    "                   [v[2], 0, -v[0]],\n",
    "                   [-v[1], v[0], 0]])"
   ]
  },
  {
   "cell_type": "code",
   "execution_count": null,
   "metadata": {},
   "outputs": [],
   "source": [
    "def se3m(v):\n",
    "    S = zeros(4)\n",
    "    S[:3, :3] = vec_to_so3(v[:3])\n",
    "    S[:3, 3] = v[3:]\n",
    "    return S"
   ]
  },
  {
   "cell_type": "code",
   "execution_count": null,
   "metadata": {},
   "outputs": [],
   "source": [
    "def expm3(omega, theta):\n",
    "    R = eye(3) + sin(theta) * omega + \\\n",
    "        (1 - cos(theta)) * omega * omega\n",
    "    return R\n",
    "\n",
    "\n",
    "def expv3(omega, theta):\n",
    "    omega = so3m(omega)\n",
    "    return expm3(omega, theta)"
   ]
  },
  {
   "cell_type": "code",
   "execution_count": null,
   "metadata": {},
   "outputs": [],
   "source": [
    "def expv6(twist, theta):\n",
    "    omega = so3m(twist[:3])\n",
    "    v = Matrix(twist[3:])\n",
    "    T = eye(4)\n",
    "    T[:3, :3] = expm3(omega, theta)\n",
    "    T[:3, 3] = (eye(3) * theta + (1 - cos(theta)) * omega +\n",
    "                (theta - sin(theta)) * omega * omega) * v\n",
    "    return T"
   ]
  },
  {
   "cell_type": "code",
   "execution_count": null,
   "metadata": {},
   "outputs": [],
   "source": [
    "def Ad(T):\n",
    "    AdT = zeros(6)\n",
    "    R = Matrix(T[:3, :3])\n",
    "    AdT[:3, :3] = R\n",
    "    AdT[3:, 3:] = R\n",
    "    AdT[3:, :3] = so3m(T[:3, 3]) * R\n",
    "    return AdT"
   ]
  },
  {
   "cell_type": "code",
   "execution_count": null,
   "metadata": {},
   "outputs": [],
   "source": [
    "def ad(V):\n",
    "    adV = zeros(6)\n",
    "    adV[:3, :3] = so3m(V[:3])\n",
    "    adV[3:, 3:] = so3m(V[:3])\n",
    "    adV[3:, :3] = so3m(V[3:])\n",
    "    return adV"
   ]
  },
  {
   "cell_type": "markdown",
   "metadata": {},
   "source": [
    "## Define symbols"
   ]
  },
  {
   "cell_type": "code",
   "execution_count": null,
   "metadata": {},
   "outputs": [],
   "source": [
    "th1, th2 = dynamicsymbols('theta_1, theta_2')\n",
    "dth1, dth2 = dynamicsymbols('theta_1, theta_2', 1)\n",
    "ddth1, ddth2 = dynamicsymbols('theta_1, theta_2', 2)\n",
    "m1, m2, L1, L2, g = symbols('\\mathfrak{m}_1, \\mathfrak{m}_2, L_1, L_2, g')"
   ]
  },
  {
   "cell_type": "markdown",
   "metadata": {},
   "source": [
    "## Define transformations, twists, and wrenches"
   ]
  },
  {
   "cell_type": "code",
   "execution_count": null,
   "metadata": {},
   "outputs": [],
   "source": [
    "M0 = eye(4)\n",
    "M1 = Matrix([[1, 0, 0, L1], [0, 1, 0, 0], [0, 0, 1, 0], [0, 0, 0, 1]])\n",
    "M2 = Matrix([[1, 0, 0, L1+L2], [0, 1, 0, 0], [0, 0, 1, 0], [0, 0, 0, 1]])\n",
    "M3 = Matrix([[1, 0, 0, L1+L2], [0, 1, 0, 0], [0, 0, 1, 0], [0, 0, 0, 1]])"
   ]
  },
  {
   "cell_type": "code",
   "execution_count": null,
   "metadata": {
    "scrolled": true
   },
   "outputs": [],
   "source": [
    "M10 = M1.inv() * M0\n",
    "M21 = M2.inv() * M1\n",
    "M32 = M3.inv() * M2"
   ]
  },
  {
   "cell_type": "code",
   "execution_count": null,
   "metadata": {},
   "outputs": [],
   "source": [
    "S1 = Matrix([0, 0, 1, 0, 0, 0])\n",
    "S2 = Matrix([0, 0, 1, 0, -L1, 0])"
   ]
  },
  {
   "cell_type": "code",
   "execution_count": null,
   "metadata": {},
   "outputs": [],
   "source": [
    "A1 = Ad(M1.inv()) * S1\n",
    "A2 = Ad(M2.inv()) * S2"
   ]
  },
  {
   "cell_type": "code",
   "execution_count": null,
   "metadata": {},
   "outputs": [],
   "source": [
    "G1 = diag(0, 0, 0, m1, m1, m1)\n",
    "G2 = diag(0, 0, 0, m2, m2, m2)"
   ]
  },
  {
   "cell_type": "code",
   "execution_count": null,
   "metadata": {},
   "outputs": [],
   "source": [
    "V0 = zeros(6, 1)"
   ]
  },
  {
   "cell_type": "code",
   "execution_count": null,
   "metadata": {},
   "outputs": [],
   "source": [
    "dV0 = Matrix([0, 0, 0, 0, g, 0])"
   ]
  },
  {
   "cell_type": "code",
   "execution_count": null,
   "metadata": {},
   "outputs": [],
   "source": [
    "F3 = zeros(6, 1)  # Wrench at the end-effector"
   ]
  },
  {
   "cell_type": "markdown",
   "metadata": {},
   "source": [
    "## Forward pass"
   ]
  },
  {
   "cell_type": "code",
   "execution_count": null,
   "metadata": {},
   "outputs": [],
   "source": [
    "T10 = expv6(-A1, th1) * M10\n",
    "T21 = expv6(-A2, th2) * M21\n",
    "T32 = eye(4)"
   ]
  },
  {
   "cell_type": "code",
   "execution_count": null,
   "metadata": {},
   "outputs": [],
   "source": [
    "V1 = Ad(T10) * V0 + A1 * dth1\n",
    "dV1 = Ad(T10) * dV0 + ad(V1) * A1 * dth1 + A1 * ddth1"
   ]
  },
  {
   "cell_type": "code",
   "execution_count": null,
   "metadata": {},
   "outputs": [],
   "source": [
    "V2 = Ad(T21) * V1 + A2 * dth2\n",
    "dV2 = Ad(T21) * dV1 + ad(V2) * A2 * dth2 + A2 * ddth2"
   ]
  },
  {
   "cell_type": "markdown",
   "metadata": {},
   "source": [
    "## Reverse pass"
   ]
  },
  {
   "cell_type": "code",
   "execution_count": null,
   "metadata": {
    "scrolled": true
   },
   "outputs": [],
   "source": [
    "F2 = Ad(T32).transpose() * F3 + G2 * dV2 - ad(V2).transpose() * G2 * V2\n",
    "tau2 = F2.transpose() * A2\n",
    "tau2 = tau2[0].simplify()\n",
    "tau2"
   ]
  },
  {
   "cell_type": "code",
   "execution_count": null,
   "metadata": {},
   "outputs": [],
   "source": [
    "F1 = Ad(T21).transpose() * F2 + G1 * dV1 - ad(V1).transpose() * G1 * V1\n",
    "tau1 = F1.transpose() * A1\n",
    "tau1 = tau1[0].simplify()\n",
    "tau1"
   ]
  }
 ],
 "metadata": {
  "kernelspec": {
   "display_name": "Python 3",
   "language": "python",
   "name": "python3"
  },
  "language_info": {
   "codemirror_mode": {
    "name": "ipython",
    "version": 3
   },
   "file_extension": ".py",
   "mimetype": "text/x-python",
   "name": "python",
   "nbconvert_exporter": "python",
   "pygments_lexer": "ipython3",
   "version": "3.6.6"
  }
 },
 "nbformat": 4,
 "nbformat_minor": 2
}
