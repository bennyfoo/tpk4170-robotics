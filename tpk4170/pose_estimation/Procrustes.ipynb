{
 "cells": [
  {
   "cell_type": "code",
   "execution_count": null,
   "metadata": {},
   "outputs": [],
   "source": [
    "import numpy as np\n",
    "np.set_printoptions(suppress=True)"
   ]
  },
  {
   "cell_type": "code",
   "execution_count": null,
   "metadata": {},
   "outputs": [],
   "source": [
    "from tpk4170.visualization import Viewer\n",
    "from tpk4170.models import Grid, Axes, PointCloud\n",
    "from tpk4170.rigid_body_motions.rotations import vec, exp"
   ]
  },
  {
   "cell_type": "markdown",
   "metadata": {},
   "source": [
    "# Procrustes"
   ]
  },
  {
   "cell_type": "markdown",
   "metadata": {},
   "source": [
    "We want to find the rotation matrix $\\mathbf{R} \\in SO(3)$ that best fits $\\mathbf{a}_i = \\mathbf{Rb}_i,\\ i=1,2,\\ldots, n$, by solving the minimization problem \n",
    "\\begin{align}\n",
    "\\min_{\\mathbf{R}\\in SO(3)} f \n",
    "\\end{align}\n",
    "where \n",
    "\\begin{align}\n",
    "f = \\sum_{i=1}^n \\lVert \\mathbf{Ra}_{i} - \\mathbf{b}_i  \\rVert^2 = \\lVert \\mathbf{RA} - \\mathbf{B} \\rVert_F^2\n",
    "\\end{align}\n",
    "and\n",
    "\\begin{align}\n",
    "\\mathbf{A} = (\\mathbf{a}_1, \\mathbf{a}_2, \\ldots, \\mathbf{a}_n) \\in \\mathbb{R}^{3\\times n}\n",
    "\\quad\\text{and}\\quad \n",
    "\\mathbf{B} = (\\mathbf{b}_1, \\mathbf{b}_2, \\ldots, \\mathbf{b}_n) \\in \\mathbb{R}^{3\\times n}\n",
    "\\end{align}"
   ]
  },
  {
   "cell_type": "markdown",
   "metadata": {},
   "source": [
    "## Load model"
   ]
  },
  {
   "cell_type": "code",
   "execution_count": null,
   "metadata": {},
   "outputs": [],
   "source": [
    "A = np.loadtxt('./data/bunny.txt').T * 10.\n",
    "print(A[:,:4])"
   ]
  },
  {
   "cell_type": "markdown",
   "metadata": {},
   "source": [
    "## Create rotation matrix"
   ]
  },
  {
   "cell_type": "code",
   "execution_count": null,
   "metadata": {},
   "outputs": [],
   "source": [
    "theta = np.pi/3\n",
    "k = vec(1,0,0)\n",
    "R = exp(theta * k)\n",
    "print(R)"
   ]
  },
  {
   "cell_type": "markdown",
   "metadata": {},
   "source": [
    "## Apply rotation"
   ]
  },
  {
   "cell_type": "code",
   "execution_count": null,
   "metadata": {},
   "outputs": [],
   "source": [
    "B = R @ A\n",
    "print(B[:,:4])"
   ]
  },
  {
   "cell_type": "markdown",
   "metadata": {},
   "source": [
    "## Visualize"
   ]
  },
  {
   "cell_type": "code",
   "execution_count": null,
   "metadata": {},
   "outputs": [],
   "source": [
    "viewer = Viewer()\n",
    "viewer.add(Grid())\n",
    "viewer.add(Axes())"
   ]
  },
  {
   "cell_type": "code",
   "execution_count": null,
   "metadata": {},
   "outputs": [],
   "source": [
    "viewer.add(PointCloud(B.T, color='red'))\n",
    "viewer.add(PointCloud(A.T))"
   ]
  },
  {
   "cell_type": "markdown",
   "metadata": {},
   "source": [
    "## Solve for rotation"
   ]
  },
  {
   "cell_type": "code",
   "execution_count": null,
   "metadata": {},
   "outputs": [],
   "source": [
    "def solve_for_rotation(A, B):\n",
    "    H = np.dot(A, B.T)\n",
    "    U, S, Vt = np.linalg.svd(H)\n",
    "    R = np.dot(Vt.T, U.T)\n",
    "    if np.linalg.det(R) < 0:\n",
    "        Vt[2, :] *= -1\n",
    "        R = np.dot(Vt.T, U.T)\n",
    "    return R"
   ]
  },
  {
   "cell_type": "code",
   "execution_count": null,
   "metadata": {},
   "outputs": [],
   "source": [
    "Re = solve_for_rotation(A,B)\n",
    "print(Re)"
   ]
  },
  {
   "cell_type": "code",
   "execution_count": null,
   "metadata": {},
   "outputs": [],
   "source": [
    "print(R)"
   ]
  },
  {
   "cell_type": "code",
   "execution_count": null,
   "metadata": {},
   "outputs": [],
   "source": [
    "print(np.allclose(R,Re))"
   ]
  }
 ],
 "metadata": {
  "kernelspec": {
   "display_name": "Python 3",
   "language": "python",
   "name": "python3"
  },
  "language_info": {
   "codemirror_mode": {
    "name": "ipython",
    "version": 3
   },
   "file_extension": ".py",
   "mimetype": "text/x-python",
   "name": "python",
   "nbconvert_exporter": "python",
   "pygments_lexer": "ipython3",
   "version": "3.6.5"
  }
 },
 "nbformat": 4,
 "nbformat_minor": 2
}
