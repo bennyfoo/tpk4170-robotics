{
 "cells": [
  {
   "cell_type": "code",
   "execution_count": 1,
   "metadata": {},
   "outputs": [],
   "source": [
    "import numpy as np\n",
    "np.set_printoptions(suppress=True)"
   ]
  },
  {
   "cell_type": "code",
   "execution_count": 2,
   "metadata": {},
   "outputs": [],
   "source": [
    "from tpk4170.visualization import Viewer\n",
    "from tpk4170.models import Grid, Axes, PointCloud\n",
    "from tpk4170.rigid_body_motions.rotations import vec, exp"
   ]
  },
  {
   "cell_type": "markdown",
   "metadata": {},
   "source": [
    "# Procrustes"
   ]
  },
  {
   "cell_type": "markdown",
   "metadata": {},
   "source": [
    "We want to find the rotation matrix $\\mathbf{R} \\in SO(3)$ that best fits $\\mathbf{a}_i = \\mathbf{Rb}_i,\\ i=1,2,\\ldots, n$, by solving the minimization problem \n",
    "\\begin{align}\n",
    "\\min_{\\mathbf{R}\\in SO(3)} f \n",
    "\\end{align}\n",
    "where \n",
    "\\begin{align}\n",
    "f = \\sum_{i=1}^n \\lVert \\mathbf{Ra}_{i} - \\mathbf{b}_i  \\rVert^2 = \\lVert \\mathbf{RA} - \\mathbf{B} \\rVert_F^2\n",
    "\\end{align}\n",
    "and\n",
    "\\begin{align}\n",
    "\\mathbf{A} = (\\mathbf{a}_1, \\mathbf{a}_2, \\ldots, \\mathbf{a}_n) \\in \\mathbb{R}^{3\\times n}\n",
    "\\quad\\text{and}\\quad \n",
    "\\mathbf{B} = (\\mathbf{b}_1, \\mathbf{b}_2, \\ldots, \\mathbf{b}_n) \\in \\mathbb{R}^{3\\times n}\n",
    "\\end{align}"
   ]
  },
  {
   "cell_type": "markdown",
   "metadata": {},
   "source": [
    "## Load model"
   ]
  },
  {
   "cell_type": "code",
   "execution_count": 3,
   "metadata": {},
   "outputs": [
    {
     "name": "stdout",
     "output_type": "stream",
     "text": [
      "[[-0.378297  -0.447794  -0.680095  -0.0228741]\n",
      " [ 1.2794     1.28887    1.51244    1.3015   ]\n",
      " [ 0.0447467  0.0190497  0.371953   0.232201 ]]\n"
     ]
    }
   ],
   "source": [
    "A = np.loadtxt('./data/bunny.txt').T * 10.\n",
    "print(A[:,:4])"
   ]
  },
  {
   "cell_type": "markdown",
   "metadata": {},
   "source": [
    "## Create rotation matrix"
   ]
  },
  {
   "cell_type": "code",
   "execution_count": 4,
   "metadata": {},
   "outputs": [
    {
     "name": "stdout",
     "output_type": "stream",
     "text": [
      "[[ 1.         0.         0.       ]\n",
      " [ 0.         0.5       -0.8660254]\n",
      " [ 0.         0.8660254  0.5      ]]\n"
     ]
    }
   ],
   "source": [
    "theta = np.pi/3\n",
    "k = vec(1,0,0)\n",
    "R = exp(theta * k)\n",
    "print(R)"
   ]
  },
  {
   "cell_type": "markdown",
   "metadata": {},
   "source": [
    "## Apply rotation"
   ]
  },
  {
   "cell_type": "code",
   "execution_count": 5,
   "metadata": {},
   "outputs": [
    {
     "name": "stdout",
     "output_type": "stream",
     "text": [
      "[[-0.378297   -0.447794   -0.680095   -0.0228741 ]\n",
      " [ 0.60094822  0.62793748  0.43409925  0.44965804]\n",
      " [ 1.13036625  1.12571901  1.49578796  1.24323256]]\n"
     ]
    }
   ],
   "source": [
    "B = R @ A\n",
    "print(B[:,:4])"
   ]
  },
  {
   "cell_type": "markdown",
   "metadata": {},
   "source": [
    "## Visualize"
   ]
  },
  {
   "cell_type": "code",
   "execution_count": 6,
   "metadata": {},
   "outputs": [
    {
     "data": {
      "application/vnd.jupyter.widget-view+json": {
       "model_id": "db1f80d6820c49d1a1e80cc6d7b99e4a",
       "version_major": 2,
       "version_minor": 0
      },
      "text/plain": [
       "Renderer(camera=PerspectiveCamera(aspect=1.5, children=(DirectionalLight(color='white', intensity=0.66, positi…"
      ]
     },
     "metadata": {},
     "output_type": "display_data"
    }
   ],
   "source": [
    "viewer = Viewer()\n",
    "viewer.add(Grid())\n",
    "viewer.add(Axes())"
   ]
  },
  {
   "cell_type": "code",
   "execution_count": 7,
   "metadata": {},
   "outputs": [],
   "source": [
    "viewer.add(PointCloud(B.T, color='red'))\n",
    "viewer.add(PointCloud(A.T))"
   ]
  },
  {
   "cell_type": "markdown",
   "metadata": {},
   "source": [
    "## Solve for rotation"
   ]
  },
  {
   "cell_type": "code",
   "execution_count": 8,
   "metadata": {},
   "outputs": [],
   "source": [
    "def solve_for_rotation(A, B):\n",
    "    H = np.dot(A, B.T)\n",
    "    U, S, Vt = np.linalg.svd(H)\n",
    "    R = np.dot(Vt.T, U.T)\n",
    "    if np.linalg.det(R) < 0:\n",
    "        Vt[2, :] *= -1\n",
    "        R = np.dot(Vt.T, U.T)\n",
    "    return R"
   ]
  },
  {
   "cell_type": "code",
   "execution_count": 9,
   "metadata": {},
   "outputs": [
    {
     "name": "stdout",
     "output_type": "stream",
     "text": [
      "[[ 1.        -0.        -0.       ]\n",
      " [-0.         0.5       -0.8660254]\n",
      " [ 0.         0.8660254  0.5      ]]\n"
     ]
    }
   ],
   "source": [
    "Re = solve_for_rotation(A,B)\n",
    "print(Re)"
   ]
  },
  {
   "cell_type": "code",
   "execution_count": 10,
   "metadata": {},
   "outputs": [
    {
     "name": "stdout",
     "output_type": "stream",
     "text": [
      "[[ 1.         0.         0.       ]\n",
      " [ 0.         0.5       -0.8660254]\n",
      " [ 0.         0.8660254  0.5      ]]\n"
     ]
    }
   ],
   "source": [
    "print(R)"
   ]
  },
  {
   "cell_type": "code",
   "execution_count": 11,
   "metadata": {},
   "outputs": [
    {
     "name": "stdout",
     "output_type": "stream",
     "text": [
      "True\n"
     ]
    }
   ],
   "source": [
    "print(np.allclose(R,Re))"
   ]
  }
 ],
 "metadata": {
  "kernelspec": {
   "display_name": "Python 3",
   "language": "python",
   "name": "python3"
  },
  "language_info": {
   "codemirror_mode": {
    "name": "ipython",
    "version": 3
   },
   "file_extension": ".py",
   "mimetype": "text/x-python",
   "name": "python",
   "nbconvert_exporter": "python",
   "pygments_lexer": "ipython3",
   "version": "3.6.6"
  }
 },
 "nbformat": 4,
 "nbformat_minor": 2
}
