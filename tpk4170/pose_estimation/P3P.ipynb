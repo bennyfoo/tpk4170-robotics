{
 "cells": [
  {
   "cell_type": "code",
   "execution_count": 1,
   "metadata": {},
   "outputs": [],
   "source": [
    "import numpy as np\n",
    "import cv2 as cv"
   ]
  },
  {
   "cell_type": "code",
   "execution_count": 2,
   "metadata": {},
   "outputs": [
    {
     "name": "stdout",
     "output_type": "stream",
     "text": [
      "Obtaining file:///home/lars/devel/tpk4170-robotics\n",
      "Installing collected packages: tpk4170\n",
      "  Found existing installation: tpk4170 1.0\n",
      "    Uninstalling tpk4170-1.0:\n",
      "      Successfully uninstalled tpk4170-1.0\n",
      "  Running setup.py develop for tpk4170\n",
      "Successfully installed tpk4170\n",
      "\u001b[33mYou are using pip version 10.0.1, however version 18.1 is available.\n",
      "You should consider upgrading via the 'pip install --upgrade pip' command.\u001b[0m\n"
     ]
    }
   ],
   "source": [
    "!pip install -e /home/lars/devel/tpk4170-robotics/"
   ]
  },
  {
   "cell_type": "code",
   "execution_count": 3,
   "metadata": {},
   "outputs": [],
   "source": [
    "np.set_printoptions(suppress=True)"
   ]
  },
  {
   "cell_type": "code",
   "execution_count": 4,
   "metadata": {},
   "outputs": [],
   "source": [
    "from tpk4170.visualization import Viewer\n",
    "from tpk4170.models import Ball, Grid, Axes, Plane, Line, Triangle\n",
    "from tpk4170.utils.transformations import quaternion_from_matrix, unit_vector"
   ]
  },
  {
   "cell_type": "code",
   "execution_count": 5,
   "metadata": {},
   "outputs": [],
   "source": [
    "from tpk4170.pose_estimation import solveP3P"
   ]
  },
  {
   "cell_type": "markdown",
   "metadata": {},
   "source": [
    "# The Perspective-3-Point Problem"
   ]
  },
  {
   "cell_type": "markdown",
   "metadata": {},
   "source": [
    "## Camera intrinsic parameters"
   ]
  },
  {
   "cell_type": "code",
   "execution_count": 6,
   "metadata": {},
   "outputs": [
    {
     "name": "stdout",
     "output_type": "stream",
     "text": [
      "[[750.   0. 640.]\n",
      " [  0. 750. 512.]\n",
      " [  0.   0.   1.]]\n"
     ]
    }
   ],
   "source": [
    "camera_matrix = np.array([[750.0, 0.0, 1280/2],\n",
    "                          [0.0, 750.0, 1024/2],\n",
    "                          [0.0, 0.0, 1.0]])\n",
    "print(camera_matrix)"
   ]
  },
  {
   "cell_type": "code",
   "execution_count": 7,
   "metadata": {},
   "outputs": [
    {
     "name": "stdout",
     "output_type": "stream",
     "text": [
      "[[0. 0. 0. 0. 0.]]\n"
     ]
    }
   ],
   "source": [
    "dist_coeffs = np.zeros((1, 5))\n",
    "print(dist_coeffs)"
   ]
  },
  {
   "cell_type": "markdown",
   "metadata": {},
   "source": [
    "## Camera extrinsic parameters"
   ]
  },
  {
   "cell_type": "code",
   "execution_count": 8,
   "metadata": {},
   "outputs": [
    {
     "name": "stdout",
     "output_type": "stream",
     "text": [
      "[0.5 0.5 2. ]\n"
     ]
    }
   ],
   "source": [
    "tvec = np.array([0.5, 0.5, 2.0])\n",
    "print(tvec)"
   ]
  },
  {
   "cell_type": "code",
   "execution_count": 9,
   "metadata": {},
   "outputs": [
    {
     "name": "stdout",
     "output_type": "stream",
     "text": [
      "[[ 0. -1.  0.]\n",
      " [-1.  0.  0.]\n",
      " [ 0.  0. -1.]]\n"
     ]
    }
   ],
   "source": [
    "R = np.array([[0.0, -1.0, 0.0, 0.0],\n",
    "              [-1.0, 0.0, 0.0, 0.0],\n",
    "              [0.0, 0.0, -1.0, 0.0],\n",
    "              [0.0, 0.0, 0.0, 1.0]])\n",
    "print(R[:3,:3])"
   ]
  },
  {
   "cell_type": "code",
   "execution_count": 10,
   "metadata": {},
   "outputs": [
    {
     "name": "stdout",
     "output_type": "stream",
     "text": [
      "[[ 2.22144147]\n",
      " [-2.22144147]\n",
      " [ 0.        ]]\n"
     ]
    }
   ],
   "source": [
    "rvec, _ = cv.Rodrigues(R[:3, :3])\n",
    "print(rvec)"
   ]
  },
  {
   "cell_type": "markdown",
   "metadata": {},
   "source": [
    "## Object points"
   ]
  },
  {
   "cell_type": "code",
   "execution_count": 11,
   "metadata": {
    "scrolled": true
   },
   "outputs": [
    {
     "name": "stdout",
     "output_type": "stream",
     "text": [
      "[[0.25 0.25 0.  ]\n",
      " [0.25 0.75 0.  ]\n",
      " [0.75 0.75 0.  ]\n",
      " [0.75 0.25 0.15]]\n"
     ]
    }
   ],
   "source": [
    "obj_points = np.array([[0.5, 0.5, 0.0],\n",
    "                       [0.5, 1.5, 0.0],\n",
    "                       [1.5, 1.5, 0.0],\n",
    "                       [1.5, 0.5, 0.3]]) / 2\n",
    "print(obj_points)"
   ]
  },
  {
   "cell_type": "markdown",
   "metadata": {},
   "source": [
    "## Image points (Pixel coordinates)"
   ]
  },
  {
   "cell_type": "code",
   "execution_count": 12,
   "metadata": {},
   "outputs": [
    {
     "name": "stdout",
     "output_type": "stream",
     "text": [
      "[[733.75       605.75      ]\n",
      " [546.25       605.75      ]\n",
      " [546.25       418.25      ]\n",
      " [741.35135135 410.64864865]]\n"
     ]
    }
   ],
   "source": [
    "img_points, _ = cv.projectPoints(\n",
    "    obj_points, rvec, tvec, camera_matrix, dist_coeffs)\n",
    "print(img_points.reshape(-1,2))"
   ]
  },
  {
   "cell_type": "markdown",
   "metadata": {},
   "source": [
    "## Homogeneous image points  (Pixel coordinates)"
   ]
  },
  {
   "cell_type": "code",
   "execution_count": 13,
   "metadata": {},
   "outputs": [
    {
     "name": "stdout",
     "output_type": "stream",
     "text": [
      "[[733.75       605.75         1.        ]\n",
      " [546.25       605.75         1.        ]\n",
      " [546.25       418.25         1.        ]\n",
      " [741.35135135 410.64864865   1.        ]]\n"
     ]
    }
   ],
   "source": [
    "hom_img_points = np.hstack((img_points.reshape(-1, 2), np.ones((4, 1))))\n",
    "print(hom_img_points)"
   ]
  },
  {
   "cell_type": "markdown",
   "metadata": {},
   "source": [
    "## Normalized Homogenous Image Points (Metric coordinates)"
   ]
  },
  {
   "cell_type": "code",
   "execution_count": 14,
   "metadata": {},
   "outputs": [
    {
     "name": "stdout",
     "output_type": "stream",
     "text": [
      "[[ 0.125       0.125       1.        ]\n",
      " [-0.125       0.125       1.        ]\n",
      " [-0.125      -0.125       1.        ]\n",
      " [ 0.13513514 -0.13513514  1.        ]]\n"
     ]
    }
   ],
   "source": [
    "norm_img_points = (np.linalg.inv(camera_matrix) @ hom_img_points.T).T\n",
    "print(norm_img_points)"
   ]
  },
  {
   "cell_type": "markdown",
   "metadata": {},
   "source": [
    "## Visualization"
   ]
  },
  {
   "cell_type": "code",
   "execution_count": 15,
   "metadata": {},
   "outputs": [
    {
     "data": {
      "application/vnd.jupyter.widget-view+json": {
       "model_id": "ffb41e609450453c92a7f98edd6c5e24",
       "version_major": 2,
       "version_minor": 0
      },
      "text/plain": [
       "Renderer(camera=PerspectiveCamera(aspect=1.5, children=(DirectionalLight(color='white', intensity=0.66, positi…"
      ]
     },
     "metadata": {},
     "output_type": "display_data"
    }
   ],
   "source": [
    "viewer = Viewer()\n",
    "viewer.add(Grid())\n",
    "viewer.add(Axes(0.5))"
   ]
  },
  {
   "cell_type": "markdown",
   "metadata": {},
   "source": [
    "### Add camera frame"
   ]
  },
  {
   "cell_type": "code",
   "execution_count": 17,
   "metadata": {},
   "outputs": [],
   "source": [
    "cam_axes = Axes(0.5)\n",
    "cam_axes.position = tvec.tolist()\n",
    "cam_axes.quaternion = quaternion_from_matrix(R).tolist()\n",
    "viewer.add(cam_axes)"
   ]
  },
  {
   "cell_type": "markdown",
   "metadata": {},
   "source": [
    "### Add object points in world frame"
   ]
  },
  {
   "cell_type": "code",
   "execution_count": 19,
   "metadata": {},
   "outputs": [],
   "source": [
    "for obj_point in obj_points:\n",
    "    ball = Ball()\n",
    "    ball.position = obj_point.tolist()\n",
    "    viewer.add(ball)"
   ]
  },
  {
   "cell_type": "markdown",
   "metadata": {},
   "source": [
    "### Add projection lines"
   ]
  },
  {
   "cell_type": "code",
   "execution_count": 20,
   "metadata": {},
   "outputs": [],
   "source": [
    "for obj_point in obj_points:\n",
    "    line = Line(tvec, obj_point)\n",
    "    viewer.add(line)"
   ]
  },
  {
   "cell_type": "markdown",
   "metadata": {},
   "source": [
    "### Add triangle of object_points"
   ]
  },
  {
   "cell_type": "code",
   "execution_count": 21,
   "metadata": {},
   "outputs": [],
   "source": [
    "obj_triangle = Triangle(*obj_points[:3])\n",
    "viewer.add(obj_triangle)"
   ]
  },
  {
   "cell_type": "markdown",
   "metadata": {},
   "source": [
    "### Add triangle of normalized homogenous image points"
   ]
  },
  {
   "cell_type": "code",
   "execution_count": 22,
   "metadata": {},
   "outputs": [],
   "source": [
    "img_triangle = Triangle(*norm_img_points[:3])\n",
    "cam_axes.add(img_triangle)"
   ]
  },
  {
   "cell_type": "markdown",
   "metadata": {},
   "source": [
    "## Solutions"
   ]
  },
  {
   "cell_type": "markdown",
   "metadata": {},
   "source": [
    "Find $n$ solutions using `cv.solveP3P`:"
   ]
  },
  {
   "cell_type": "code",
   "execution_count": 23,
   "metadata": {},
   "outputs": [
    {
     "name": "stdout",
     "output_type": "stream",
     "text": [
      "Found 4 solution(s):\n",
      "\n",
      "[[-0.03030303 -0.96969697  0.24242424  0.5       ]\n",
      " [-0.96969697 -0.03030303 -0.24242424  0.5       ]\n",
      " [ 0.24242424 -0.24242424 -0.93939394  2.        ]\n",
      " [ 0.          0.          0.          1.        ]] \n",
      "\n",
      "[[-0.01146663 -0.94295857 -0.33271257  0.46402284]\n",
      " [-0.99571761  0.04129242 -0.08271257  0.46402284]\n",
      " [ 0.09173304  0.33033934 -0.93939394  1.69781421]\n",
      " [ 0.          0.          0.          1.        ]] \n",
      "\n",
      "[[ 0.  -1.  -0.   0.5]\n",
      " [-1.   0.  -0.   0.5]\n",
      " [ 0.   0.  -1.   2. ]\n",
      " [ 0.   0.   0.   1. ]] \n",
      "\n",
      "[[ 0.04129242 -0.99571761  0.08271257  0.49040236]\n",
      " [-0.94295857 -0.01146663  0.33271257  0.49040236]\n",
      " [-0.33033934 -0.09173304 -0.93939394  2.11988658]\n",
      " [ 0.          0.          0.          1.        ]] \n",
      "\n"
     ]
    }
   ],
   "source": [
    "n, rvecs, tvecs = cv.solveP3P(\n",
    "    obj_points[:3, :], img_points[:3, :], camera_matrix, dist_coeffs, cv.SOLVEPNP_AP3P)\n",
    "print('Found {} solution(s):\\n'.format(n))\n",
    "for rvec, tvec in zip(rvecs, tvecs):\n",
    "    T = np.eye(4)\n",
    "    R, _ = cv.Rodrigues(rvec)\n",
    "    t = tvec\n",
    "    T[:3,:3] = R\n",
    "    T[:3,3] = t.ravel()\n",
    "    print(T,'\\n')"
   ]
  },
  {
   "cell_type": "markdown",
   "metadata": {},
   "source": [
    "Find $n$ solutions using solveP3P from this package:"
   ]
  },
  {
   "cell_type": "code",
   "execution_count": 29,
   "metadata": {},
   "outputs": [],
   "source": [
    "# n, rvecs, tvecs = solveP3P(\n",
    "#     obj_points, img_points, camera_matrix, dist_coeffs)\n",
    "# print('Found {} solution(s):\\n'.format(n))\n",
    "# for rvec, tvec in zip(rvecs, tvecs):\n",
    "#     T = np.eye(4)\n",
    "#     R, _ = cv.Rodrigues(rvec)\n",
    "#     t = tvec\n",
    "#     T[:3,:3] = R\n",
    "#     T[:3,3] = t.ravel()\n",
    "#     print(T,'\\n')"
   ]
  },
  {
   "cell_type": "markdown",
   "metadata": {},
   "source": [
    "### Visualize Solutions"
   ]
  },
  {
   "cell_type": "code",
   "execution_count": 27,
   "metadata": {},
   "outputs": [
    {
     "data": {
      "application/vnd.jupyter.widget-view+json": {
       "model_id": "e6b554f5bdff45038890c19a01bb38f5",
       "version_major": 2,
       "version_minor": 0
      },
      "text/plain": [
       "Renderer(camera=PerspectiveCamera(aspect=1.5, children=(DirectionalLight(color='white', intensity=0.66, positi…"
      ]
     },
     "metadata": {},
     "output_type": "display_data"
    }
   ],
   "source": [
    "viewer = Viewer()\n",
    "viewer.add(Grid())\n",
    "viewer.add(Axes(0.5))\n",
    "for obj_point in obj_points:\n",
    "    ball = Ball()\n",
    "    ball.position = obj_point.ravel().tolist()\n",
    "    viewer.add(ball)"
   ]
  },
  {
   "cell_type": "code",
   "execution_count": 28,
   "metadata": {},
   "outputs": [],
   "source": [
    "def visualize_solution(viewer, obj_points, img_points, rvec, tvec):\n",
    "    tvec = tvec.ravel()\n",
    "    R = np.eye(4)\n",
    "    R[:3, :3] = cv.Rodrigues(rvec)[0]\n",
    "\n",
    "    cam_axes = Axes(0.5)\n",
    "    cam_axes.position = tvec.tolist()\n",
    "    cam_axes.quaternion = quaternion_from_matrix(R).tolist()\n",
    "    viewer.add(cam_axes)\n",
    "\n",
    "#     img_points, _ = cv.projectPoints(\n",
    "#         obj_points, rvec, tvec, camera_matrix, dist_coeffs)\n",
    "#     hom_img_points = np.hstack((img_points.reshape(-1, 2), np.ones((4, 1))))\n",
    "#     norm_img_points = (np.linalg.inv(camera_matrix) @ hom_img_points.T).T\n",
    "    \n",
    "#     print(norm_img_points)\n",
    "\n",
    "#     img_triangle = Triangle(*norm_img_points[:3])\n",
    "#     cam_axes.add(img_triangle)\n",
    "    \n",
    "    \n",
    "#     for obj_point in obj_points:\n",
    "#         line = Line(tvec, obj_point)\n",
    "#         viewer.add(line)"
   ]
  },
  {
   "cell_type": "markdown",
   "metadata": {},
   "source": [
    "### Add all solutions to viewer"
   ]
  },
  {
   "cell_type": "code",
   "execution_count": 29,
   "metadata": {},
   "outputs": [],
   "source": [
    "for rvec, tvec in zip(rvecs, tvecs):\n",
    "    visualize_solution(viewer, obj_points, img_points, rvec, tvec)"
   ]
  },
  {
   "cell_type": "code",
   "execution_count": null,
   "metadata": {},
   "outputs": [],
   "source": []
  }
 ],
 "metadata": {
  "kernelspec": {
   "display_name": "Python 3",
   "language": "python",
   "name": "python3"
  },
  "language_info": {
   "codemirror_mode": {
    "name": "ipython",
    "version": 3
   },
   "file_extension": ".py",
   "mimetype": "text/x-python",
   "name": "python",
   "nbconvert_exporter": "python",
   "pygments_lexer": "ipython3",
   "version": "3.6.6"
  }
 },
 "nbformat": 4,
 "nbformat_minor": 2
}
