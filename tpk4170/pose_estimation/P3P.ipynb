{
 "cells": [
  {
   "cell_type": "code",
   "execution_count": 1,
   "metadata": {},
   "outputs": [],
   "source": [
    "import numpy as np\n",
    "import cv2 as cv"
   ]
  },
  {
   "cell_type": "code",
   "execution_count": 2,
   "metadata": {},
   "outputs": [],
   "source": [
    "np.set_printoptions(suppress=True)"
   ]
  },
  {
   "cell_type": "code",
   "execution_count": 3,
   "metadata": {},
   "outputs": [],
   "source": [
    "from tpk4170.visualization import Viewer\n",
    "from tpk4170.models import Ball, Grid, Axes\n",
    "from tpk4170.utils.transformations import quaternion_from_matrix, unit_vector"
   ]
  },
  {
   "cell_type": "code",
   "execution_count": 8,
   "metadata": {},
   "outputs": [
    {
     "data": {
      "application/vnd.jupyter.widget-view+json": {
       "model_id": "95746da5088643ba8c0ae713403c886d",
       "version_major": 2,
       "version_minor": 0
      },
      "text/plain": [
       "Renderer(camera=PerspectiveCamera(aspect=1.5, children=(DirectionalLight(color='white', intensity=0.66, positi…"
      ]
     },
     "metadata": {},
     "output_type": "display_data"
    }
   ],
   "source": [
    "viewer = Viewer()\n",
    "viewer.add(Grid())\n",
    "viewer.add(Axes(0.5))\n",
    "cam_axes = Axes(0.5)\n",
    "viewer.add(cam_axes)"
   ]
  },
  {
   "cell_type": "code",
   "execution_count": 9,
   "metadata": {},
   "outputs": [],
   "source": [
    "camera_matrix = np.array([[750.0, 0.0, 1280/2], \n",
    "              [0.0, 750.0, 1024/2], \n",
    "              [0.0, 0.0, 1.0]])\n",
    "dist_coeffs = np.zeros((5,1))"
   ]
  },
  {
   "cell_type": "code",
   "execution_count": 10,
   "metadata": {},
   "outputs": [],
   "source": [
    "tvec = np.array([0.5, 0.5, 2.0])\n",
    "R = np.array([[1.0, 0.0, 0.0, 0.0], \n",
    "              [0.0, -1.0, 0.0, 0.0], \n",
    "              [0.0, 0.0, -1.0, 0.0],\n",
    "              [0.0,0.0,0.0,1.0]])\n",
    "rvec, _ = cv.Rodrigues(R[:3,:3])"
   ]
  },
  {
   "cell_type": "code",
   "execution_count": 11,
   "metadata": {},
   "outputs": [],
   "source": [
    "cam_axes.position = tvec.tolist()\n",
    "cam_axes.quaternion = quaternion_from_matrix(R).tolist()"
   ]
  },
  {
   "cell_type": "code",
   "execution_count": 14,
   "metadata": {},
   "outputs": [],
   "source": [
    "obj_points = np.array([[0.5, 0.5, 0.0], \n",
    "                       [0.5, 1.5, 0.0], \n",
    "                       [1.5, 1.5, 0.0], \n",
    "                       [1.5, 0.5, 0.0]]) /2.0"
   ]
  },
  {
   "cell_type": "code",
   "execution_count": 15,
   "metadata": {},
   "outputs": [],
   "source": [
    "for p in obj_points:\n",
    "    ball = Ball()\n",
    "    ball.position = p.tolist()\n",
    "    viewer.add(ball)"
   ]
  },
  {
   "cell_type": "code",
   "execution_count": 17,
   "metadata": {},
   "outputs": [
    {
     "data": {
      "text/plain": [
       "array([[[ 921.25,  605.75]],\n",
       "\n",
       "       [[ 921.25,  418.25]],\n",
       "\n",
       "       [[1108.75,  418.25]],\n",
       "\n",
       "       [[1108.75,  605.75]]])"
      ]
     },
     "execution_count": 17,
     "metadata": {},
     "output_type": "execute_result"
    }
   ],
   "source": [
    "img_points, _ = cv.projectPoints(obj_points, rvec, tvec, camera_matrix, dist_coeffs)\n",
    "img_points"
   ]
  },
  {
   "cell_type": "code",
   "execution_count": 18,
   "metadata": {},
   "outputs": [
    {
     "data": {
      "text/plain": [
       "array([[ 0.375,  0.125],\n",
       "       [ 0.375, -0.125],\n",
       "       [ 0.625, -0.125],\n",
       "       [ 0.625,  0.125]])"
      ]
     },
     "execution_count": 18,
     "metadata": {},
     "output_type": "execute_result"
    }
   ],
   "source": [
    "cv.undistortPoints(img_points, camera_matrix, dist_coeffs).reshape(-1,2)"
   ]
  },
  {
   "cell_type": "code",
   "execution_count": 19,
   "metadata": {},
   "outputs": [
    {
     "name": "stdout",
     "output_type": "stream",
     "text": [
      "4\n"
     ]
    }
   ],
   "source": [
    "ret, rvecs, tvecs = cv.solveP3P(obj_points[:3], img_points[:3], camera_matrix, dist_coeffs, cv.SOLVEPNP_AP3P)\n",
    "print(ret)\n",
    "for r, t in zip(rvecs, tvecs):\n",
    "    R = np.eye(4)\n",
    "    R[:3,:3] = cv.Rodrigues(r)[0]\n",
    "#     print(t)\n",
    "#     print(R)\n",
    "#     print()\n",
    "    axes = Axes(0.5)\n",
    "    axes.position = t.ravel().tolist()\n",
    "    axes.quaternion = quaternion_from_matrix(R).tolist()\n",
    "    viewer.add(axes)"
   ]
  },
  {
   "cell_type": "code",
   "execution_count": 20,
   "metadata": {},
   "outputs": [
    {
     "data": {
      "text/plain": [
       "(array([[ 3.14159265],\n",
       "        [ 0.        ],\n",
       "        [-0.        ]]), array([[0.5],\n",
       "        [0.5],\n",
       "        [2. ]]))"
      ]
     },
     "execution_count": 20,
     "metadata": {},
     "output_type": "execute_result"
    }
   ],
   "source": [
    "ret, rvecs, tvecs = cv.solvePnP(obj_points, img_points, camera_matrix, dist_coeffs, cv.SOLVEPNP_P3P)\n",
    "rvecs, tvecs"
   ]
  },
  {
   "cell_type": "code",
   "execution_count": 21,
   "metadata": {},
   "outputs": [],
   "source": [
    "def cos_angle_between_vectors(a,b):\n",
    "    a = a / np.linalg.norm(a)\n",
    "    b = b / np.linalg.norm(b)\n",
    "    cos_theta = np.dot(a,b)\n",
    "    return cos_theta\n",
    "    \n",
    "def angle_between_vectors(a,b):\n",
    "    return np.arctan2(np.linalg.norm(np.cross(a,b)), np.dot(a,b))"
   ]
  },
  {
   "cell_type": "code",
   "execution_count": 22,
   "metadata": {},
   "outputs": [],
   "source": [
    "a, b, c = img_points[:3].reshape(-1,2)"
   ]
  },
  {
   "cell_type": "code",
   "execution_count": 23,
   "metadata": {},
   "outputs": [
    {
     "data": {
      "text/plain": [
       "array([921.25, 418.25])"
      ]
     },
     "execution_count": 23,
     "metadata": {},
     "output_type": "execute_result"
    }
   ],
   "source": [
    "b"
   ]
  },
  {
   "cell_type": "code",
   "execution_count": 24,
   "metadata": {},
   "outputs": [
    {
     "data": {
      "text/plain": [
       "array([[0.25, 0.25, 0.  ],\n",
       "       [0.25, 0.75, 0.  ],\n",
       "       [0.75, 0.75, 0.  ],\n",
       "       [0.75, 0.25, 0.  ]])"
      ]
     },
     "execution_count": 24,
     "metadata": {},
     "output_type": "execute_result"
    }
   ],
   "source": [
    "obj_points"
   ]
  },
  {
   "cell_type": "code",
   "execution_count": null,
   "metadata": {},
   "outputs": [],
   "source": []
  },
  {
   "cell_type": "code",
   "execution_count": 25,
   "metadata": {},
   "outputs": [],
   "source": [
    "def p3p_coeffs(Rab, Rac, Rbc, Cab, Cac, Cbc):\n",
    "    K1 = Rbc**2 / Rac**2\n",
    "    K2 = Rbc**2 / Rab**2\n",
    "    \n",
    "    G4 = (K1*K2-K1-K2)**2 - 4*K1*K2*Cbc**2\n",
    "    \n",
    "    G3 = 4*(K1*K2-K1-K2)*K2*(1-K1)*Cab + 4*K1*Cbc*((K1*K2-K1+K2)*Cac + 2*K2*Cab*Cbc)\n",
    "    \n",
    "    G2 = (2*K2*(1-K1)*Cab)**2 +\\\n",
    "            2*(K1*K2-K1-K2)*(K1*K2+K1-K2) +\\\n",
    "            4*K1*((K1-K2)*Cbc**2 + K1*(1-K2)*Cac**2 - 2*(1+K1)*K2*Cab*Cac*Cbc)\n",
    "    \n",
    "    G1 = 4*(K1*K2+K1-K2)*K2*(1-K1)*Cab +\\\n",
    "            4*K1*((K1*K2-K1+K2)*Cac*Cbc + 2*K1*K2*Cab*Cac**2)\n",
    "    \n",
    "    G0 = (K1*K2+K1-K2)**2 - 4*K1**2*K2*Cac**2\n",
    "    \n",
    "    coeffs = (G4, G3, G2, G1, G0)\n",
    "    \n",
    "    xs = np.roots(coeffs)\n",
    "    xs = np.real(xs[xs.imag < 1e-5])\n",
    "    \n",
    "    return xs"
   ]
  },
  {
   "cell_type": "code",
   "execution_count": 26,
   "metadata": {},
   "outputs": [
    {
     "data": {
      "text/plain": [
       "array([4.  , 1.  , 1.  , 0.25])"
      ]
     },
     "execution_count": 26,
     "metadata": {},
     "output_type": "execute_result"
    }
   ],
   "source": [
    "p3p_coeffs(2*np.sqrt(3), 2*np.sqrt(3), 2*np.sqrt(3), 20/32, 20/32., 20/32)"
   ]
  },
  {
   "cell_type": "code",
   "execution_count": 27,
   "metadata": {},
   "outputs": [],
   "source": [
    "def p3p(obj_points, img_points, camera_matrix, dist_coeffs):\n",
    "    A, B, C = obj_points.reshape(-1,3)[:3]\n",
    "    \n",
    "    hom_img_points = np.hstack((img_points[:3].reshape(-1,2), \n",
    "                                np.ones((3,1)))).T\n",
    "\n",
    "    x, y, z = (np.linalg.inv(camera_matrix) @ hom_img_points).T\n",
    "    \n",
    "    Rab = np.linalg.norm(B-A)\n",
    "    Rac = np.linalg.norm(C-A)\n",
    "    Rbc = np.linalg.norm(C-B)\n",
    "    \n",
    "#     Rab = Rac = Rbc = 2 * np.sqrt(3)\n",
    "    \n",
    "    Cab = np.cos(angle_between_vectors(x,y))\n",
    "    Cac = np.cos(angle_between_vectors(x,z))\n",
    "    Cbc = np.cos(cos_angle_between_vectors(y,z))\n",
    "    \n",
    "    print(Cab, Cac, Cbc)\n",
    "    \n",
    "#     Cab = Cac = Cbc = 20./32.\n",
    "    \n",
    "    xs = p3p_coeffs(Rab, Rac, Rbc, Cab, Cac, Cbc)\n",
    "    \n",
    "    as_ = np.array([Rab / np.sqrt(x**2 - 2*x*Cab + 1) for x in xs])\n",
    "    \n",
    "#     bs = [a * x for a,x in zip(as_, xs)]\n",
    "    \n",
    "#     def compute_y(x, a, b):\n",
    "#         m = 1-K1\n",
    "#         p = 2*(K1*Cac-x*Cbc)\n",
    "#         q = x**2-K1\n",
    "#         m_ = 1\n",
    "#         p_ = 2*(-x*Cbc)\n",
    "#         q_ = (x**2*(1-K2)+2*x*K2*Cab-K2)\n",
    "#         num = (p_*q - p*q_)\n",
    "#         den = (m*q_ - m_*q)\n",
    "#         if np.allclose(den, 0.0):\n",
    "#             y = Cac + np.sqrt(Cac**2 + (Rac**2 - a**2)/a**2)\n",
    "#             print(y)\n",
    "#             ym = Cac - np.sqrt(Cac**2 + (Rac**2 - a**2)/a**2)\n",
    "#             print(ym)\n",
    "#             if np.allclose(b**2 + (y*a)**2 - 2*b*(y*a)*Cbc, Rbc**2):\n",
    "#                 return y\n",
    "#             else:\n",
    "#                 return ym\n",
    "#         else:\n",
    "#             return num / den\n",
    "    \n",
    "#     ys = [compute_y(x, a, b) for x, a, b in zip(xs, as_, bs)] \n",
    "#     print(ys)\n",
    "# #     print(ys)\n",
    "    \n",
    "#     cs = [y*a for y, a, b in zip(ys, as_, bs) if np.allclose(b**2 + (y*a)**2 - 2*b*(y*a)*Cbc, Rbc**2)]\n",
    "    \n",
    "#     ret = np.array([(x, a, b, y, c) for (x,a,b,y,c) in zip(xs, as_, bs, ys, cs)])\n",
    "    \n",
    "    return ret"
   ]
  },
  {
   "cell_type": "code",
   "execution_count": 28,
   "metadata": {},
   "outputs": [
    {
     "name": "stdout",
     "output_type": "stream",
     "text": [
      "0.972972972972973 0.9557790087219501 0.5567848665163357\n"
     ]
    },
    {
     "data": {
      "text/plain": [
       "True"
      ]
     },
     "execution_count": 28,
     "metadata": {},
     "output_type": "execute_result"
    }
   ],
   "source": [
    "p3p(obj_points, img_points, camera_matrix, dist_coeffs)"
   ]
  },
  {
   "cell_type": "code",
   "execution_count": null,
   "metadata": {},
   "outputs": [],
   "source": []
  },
  {
   "cell_type": "code",
   "execution_count": 29,
   "metadata": {},
   "outputs": [
    {
     "data": {
      "text/plain": [
       "array([4.  +0.j        , 1.  +0.00000005j, 1.  -0.00000005j,\n",
       "       0.25+0.j        ])"
      ]
     },
     "execution_count": 29,
     "metadata": {},
     "output_type": "execute_result"
    }
   ],
   "source": [
    "np.roots((-0.5625, 3.515625, -5.90625, 3.515625, -0.5625))"
   ]
  },
  {
   "cell_type": "code",
   "execution_count": 34,
   "metadata": {
    "scrolled": true
   },
   "outputs": [
    {
     "ename": "NameError",
     "evalue": "name 'x' is not defined",
     "output_type": "error",
     "traceback": [
      "\u001b[0;31m---------------------------------------------------------------------------\u001b[0m",
      "\u001b[0;31mNameError\u001b[0m                                 Traceback (most recent call last)",
      "\u001b[0;32m<ipython-input-34-0474f9503941>\u001b[0m in \u001b[0;36m<module>\u001b[0;34m\u001b[0m\n\u001b[0;32m----> 1\u001b[0;31m \u001b[0mtvec\u001b[0m \u001b[0;34m+\u001b[0m \u001b[0munit_vector\u001b[0m\u001b[0;34m(\u001b[0m\u001b[0mtvec\u001b[0m\u001b[0;34m-\u001b[0m\u001b[0mx\u001b[0m\u001b[0;34m)\u001b[0m\u001b[0;34m*\u001b[0m\u001b[0mlengths\u001b[0m\u001b[0;34m[\u001b[0m\u001b[0;36m0\u001b[0m\u001b[0;34m]\u001b[0m\u001b[0;34m\u001b[0m\u001b[0m\n\u001b[0m",
      "\u001b[0;31mNameError\u001b[0m: name 'x' is not defined"
     ]
    }
   ],
   "source": [
    "tvec + unit_vector(tvec-x)*lengths[0] "
   ]
  },
  {
   "cell_type": "code",
   "execution_count": 35,
   "metadata": {},
   "outputs": [
    {
     "ename": "NameError",
     "evalue": "name 'A' is not defined",
     "output_type": "error",
     "traceback": [
      "\u001b[0;31m---------------------------------------------------------------------------\u001b[0m",
      "\u001b[0;31mNameError\u001b[0m                                 Traceback (most recent call last)",
      "\u001b[0;32m<ipython-input-35-35231ae4e99f>\u001b[0m in \u001b[0;36m<module>\u001b[0;34m\u001b[0m\n\u001b[0;32m----> 1\u001b[0;31m \u001b[0munit_vector\u001b[0m\u001b[0;34m(\u001b[0m\u001b[0mtvec\u001b[0m \u001b[0;34m-\u001b[0m \u001b[0mA\u001b[0m\u001b[0;34m)\u001b[0m\u001b[0;34m\u001b[0m\u001b[0m\n\u001b[0m",
      "\u001b[0;31mNameError\u001b[0m: name 'A' is not defined"
     ]
    }
   ],
   "source": [
    "unit_vector(tvec - A)"
   ]
  },
  {
   "cell_type": "code",
   "execution_count": 36,
   "metadata": {},
   "outputs": [
    {
     "ename": "NameError",
     "evalue": "name 'z' is not defined",
     "output_type": "error",
     "traceback": [
      "\u001b[0;31m---------------------------------------------------------------------------\u001b[0m",
      "\u001b[0;31mNameError\u001b[0m                                 Traceback (most recent call last)",
      "\u001b[0;32m<ipython-input-36-91cb684486c2>\u001b[0m in \u001b[0;36m<module>\u001b[0;34m\u001b[0m\n\u001b[0;32m----> 1\u001b[0;31m \u001b[0munit_vector\u001b[0m\u001b[0;34m(\u001b[0m\u001b[0mz\u001b[0m\u001b[0;34m)\u001b[0m\u001b[0;34m\u001b[0m\u001b[0m\n\u001b[0m",
      "\u001b[0;31mNameError\u001b[0m: name 'z' is not defined"
     ]
    }
   ],
   "source": [
    "unit_vector(z)"
   ]
  },
  {
   "cell_type": "code",
   "execution_count": 37,
   "metadata": {},
   "outputs": [
    {
     "ename": "NameError",
     "evalue": "name 'A' is not defined",
     "output_type": "error",
     "traceback": [
      "\u001b[0;31m---------------------------------------------------------------------------\u001b[0m",
      "\u001b[0;31mNameError\u001b[0m                                 Traceback (most recent call last)",
      "\u001b[0;32m<ipython-input-37-92520a72d775>\u001b[0m in \u001b[0;36m<module>\u001b[0;34m\u001b[0m\n\u001b[0;32m----> 1\u001b[0;31m \u001b[0mnp\u001b[0m\u001b[0;34m.\u001b[0m\u001b[0mlinalg\u001b[0m\u001b[0;34m.\u001b[0m\u001b[0mnorm\u001b[0m\u001b[0;34m(\u001b[0m\u001b[0mtvec\u001b[0m \u001b[0;34m-\u001b[0m \u001b[0mA\u001b[0m\u001b[0;34m)\u001b[0m\u001b[0;34m\u001b[0m\u001b[0m\n\u001b[0m",
      "\u001b[0;31mNameError\u001b[0m: name 'A' is not defined"
     ]
    }
   ],
   "source": [
    "np.linalg.norm(tvec - A)"
   ]
  },
  {
   "cell_type": "code",
   "execution_count": 53,
   "metadata": {},
   "outputs": [
    {
     "name": "stdout",
     "output_type": "stream",
     "text": [
      "2.03100960115899\n"
     ]
    }
   ],
   "source": [
    "a, b, c = [np.linalg.norm(tvec - p) for p in obj_points[:3]]\n",
    "print(a)"
   ]
  },
  {
   "cell_type": "code",
   "execution_count": 56,
   "metadata": {},
   "outputs": [
    {
     "data": {
      "text/plain": [
       "0.5"
      ]
     },
     "execution_count": 56,
     "metadata": {},
     "output_type": "execute_result"
    }
   ],
   "source": [
    "Rab"
   ]
  },
  {
   "cell_type": "code",
   "execution_count": 39,
   "metadata": {},
   "outputs": [],
   "source": [
    "A, B, C = obj_points.reshape(-1,3)[:3]\n",
    "Rab = np.linalg.norm(B-A)\n",
    "Rac = np.linalg.norm(C-A)\n",
    "Rbc = np.linalg.norm(C-B)"
   ]
  },
  {
   "cell_type": "code",
   "execution_count": 40,
   "metadata": {},
   "outputs": [
    {
     "data": {
      "text/plain": [
       "array([0.96969697, 0.93939394, 0.96969697])"
      ]
     },
     "execution_count": 40,
     "metadata": {},
     "output_type": "execute_result"
    }
   ],
   "source": [
    "Cab = (Rab**2 - a**2 - b**2) / (-2 * a * b) \n",
    "Cac = (Rac**2 - a**2 - c**2) / (-2 * a * c) \n",
    "Cbc = (Rbc**2 - b**2 - c**2) / (-2 * b * c)\n",
    "np.array([Cab, Cac, Cbc])"
   ]
  },
  {
   "cell_type": "code",
   "execution_count": 41,
   "metadata": {},
   "outputs": [
    {
     "ename": "NameError",
     "evalue": "name 'cosines' is not defined",
     "output_type": "error",
     "traceback": [
      "\u001b[0;31m---------------------------------------------------------------------------\u001b[0m",
      "\u001b[0;31mNameError\u001b[0m                                 Traceback (most recent call last)",
      "\u001b[0;32m<ipython-input-41-bf0ffe5e95fd>\u001b[0m in \u001b[0;36m<module>\u001b[0;34m\u001b[0m\n\u001b[0;32m----> 1\u001b[0;31m \u001b[0mcosines\u001b[0m\u001b[0;34m\u001b[0m\u001b[0m\n\u001b[0m",
      "\u001b[0;31mNameError\u001b[0m: name 'cosines' is not defined"
     ]
    }
   ],
   "source": [
    "cosines"
   ]
  },
  {
   "cell_type": "code",
   "execution_count": 42,
   "metadata": {},
   "outputs": [
    {
     "name": "stdout",
     "output_type": "stream",
     "text": [
      "0.9696969696969697 0.9393939393939394 0.9696969696969697\n"
     ]
    }
   ],
   "source": [
    "print(Cab, Cac, Cbc)"
   ]
  },
  {
   "cell_type": "code",
   "execution_count": 43,
   "metadata": {},
   "outputs": [
    {
     "data": {
      "text/plain": [
       "array([1.83129261, 2.0310096 , 2.04560087, 2.0310096 ])"
      ]
     },
     "execution_count": 43,
     "metadata": {},
     "output_type": "execute_result"
    }
   ],
   "source": [
    "xs = p3p_coeffs(Rab, Rac, Rbc, Cab, Cac, Cbc)\n",
    "as_ = Rab / np.sqrt(xs**2 - 2*xs*Cab + 1)\n",
    "as_"
   ]
  },
  {
   "cell_type": "code",
   "execution_count": 44,
   "metadata": {},
   "outputs": [],
   "source": [
    "p, q, r = np.hstack((cv.undistortPoints(img_points, camera_matrix, dist_coeffs).reshape(-1,2)[:3], np.ones((3,1))))"
   ]
  },
  {
   "cell_type": "code",
   "execution_count": null,
   "metadata": {},
   "outputs": [],
   "source": []
  },
  {
   "cell_type": "code",
   "execution_count": 45,
   "metadata": {},
   "outputs": [
    {
     "data": {
      "text/plain": [
       "array([[0.25, 0.25, 0.  ],\n",
       "       [0.25, 0.75, 0.  ],\n",
       "       [0.75, 0.75, 0.  ],\n",
       "       [0.75, 0.25, 0.  ]])"
      ]
     },
     "execution_count": 45,
     "metadata": {},
     "output_type": "execute_result"
    }
   ],
   "source": [
    "obj_points"
   ]
  },
  {
   "cell_type": "code",
   "execution_count": 46,
   "metadata": {},
   "outputs": [],
   "source": [
    "fx = fy = 750\n",
    "cx = 640\n",
    "cy = 512\n",
    "inv_fx = 1. / fx\n",
    "inv_fy = 1. / fy\n",
    "cx_fx = cx / fx\n",
    "cy_fy = cy / fy"
   ]
  },
  {
   "cell_type": "code",
   "execution_count": 47,
   "metadata": {},
   "outputs": [
    {
     "data": {
      "text/plain": [
       "array([[921.25, 605.75]])"
      ]
     },
     "execution_count": 47,
     "metadata": {},
     "output_type": "execute_result"
    }
   ],
   "source": [
    "img_points[0]"
   ]
  },
  {
   "cell_type": "code",
   "execution_count": 57,
   "metadata": {},
   "outputs": [],
   "source": [
    "ip = img_points.reshape(-1,2)\n",
    "\n",
    "mu0, mv0 = ip[0]\n",
    "mu0 = inv_fx * mu0 - cx_fx;\n",
    "mv0 = inv_fy * mv0 - cy_fy;\n",
    "norm = np.sqrt(mu0 * mu0 + mv0 * mv0 + 1);\n",
    "mk0 = 1. / norm; mu0 *= mk0; mv0 *= mk0;\n",
    "\n",
    "mu1, mv1 = ip[1]\n",
    "mu1 = inv_fx * mu1 - cx_fx;\n",
    "mv1 = inv_fy * mv1 - cy_fy;\n",
    "norm = np.sqrt(mu1 * mu1 + mv1 * mv1 + 1);\n",
    "mk1 = 1. / norm; mu1 *= mk1; mv1 *= mk1;\n",
    "\n",
    "mu2, mv2 = ip[2]\n",
    "mu2 = inv_fx * mu2 - cx_fx;\n",
    "mv2 = inv_fy * mv2 - cy_fy;\n",
    "norm = np.sqrt(mu2 * mu2 + mv2 * mv2 + 1);\n",
    "mk2 = 1. / norm; mu2 *= mk2; mv2 *= mk2;"
   ]
  },
  {
   "cell_type": "code",
   "execution_count": 58,
   "metadata": {},
   "outputs": [
    {
     "data": {
      "text/plain": [
       "array([0.98028616, 0.95577901, 0.97297297])"
      ]
     },
     "execution_count": 58,
     "metadata": {},
     "output_type": "execute_result"
    }
   ],
   "source": [
    "cosines = np.zeros(3)\n",
    "cosines[0] = mu1 * mu2 + mv1 * mv2 + mk1 * mk2;\n",
    "cosines[1] = mu0 * mu2 + mv0 * mv2 + mk0 * mk2;\n",
    "cosines[2] = mu0 * mu1 + mv0 * mv1 + mk0 * mk1;\n",
    "cosines\n",
    "# Cab, Cac, Cbc = cosines"
   ]
  },
  {
   "cell_type": "code",
   "execution_count": 59,
   "metadata": {},
   "outputs": [
    {
     "data": {
      "text/plain": [
       "array([1.83129261, 2.0310096 , 2.04560087, 2.0310096 ])"
      ]
     },
     "execution_count": 59,
     "metadata": {},
     "output_type": "execute_result"
    }
   ],
   "source": [
    "xs = p3p_coeffs(Rab, Rac, Rbc, Cab, Cac, Cbc)\n",
    "as_ = Rab / np.sqrt(xs**2 - 2*xs*Cab + 1)\n",
    "as_"
   ]
  },
  {
   "cell_type": "code",
   "execution_count": 64,
   "metadata": {},
   "outputs": [
    {
     "data": {
      "text/plain": [
       "array([2.0310096, 2.0310096, 2.0310096, 2.0310096])"
      ]
     },
     "execution_count": 64,
     "metadata": {},
     "output_type": "execute_result"
    }
   ],
   "source": [
    "np.linalg.norm(tvec - obj_points, axis=1)"
   ]
  },
  {
   "cell_type": "code",
   "execution_count": null,
   "metadata": {},
   "outputs": [],
   "source": [
    "np.array([mu0, mv0, mk0])"
   ]
  },
  {
   "cell_type": "code",
   "execution_count": null,
   "metadata": {},
   "outputs": [],
   "source": [
    "unit_vector(p)"
   ]
  },
  {
   "cell_type": "code",
   "execution_count": null,
   "metadata": {},
   "outputs": [],
   "source": [
    "np.inner(unit_vector(p), unit_vector(q))"
   ]
  },
  {
   "cell_type": "code",
   "execution_count": null,
   "metadata": {},
   "outputs": [],
   "source": []
  }
 ],
 "metadata": {
  "kernelspec": {
   "display_name": "Python 3",
   "language": "python",
   "name": "python3"
  },
  "language_info": {
   "codemirror_mode": {
    "name": "ipython",
    "version": 3
   },
   "file_extension": ".py",
   "mimetype": "text/x-python",
   "name": "python",
   "nbconvert_exporter": "python",
   "pygments_lexer": "ipython3",
   "version": "3.6.6"
  }
 },
 "nbformat": 4,
 "nbformat_minor": 2
}
