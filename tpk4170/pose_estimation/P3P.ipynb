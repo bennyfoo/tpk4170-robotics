{
 "cells": [
  {
   "cell_type": "code",
   "execution_count": 93,
   "metadata": {},
   "outputs": [],
   "source": [
    "import numpy as np\n",
    "import cv2 as cv"
   ]
  },
  {
   "cell_type": "code",
   "execution_count": 94,
   "metadata": {},
   "outputs": [],
   "source": [
    "np.set_printoptions(suppress=True)"
   ]
  },
  {
   "cell_type": "code",
   "execution_count": 95,
   "metadata": {},
   "outputs": [],
   "source": [
    "from tpk4170.visualization import Viewer\n",
    "from tpk4170.models import Ball, Grid, Axes\n",
    "from tpk4170.utils.transformations import quaternion_from_matrix, unit_vector"
   ]
  },
  {
   "cell_type": "code",
   "execution_count": 96,
   "metadata": {},
   "outputs": [
    {
     "data": {
      "application/vnd.jupyter.widget-view+json": {
       "model_id": "c38d9ec82592453fbf3df8dbf5eb7e85",
       "version_major": 2,
       "version_minor": 0
      },
      "text/plain": [
       "Renderer(camera=PerspectiveCamera(aspect=1.5, children=(DirectionalLight(color='white', intensity=0.66, positi…"
      ]
     },
     "metadata": {},
     "output_type": "display_data"
    }
   ],
   "source": [
    "viewer = Viewer()\n",
    "viewer.add(Grid())\n",
    "viewer.add(Axes(0.5))\n",
    "cam_axes = Axes(0.5)\n",
    "viewer.add(cam_axes)"
   ]
  },
  {
   "cell_type": "code",
   "execution_count": 97,
   "metadata": {},
   "outputs": [],
   "source": [
    "camera_matrix = np.array([[750.0, 0.0, 1280/2], \n",
    "              [0.0, 750.0, 1024/2], \n",
    "              [0.0, 0.0, 1.0]])\n",
    "dist_coeffs = np.zeros((5,1))"
   ]
  },
  {
   "cell_type": "code",
   "execution_count": 98,
   "metadata": {},
   "outputs": [],
   "source": [
    "tvec = np.array([0.5, 0.5, 2.0])\n",
    "R = np.array([[1.0, 0.0, 0.0, 0.0], \n",
    "              [0.0, -1.0, 0.0, 0.0], \n",
    "              [0.0, 0.0, -1.0, 0.0],\n",
    "              [0.0,0.0,0.0,1.0]])\n",
    "rvec, _ = cv.Rodrigues(R[:3,:3])"
   ]
  },
  {
   "cell_type": "code",
   "execution_count": 99,
   "metadata": {},
   "outputs": [],
   "source": [
    "cam_axes.position = tvec.tolist()\n",
    "cam_axes.quaternion = quaternion_from_matrix(R).tolist()"
   ]
  },
  {
   "cell_type": "code",
   "execution_count": 209,
   "metadata": {},
   "outputs": [],
   "source": [
    "obj_points = np.array([[0.5, 0.5, 0.1234], \n",
    "                       [0.5, 1.5, 0.1], \n",
    "                       [1.5, 1.5, 0.2], \n",
    "                       [1.5, 0.5, 0.3]]) /2.0"
   ]
  },
  {
   "cell_type": "code",
   "execution_count": 210,
   "metadata": {},
   "outputs": [],
   "source": [
    "for p in obj_points:\n",
    "    ball = Ball()\n",
    "    ball.position = p.tolist()\n",
    "    viewer.add(ball)"
   ]
  },
  {
   "cell_type": "code",
   "execution_count": 211,
   "metadata": {},
   "outputs": [
    {
     "data": {
      "text/plain": [
       "array([[[ 930.20275499,  608.73425166]],\n",
       "\n",
       "       [[ 928.46153846,  415.84615385]],\n",
       "\n",
       "       [[1133.42105263,  413.31578947]],\n",
       "\n",
       "       [[1146.75675676,  613.35135135]]])"
      ]
     },
     "execution_count": 211,
     "metadata": {},
     "output_type": "execute_result"
    }
   ],
   "source": [
    "img_points, _ = cv.projectPoints(obj_points, rvec, tvec, camera_matrix, dist_coeffs)\n",
    "img_points"
   ]
  },
  {
   "cell_type": "code",
   "execution_count": 212,
   "metadata": {},
   "outputs": [],
   "source": [
    "img_points = cv.undistortPoints(img_points, camera_matrix, dist_coeffs)"
   ]
  },
  {
   "cell_type": "code",
   "execution_count": 213,
   "metadata": {},
   "outputs": [
    {
     "name": "stdout",
     "output_type": "stream",
     "text": [
      "2\n"
     ]
    }
   ],
   "source": [
    "ret, rvecs, tvecs = cv.solveP3P(obj_points[:3], img_points[:3], camera_matrix, dist_coeffs, cv.SOLVEPNP_AP3P)\n",
    "print(ret)\n",
    "for r, t in zip(rvecs, tvecs):\n",
    "    R = np.eye(4)\n",
    "    R[:3,:3] = cv.Rodrigues(r)[0]\n",
    "#     print(t)\n",
    "#     print(R)\n",
    "#     print()\n",
    "    axes = Axes(0.5)\n",
    "    axes.position = t.ravel().tolist()\n",
    "    axes.quaternion = quaternion_from_matrix(R).tolist()\n",
    "    viewer.add(axes)"
   ]
  },
  {
   "cell_type": "code",
   "execution_count": 214,
   "metadata": {},
   "outputs": [
    {
     "data": {
      "text/plain": [
       "(array([[-1.54136642],\n",
       "        [ 0.02849365],\n",
       "        [-1.42339106]]), array([[-1211.66000999],\n",
       "        [ -969.2207256 ],\n",
       "        [ 1420.42503504]]))"
      ]
     },
     "execution_count": 214,
     "metadata": {},
     "output_type": "execute_result"
    }
   ],
   "source": [
    "ret, rvecs, tvecs = cv.solvePnP(obj_points, img_points, camera_matrix, dist_coeffs, cv.SOLVEPNP_P3P)\n",
    "rvecs, tvecs"
   ]
  },
  {
   "cell_type": "code",
   "execution_count": 215,
   "metadata": {},
   "outputs": [],
   "source": [
    "def cos_angle_between_vectors(a,b):\n",
    "    a = a / np.linalg.norm(a)\n",
    "    b = b / np.linalg.norm(b)\n",
    "    cos_theta = np.dot(a,b)\n",
    "    return cos_theta\n",
    "    \n",
    "def angle_between_vectors(a,b):\n",
    "    return np.arctan2(np.linalg.norm(np.cross(a,b)), np.dot(a,b))"
   ]
  },
  {
   "cell_type": "code",
   "execution_count": 216,
   "metadata": {},
   "outputs": [],
   "source": [
    "a, b, c = img_points[:3].reshape(-1,2)"
   ]
  },
  {
   "cell_type": "code",
   "execution_count": 217,
   "metadata": {},
   "outputs": [
    {
     "data": {
      "text/plain": [
       "array([ 0.38461538, -0.12820513])"
      ]
     },
     "execution_count": 217,
     "metadata": {},
     "output_type": "execute_result"
    }
   ],
   "source": [
    "b"
   ]
  },
  {
   "cell_type": "code",
   "execution_count": 218,
   "metadata": {},
   "outputs": [
    {
     "data": {
      "text/plain": [
       "array([[0.25  , 0.25  , 0.0617],\n",
       "       [0.25  , 0.75  , 0.05  ],\n",
       "       [0.75  , 0.75  , 0.1   ],\n",
       "       [0.75  , 0.25  , 0.15  ]])"
      ]
     },
     "execution_count": 218,
     "metadata": {},
     "output_type": "execute_result"
    }
   ],
   "source": [
    "obj_points"
   ]
  },
  {
   "cell_type": "code",
   "execution_count": null,
   "metadata": {},
   "outputs": [],
   "source": []
  },
  {
   "cell_type": "code",
   "execution_count": 219,
   "metadata": {},
   "outputs": [],
   "source": [
    "def p3p_coeffs(Rab, Rac, Rbc, Cab, Cac, Cbc):\n",
    "    K1 = Rbc**2 / Rac**2\n",
    "    K2 = Rbc**2 / Rab**2\n",
    "    \n",
    "    G4 = (K1*K2-K1-K2)**2 - 4*K1*K2*Cbc**2\n",
    "    \n",
    "    G3 = 4*(K1*K2-K1-K2)*K2*(1-K1)*Cab + 4*K1*Cbc*((K1*K2-K1+K2)*Cac + 2*K2*Cab*Cbc)\n",
    "    \n",
    "    G2 = (2*K2*(1-K1)*Cab)**2 +\\\n",
    "            2*(K1*K2-K1-K2)*(K1*K2+K1-K2) +\\\n",
    "            4*K1*((K1-K2)*Cbc**2 + K1*(1-K2)*Cac**2 - 2*(1+K1)*K2*Cab*Cac*Cbc)\n",
    "    \n",
    "    G1 = 4*(K1*K2+K1-K2)*K2*(1-K1)*Cab +\\\n",
    "            4*K1*((K1*K2-K1+K2)*Cac*Cbc + 2*K1*K2*Cab*Cac**2)\n",
    "    \n",
    "    G0 = (K1*K2+K1-K2)**2 - 4*K1**2*K2*Cac**2\n",
    "    \n",
    "    coeffs = (G4, G3, G2, G1, G0)\n",
    "    \n",
    "    xs = np.roots(coeffs)\n",
    "    xs = np.real(xs[xs.imag < 1e-5])\n",
    "    \n",
    "    return xs"
   ]
  },
  {
   "cell_type": "code",
   "execution_count": 220,
   "metadata": {},
   "outputs": [
    {
     "data": {
      "text/plain": [
       "array([4.  , 1.  , 1.  , 0.25])"
      ]
     },
     "execution_count": 220,
     "metadata": {},
     "output_type": "execute_result"
    }
   ],
   "source": [
    "p3p_coeffs(2*np.sqrt(3), 2*np.sqrt(3), 2*np.sqrt(3), 20/32, 20/32., 20/32)"
   ]
  },
  {
   "cell_type": "code",
   "execution_count": 221,
   "metadata": {},
   "outputs": [],
   "source": [
    "def p3p(obj_points, img_points, camera_matrix, dist_coeffs):\n",
    "    A, B, C = obj_points.reshape(-1,3)[:3]\n",
    "    \n",
    "    hom_img_points = np.hstack((img_points[:3].reshape(-1,2), \n",
    "                                np.ones((3,1)))).T\n",
    "\n",
    "    x, y, z = (np.linalg.inv(camera_matrix) @ hom_img_points).T\n",
    "    \n",
    "    Rab = np.linalg.norm(B-A)\n",
    "    Rac = np.linalg.norm(C-A)\n",
    "    Rbc = np.linalg.norm(C-B)\n",
    "    \n",
    "#     Rab = Rac = Rbc = 2 * np.sqrt(3)\n",
    "    \n",
    "    Cab = np.cos(angle_between_vectors(x,y))\n",
    "    Cac = np.cos(angle_between_vectors(x,z))\n",
    "    Cbc = np.cos(cos_angle_between_vectors(y,z))\n",
    "    \n",
    "    print(Cab, Cac, Cbc)\n",
    "    \n",
    "#     Cab = Cac = Cbc = 20./32.\n",
    "    \n",
    "    xs = p3p_coeffs(Rab, Rac, Rbc, Cab, Cac, Cbc)\n",
    "    \n",
    "    as_ = np.array([Rab / np.sqrt(x**2 - 2*x*Cab + 1) for x in xs])\n",
    "    \n",
    "#     bs = [a * x for a,x in zip(as_, xs)]\n",
    "    \n",
    "#     def compute_y(x, a, b):\n",
    "#         m = 1-K1\n",
    "#         p = 2*(K1*Cac-x*Cbc)\n",
    "#         q = x**2-K1\n",
    "#         m_ = 1\n",
    "#         p_ = 2*(-x*Cbc)\n",
    "#         q_ = (x**2*(1-K2)+2*x*K2*Cab-K2)\n",
    "#         num = (p_*q - p*q_)\n",
    "#         den = (m*q_ - m_*q)\n",
    "#         if np.allclose(den, 0.0):\n",
    "#             y = Cac + np.sqrt(Cac**2 + (Rac**2 - a**2)/a**2)\n",
    "#             print(y)\n",
    "#             ym = Cac - np.sqrt(Cac**2 + (Rac**2 - a**2)/a**2)\n",
    "#             print(ym)\n",
    "#             if np.allclose(b**2 + (y*a)**2 - 2*b*(y*a)*Cbc, Rbc**2):\n",
    "#                 return y\n",
    "#             else:\n",
    "#                 return ym\n",
    "#         else:\n",
    "#             return num / den\n",
    "    \n",
    "#     ys = [compute_y(x, a, b) for x, a, b in zip(xs, as_, bs)] \n",
    "#     print(ys)\n",
    "# #     print(ys)\n",
    "    \n",
    "#     cs = [y*a for y, a, b in zip(ys, as_, bs) if np.allclose(b**2 + (y*a)**2 - 2*b*(y*a)*Cbc, Rbc**2)]\n",
    "    \n",
    "#     ret = np.array([(x, a, b, y, c) for (x,a,b,y,c) in zip(xs, as_, bs, ys, cs)])\n",
    "    \n",
    "    return ret"
   ]
  },
  {
   "cell_type": "code",
   "execution_count": 222,
   "metadata": {},
   "outputs": [
    {
     "name": "stdout",
     "output_type": "stream",
     "text": [
      "0.9999999790167016 0.9999999432462598 0.5403023230649344\n"
     ]
    },
    {
     "data": {
      "text/plain": [
       "True"
      ]
     },
     "execution_count": 222,
     "metadata": {},
     "output_type": "execute_result"
    }
   ],
   "source": [
    "p3p(obj_points, img_points, camera_matrix, dist_coeffs)"
   ]
  },
  {
   "cell_type": "code",
   "execution_count": 223,
   "metadata": {},
   "outputs": [
    {
     "data": {
      "text/plain": [
       "array([[0.25  , 0.25  , 0.75  , 0.75  ],\n",
       "       [0.25  , 0.75  , 0.75  , 0.25  ],\n",
       "       [0.0617, 0.05  , 0.1   , 0.15  ],\n",
       "       [1.    , 1.    , 1.    , 1.    ]])"
      ]
     },
     "execution_count": 223,
     "metadata": {},
     "output_type": "execute_result"
    }
   ],
   "source": [
    "hom_obj_points = np.hstack((obj_points, np.ones((4,1)))).T\n",
    "hom_obj_points"
   ]
  },
  {
   "cell_type": "code",
   "execution_count": 224,
   "metadata": {},
   "outputs": [
    {
     "data": {
      "text/plain": [
       "array([[ 0.99024041, -0.03752319,  0.13422348,  0.5       ],\n",
       "       [-0.03527125, -0.99919491, -0.01911713,  0.5       ],\n",
       "       [ 0.13483275,  0.01419633, -0.99076667,  2.        ],\n",
       "       [ 0.        ,  0.        ,  0.        ,  1.        ]])"
      ]
     },
     "execution_count": 224,
     "metadata": {},
     "output_type": "execute_result"
    }
   ],
   "source": [
    "img_points2 = np.eye(3,4) @ hom_obj_points\n",
    "T = R.copy()\n",
    "T[:3,3] = tvec\n",
    "T"
   ]
  },
  {
   "cell_type": "code",
   "execution_count": 225,
   "metadata": {},
   "outputs": [
    {
     "name": "stdout",
     "output_type": "stream",
     "text": [
      "[[ 0.74646089  0.72612888  1.22796026  1.25343303]\n",
      " [ 0.24020393 -0.25916985 -0.27776133  0.22088027]\n",
      " [ 1.97612697  1.9948171   2.01269514  1.95605864]]\n"
     ]
    }
   ],
   "source": [
    "img_points2 = (np.eye(3,4) @ T @ hom_obj_points)\n",
    "print(img_points2)"
   ]
  },
  {
   "cell_type": "code",
   "execution_count": 226,
   "metadata": {},
   "outputs": [
    {
     "name": "stdout",
     "output_type": "stream",
     "text": [
      "0.37773933879213584 0.12155288472235228 1\n",
      "0.364007749901904 -0.12992161196335755 1\n",
      "0.6101074315234711 -0.13800467202670444 1\n",
      "0.6407952212212431 0.11292108662364878 1\n"
     ]
    }
   ],
   "source": [
    "for u,v,w in img_points2.T:\n",
    "    print(u/w, v/w, 1)"
   ]
  },
  {
   "cell_type": "code",
   "execution_count": null,
   "metadata": {},
   "outputs": [],
   "source": []
  },
  {
   "cell_type": "code",
   "execution_count": 227,
   "metadata": {},
   "outputs": [
    {
     "ename": "ValueError",
     "evalue": "too many values to unpack (expected 3)",
     "output_type": "error",
     "traceback": [
      "\u001b[0;31m---------------------------------------------------------------------------\u001b[0m",
      "\u001b[0;31mValueError\u001b[0m                                Traceback (most recent call last)",
      "\u001b[0;32m<ipython-input-227-ae055e0aa7a2>\u001b[0m in \u001b[0;36m<module>\u001b[0;34m\u001b[0m\n\u001b[0;32m----> 1\u001b[0;31m \u001b[0mimg_points2\u001b[0m \u001b[0;34m=\u001b[0m \u001b[0mnp\u001b[0m\u001b[0;34m.\u001b[0m\u001b[0marray\u001b[0m\u001b[0;34m(\u001b[0m\u001b[0;34m[\u001b[0m\u001b[0;34m(\u001b[0m\u001b[0mu\u001b[0m\u001b[0;34m/\u001b[0m\u001b[0mw\u001b[0m\u001b[0;34m,\u001b[0m \u001b[0mv\u001b[0m\u001b[0;34m/\u001b[0m\u001b[0mw\u001b[0m\u001b[0;34m,\u001b[0m \u001b[0;36m1\u001b[0m\u001b[0;34m)\u001b[0m \u001b[0;32mfor\u001b[0m \u001b[0;34m(\u001b[0m\u001b[0mu\u001b[0m\u001b[0;34m,\u001b[0m\u001b[0mv\u001b[0m\u001b[0;34m,\u001b[0m\u001b[0mw\u001b[0m\u001b[0;34m)\u001b[0m \u001b[0;32min\u001b[0m \u001b[0mimg_points2\u001b[0m\u001b[0;34m]\u001b[0m\u001b[0;34m)\u001b[0m\u001b[0;34m\u001b[0m\u001b[0m\n\u001b[0m\u001b[1;32m      2\u001b[0m \u001b[0mprint\u001b[0m\u001b[0;34m(\u001b[0m\u001b[0mimg_points2\u001b[0m\u001b[0;34m)\u001b[0m\u001b[0;34m\u001b[0m\u001b[0m\n",
      "\u001b[0;32m<ipython-input-227-ae055e0aa7a2>\u001b[0m in \u001b[0;36m<listcomp>\u001b[0;34m(.0)\u001b[0m\n\u001b[0;32m----> 1\u001b[0;31m \u001b[0mimg_points2\u001b[0m \u001b[0;34m=\u001b[0m \u001b[0mnp\u001b[0m\u001b[0;34m.\u001b[0m\u001b[0marray\u001b[0m\u001b[0;34m(\u001b[0m\u001b[0;34m[\u001b[0m\u001b[0;34m(\u001b[0m\u001b[0mu\u001b[0m\u001b[0;34m/\u001b[0m\u001b[0mw\u001b[0m\u001b[0;34m,\u001b[0m \u001b[0mv\u001b[0m\u001b[0;34m/\u001b[0m\u001b[0mw\u001b[0m\u001b[0;34m,\u001b[0m \u001b[0;36m1\u001b[0m\u001b[0;34m)\u001b[0m \u001b[0;32mfor\u001b[0m \u001b[0;34m(\u001b[0m\u001b[0mu\u001b[0m\u001b[0;34m,\u001b[0m\u001b[0mv\u001b[0m\u001b[0;34m,\u001b[0m\u001b[0mw\u001b[0m\u001b[0;34m)\u001b[0m \u001b[0;32min\u001b[0m \u001b[0mimg_points2\u001b[0m\u001b[0;34m]\u001b[0m\u001b[0;34m)\u001b[0m\u001b[0;34m\u001b[0m\u001b[0m\n\u001b[0m\u001b[1;32m      2\u001b[0m \u001b[0mprint\u001b[0m\u001b[0;34m(\u001b[0m\u001b[0mimg_points2\u001b[0m\u001b[0;34m)\u001b[0m\u001b[0;34m\u001b[0m\u001b[0m\n",
      "\u001b[0;31mValueError\u001b[0m: too many values to unpack (expected 3)"
     ]
    }
   ],
   "source": [
    "img_points2 = np.array([(u/w, v/w, 1) for (u,v,w) in img_points2])\n",
    "print(img_points2)"
   ]
  },
  {
   "cell_type": "code",
   "execution_count": 228,
   "metadata": {},
   "outputs": [
    {
     "data": {
      "text/plain": [
       "array([[[-0.85281742, -0.68249469]],\n",
       "\n",
       "       [[-0.85282051, -0.68283761]],\n",
       "\n",
       "       [[-0.85245614, -0.68284211]],\n",
       "\n",
       "       [[-0.85243243, -0.68248649]]])"
      ]
     },
     "execution_count": 228,
     "metadata": {},
     "output_type": "execute_result"
    }
   ],
   "source": [
    "cv.undistortPoints(img_points, camera_matrix, dist_coeffs)"
   ]
  },
  {
   "cell_type": "code",
   "execution_count": 229,
   "metadata": {},
   "outputs": [
    {
     "data": {
      "text/plain": [
       "array([4.  +0.j        , 1.  +0.00000005j, 1.  -0.00000005j,\n",
       "       0.25+0.j        ])"
      ]
     },
     "execution_count": 229,
     "metadata": {},
     "output_type": "execute_result"
    }
   ],
   "source": [
    "np.roots((-0.5625, 3.515625, -5.90625, 3.515625, -0.5625))"
   ]
  },
  {
   "cell_type": "code",
   "execution_count": 230,
   "metadata": {
    "scrolled": true
   },
   "outputs": [
    {
     "ename": "NameError",
     "evalue": "name 'x' is not defined",
     "output_type": "error",
     "traceback": [
      "\u001b[0;31m---------------------------------------------------------------------------\u001b[0m",
      "\u001b[0;31mNameError\u001b[0m                                 Traceback (most recent call last)",
      "\u001b[0;32m<ipython-input-230-0474f9503941>\u001b[0m in \u001b[0;36m<module>\u001b[0;34m\u001b[0m\n\u001b[0;32m----> 1\u001b[0;31m \u001b[0mtvec\u001b[0m \u001b[0;34m+\u001b[0m \u001b[0munit_vector\u001b[0m\u001b[0;34m(\u001b[0m\u001b[0mtvec\u001b[0m\u001b[0;34m-\u001b[0m\u001b[0mx\u001b[0m\u001b[0;34m)\u001b[0m\u001b[0;34m*\u001b[0m\u001b[0mlengths\u001b[0m\u001b[0;34m[\u001b[0m\u001b[0;36m0\u001b[0m\u001b[0;34m]\u001b[0m\u001b[0;34m\u001b[0m\u001b[0m\n\u001b[0m",
      "\u001b[0;31mNameError\u001b[0m: name 'x' is not defined"
     ]
    }
   ],
   "source": [
    "tvec + unit_vector(tvec-x)*lengths[0] "
   ]
  },
  {
   "cell_type": "code",
   "execution_count": 231,
   "metadata": {},
   "outputs": [
    {
     "data": {
      "text/plain": [
       "array([0.12309149, 0.12309149, 0.98473193])"
      ]
     },
     "execution_count": 231,
     "metadata": {},
     "output_type": "execute_result"
    }
   ],
   "source": [
    "unit_vector(tvec - A)"
   ]
  },
  {
   "cell_type": "code",
   "execution_count": 232,
   "metadata": {},
   "outputs": [
    {
     "ename": "NameError",
     "evalue": "name 'z' is not defined",
     "output_type": "error",
     "traceback": [
      "\u001b[0;31m---------------------------------------------------------------------------\u001b[0m",
      "\u001b[0;31mNameError\u001b[0m                                 Traceback (most recent call last)",
      "\u001b[0;32m<ipython-input-232-91cb684486c2>\u001b[0m in \u001b[0;36m<module>\u001b[0;34m\u001b[0m\n\u001b[0;32m----> 1\u001b[0;31m \u001b[0munit_vector\u001b[0m\u001b[0;34m(\u001b[0m\u001b[0mz\u001b[0m\u001b[0;34m)\u001b[0m\u001b[0;34m\u001b[0m\u001b[0m\n\u001b[0m",
      "\u001b[0;31mNameError\u001b[0m: name 'z' is not defined"
     ]
    }
   ],
   "source": [
    "unit_vector(z)"
   ]
  },
  {
   "cell_type": "code",
   "execution_count": 233,
   "metadata": {},
   "outputs": [
    {
     "data": {
      "text/plain": [
       "2.03100960115899"
      ]
     },
     "execution_count": 233,
     "metadata": {},
     "output_type": "execute_result"
    }
   ],
   "source": [
    "np.linalg.norm(tvec - A)"
   ]
  },
  {
   "cell_type": "code",
   "execution_count": 234,
   "metadata": {},
   "outputs": [
    {
     "name": "stdout",
     "output_type": "stream",
     "text": [
      "1.9702809165192663\n"
     ]
    }
   ],
   "source": [
    "a, b, c = [np.linalg.norm(tvec - p) for p in obj_points[:3]]\n",
    "print(a)"
   ]
  },
  {
   "cell_type": "code",
   "execution_count": 235,
   "metadata": {},
   "outputs": [
    {
     "data": {
      "text/plain": [
       "0.5024937810560445"
      ]
     },
     "execution_count": 235,
     "metadata": {},
     "output_type": "execute_result"
    }
   ],
   "source": [
    "Rab"
   ]
  },
  {
   "cell_type": "code",
   "execution_count": 236,
   "metadata": {},
   "outputs": [],
   "source": [
    "A, B, C = obj_points.reshape(-1,3)[:3]\n",
    "Rab = np.linalg.norm(B-A)\n",
    "Rac = np.linalg.norm(C-A)\n",
    "Rbc = np.linalg.norm(C-B)"
   ]
  },
  {
   "cell_type": "code",
   "execution_count": 237,
   "metadata": {},
   "outputs": [
    {
     "data": {
      "text/plain": [
       "array([0.96798663, 0.93433887, 0.96735262])"
      ]
     },
     "execution_count": 237,
     "metadata": {},
     "output_type": "execute_result"
    }
   ],
   "source": [
    "Cab = (Rab**2 - a**2 - b**2) / (-2 * a * b) \n",
    "Cac = (Rac**2 - a**2 - c**2) / (-2 * a * c) \n",
    "Cbc = (Rbc**2 - b**2 - c**2) / (-2 * b * c)\n",
    "np.array([Cab, Cac, Cbc])"
   ]
  },
  {
   "cell_type": "code",
   "execution_count": 238,
   "metadata": {},
   "outputs": [
    {
     "data": {
      "text/plain": [
       "array([0.99999998, 0.99999994, 0.99999998])"
      ]
     },
     "execution_count": 238,
     "metadata": {},
     "output_type": "execute_result"
    }
   ],
   "source": [
    "cosines"
   ]
  },
  {
   "cell_type": "code",
   "execution_count": 239,
   "metadata": {},
   "outputs": [
    {
     "name": "stdout",
     "output_type": "stream",
     "text": [
      "0.9679866311950411 0.9343388659929425 0.9673526203026861\n"
     ]
    }
   ],
   "source": [
    "print(Cab, Cac, Cbc)"
   ]
  },
  {
   "cell_type": "code",
   "execution_count": 240,
   "metadata": {},
   "outputs": [
    {
     "data": {
      "text/plain": [
       "array([1.78075526, 1.97028092, 1.98571715, 1.95653635])"
      ]
     },
     "execution_count": 240,
     "metadata": {},
     "output_type": "execute_result"
    }
   ],
   "source": [
    "xs = p3p_coeffs(Rab, Rac, Rbc, Cab, Cac, Cbc)\n",
    "as_ = Rab / np.sqrt(xs**2 - 2*xs*Cab + 1)\n",
    "as_"
   ]
  },
  {
   "cell_type": "code",
   "execution_count": 241,
   "metadata": {},
   "outputs": [
    {
     "ename": "error",
     "evalue": "OpenCV(3.4.3) /io/opencv/modules/imgproc/src/undistort.cpp:565: error: (-215:Assertion failed) src.isContinuous() && (src.depth() == CV_32F || src.depth() == CV_64F) && ((src.rows == 1 && src.channels() == 2) || src.cols*src.channels() == 2) in function 'undistortPoints'\n",
     "output_type": "error",
     "traceback": [
      "\u001b[0;31m---------------------------------------------------------------------------\u001b[0m",
      "\u001b[0;31merror\u001b[0m                                     Traceback (most recent call last)",
      "\u001b[0;32m<ipython-input-241-9acba8d44f23>\u001b[0m in \u001b[0;36m<module>\u001b[0;34m\u001b[0m\n\u001b[0;32m----> 1\u001b[0;31m \u001b[0mp\u001b[0m\u001b[0;34m,\u001b[0m \u001b[0mq\u001b[0m\u001b[0;34m,\u001b[0m \u001b[0mr\u001b[0m \u001b[0;34m=\u001b[0m \u001b[0mnp\u001b[0m\u001b[0;34m.\u001b[0m\u001b[0mhstack\u001b[0m\u001b[0;34m(\u001b[0m\u001b[0;34m(\u001b[0m\u001b[0mcv\u001b[0m\u001b[0;34m.\u001b[0m\u001b[0mundistortPoints\u001b[0m\u001b[0;34m(\u001b[0m\u001b[0mimg_points2\u001b[0m\u001b[0;34m,\u001b[0m \u001b[0mcamera_matrix\u001b[0m\u001b[0;34m,\u001b[0m \u001b[0mdist_coeffs\u001b[0m\u001b[0;34m)\u001b[0m\u001b[0;34m.\u001b[0m\u001b[0mreshape\u001b[0m\u001b[0;34m(\u001b[0m\u001b[0;34m-\u001b[0m\u001b[0;36m1\u001b[0m\u001b[0;34m,\u001b[0m\u001b[0;36m2\u001b[0m\u001b[0;34m)\u001b[0m\u001b[0;34m[\u001b[0m\u001b[0;34m:\u001b[0m\u001b[0;36m3\u001b[0m\u001b[0;34m]\u001b[0m\u001b[0;34m,\u001b[0m \u001b[0mnp\u001b[0m\u001b[0;34m.\u001b[0m\u001b[0mones\u001b[0m\u001b[0;34m(\u001b[0m\u001b[0;34m(\u001b[0m\u001b[0;36m3\u001b[0m\u001b[0;34m,\u001b[0m\u001b[0;36m1\u001b[0m\u001b[0;34m)\u001b[0m\u001b[0;34m)\u001b[0m\u001b[0;34m)\u001b[0m\u001b[0;34m)\u001b[0m\u001b[0;34m\u001b[0m\u001b[0m\n\u001b[0m",
      "\u001b[0;31merror\u001b[0m: OpenCV(3.4.3) /io/opencv/modules/imgproc/src/undistort.cpp:565: error: (-215:Assertion failed) src.isContinuous() && (src.depth() == CV_32F || src.depth() == CV_64F) && ((src.rows == 1 && src.channels() == 2) || src.cols*src.channels() == 2) in function 'undistortPoints'\n"
     ]
    }
   ],
   "source": [
    "p, q, r = np.hstack((cv.undistortPoints(img_points2, camera_matrix, dist_coeffs).reshape(-1,2)[:3], np.ones((3,1))))"
   ]
  },
  {
   "cell_type": "code",
   "execution_count": 242,
   "metadata": {},
   "outputs": [
    {
     "data": {
      "text/plain": [
       "array([0.75, 0.25, 0.15])"
      ]
     },
     "execution_count": 242,
     "metadata": {},
     "output_type": "execute_result"
    }
   ],
   "source": [
    "p"
   ]
  },
  {
   "cell_type": "code",
   "execution_count": 243,
   "metadata": {},
   "outputs": [
    {
     "data": {
      "text/plain": [
       "array([[0.25  , 0.25  , 0.0617],\n",
       "       [0.25  , 0.75  , 0.05  ],\n",
       "       [0.75  , 0.75  , 0.1   ],\n",
       "       [0.75  , 0.25  , 0.15  ]])"
      ]
     },
     "execution_count": 243,
     "metadata": {},
     "output_type": "execute_result"
    }
   ],
   "source": [
    "obj_points"
   ]
  },
  {
   "cell_type": "code",
   "execution_count": 244,
   "metadata": {},
   "outputs": [],
   "source": [
    "fx = fy = 750\n",
    "cx = 640\n",
    "cy = 512\n",
    "inv_fx = 1. / fx\n",
    "inv_fy = 1. / fy\n",
    "cx_fx = cx / fx\n",
    "cy_fy = cy / fy"
   ]
  },
  {
   "cell_type": "code",
   "execution_count": 245,
   "metadata": {},
   "outputs": [
    {
     "data": {
      "text/plain": [
       "array([[0.38693701, 0.128979  ]])"
      ]
     },
     "execution_count": 245,
     "metadata": {},
     "output_type": "execute_result"
    }
   ],
   "source": [
    "img_points[0]"
   ]
  },
  {
   "cell_type": "code",
   "execution_count": 246,
   "metadata": {},
   "outputs": [],
   "source": [
    "ip = img_points.reshape(-1,2)\n",
    "\n",
    "mu0, mv0 = ip[0]\n",
    "mu0 = inv_fx * mu0 - cx_fx;\n",
    "mv0 = inv_fy * mv0 - cy_fy;\n",
    "norm = np.sqrt(mu0 * mu0 + mv0 * mv0 + 1);\n",
    "mk0 = 1. / norm; mu0 *= mk0; mv0 *= mk0;\n",
    "\n",
    "mu1, mv1 = ip[1]\n",
    "mu1 = inv_fx * mu1 - cx_fx;\n",
    "mv1 = inv_fy * mv1 - cy_fy;\n",
    "norm = np.sqrt(mu1 * mu1 + mv1 * mv1 + 1);\n",
    "mk1 = 1. / norm; mu1 *= mk1; mv1 *= mk1;\n",
    "\n",
    "mu2, mv2 = ip[2]\n",
    "mu2 = inv_fx * mu2 - cx_fx;\n",
    "mv2 = inv_fy * mv2 - cy_fy;\n",
    "norm = np.sqrt(mu2 * mu2 + mv2 * mv2 + 1);\n",
    "mk2 = 1. / norm; mu2 *= mk2; mv2 *= mk2;"
   ]
  },
  {
   "cell_type": "code",
   "execution_count": 247,
   "metadata": {},
   "outputs": [
    {
     "data": {
      "text/plain": [
       "array([0.99999998, 0.99999994, 0.99999998])"
      ]
     },
     "execution_count": 247,
     "metadata": {},
     "output_type": "execute_result"
    }
   ],
   "source": [
    "cosines = np.zeros(3)\n",
    "cosines[0] = mu1 * mu2 + mv1 * mv2 + mk1 * mk2;\n",
    "cosines[1] = mu0 * mu2 + mv0 * mv2 + mk0 * mk2;\n",
    "cosines[2] = mu0 * mu1 + mv0 * mv1 + mk0 * mk1;\n",
    "cosines\n",
    "# Cab, Cac, Cbc = cosines"
   ]
  },
  {
   "cell_type": "code",
   "execution_count": 248,
   "metadata": {},
   "outputs": [
    {
     "data": {
      "text/plain": [
       "array([1.78075526, 1.97028092, 1.98571715, 1.95653635])"
      ]
     },
     "execution_count": 248,
     "metadata": {},
     "output_type": "execute_result"
    }
   ],
   "source": [
    "xs = p3p_coeffs(Rab, Rac, Rbc, Cab, Cac, Cbc)\n",
    "as_ = Rab / np.sqrt(xs**2 - 2*xs*Cab + 1)\n",
    "as_"
   ]
  },
  {
   "cell_type": "code",
   "execution_count": 249,
   "metadata": {},
   "outputs": [
    {
     "data": {
      "text/plain": [
       "array([1.97028092, 1.98179212, 1.93261481, 1.88348082])"
      ]
     },
     "execution_count": 249,
     "metadata": {},
     "output_type": "execute_result"
    }
   ],
   "source": [
    "np.linalg.norm(tvec - obj_points, axis=1)"
   ]
  },
  {
   "cell_type": "code",
   "execution_count": null,
   "metadata": {},
   "outputs": [],
   "source": [
    "np.array([mu0, mv0, mk0])"
   ]
  },
  {
   "cell_type": "code",
   "execution_count": null,
   "metadata": {},
   "outputs": [],
   "source": [
    "unit_vector(p)"
   ]
  },
  {
   "cell_type": "code",
   "execution_count": null,
   "metadata": {},
   "outputs": [],
   "source": [
    "np.inner(unit_vector(p), unit_vector(q))"
   ]
  },
  {
   "cell_type": "code",
   "execution_count": null,
   "metadata": {},
   "outputs": [],
   "source": []
  }
 ],
 "metadata": {
  "kernelspec": {
   "display_name": "Python 3",
   "language": "python",
   "name": "python3"
  },
  "language_info": {
   "codemirror_mode": {
    "name": "ipython",
    "version": 3
   },
   "file_extension": ".py",
   "mimetype": "text/x-python",
   "name": "python",
   "nbconvert_exporter": "python",
   "pygments_lexer": "ipython3",
   "version": "3.6.6"
  }
 },
 "nbformat": 4,
 "nbformat_minor": 2
}
