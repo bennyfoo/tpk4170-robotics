{
 "cells": [
  {
   "cell_type": "code",
   "execution_count": 43,
   "metadata": {},
   "outputs": [],
   "source": [
    "# Install dependencies. You only need to run this cell once at startup.\n",
    "# !pip install https://github.com/tingelst/tpk4170-robotics/archive/master.zip pycollada\n",
    "#!pip install /Users/lars/devel/tpk4170-robotics/"
   ]
  },
  {
   "cell_type": "markdown",
   "metadata": {},
   "source": [
    "# Exercise 6 - TPK4170 Robotics\n",
    "\n",
    "\n",
    "**Topic:** Inverse kinematics\n",
    "\n",
    "**Deadline:** October 19, 2018\n"
   ]
  },
  {
   "cell_type": "code",
   "execution_count": 44,
   "metadata": {},
   "outputs": [],
   "source": [
    "import numpy as np\n",
    "np.set_printoptions(suppress=True, precision=6)"
   ]
  },
  {
   "cell_type": "code",
   "execution_count": 45,
   "metadata": {},
   "outputs": [],
   "source": [
    "from exercise_6 import fk, Jacobian, UR5Visualizer"
   ]
  },
  {
   "cell_type": "markdown",
   "metadata": {},
   "source": [
    "# Inverse kinematics for the UR5"
   ]
  },
  {
   "cell_type": "markdown",
   "metadata": {},
   "source": [
    "<img src=\"https://aws.roboticsbusinessreview.com/wp-content/uploads/2014/09/UR5_Robot02.jpg\" width=\"300\"/>"
   ]
  },
  {
   "cell_type": "markdown",
   "metadata": {},
   "source": [
    "## Forward kinematics"
   ]
  },
  {
   "cell_type": "markdown",
   "metadata": {},
   "source": [
    "The Denavit-Hartenberg parameters for the UR5 are given below:"
   ]
  },
  {
   "cell_type": "code",
   "execution_count": 3,
   "metadata": {},
   "outputs": [],
   "source": [
    "a = [0.00000, -0.42500, -0.39225,  0.00000,  0.00000,  0.0000]\n",
    "d = [0.089159,  0.00000,  0.00000,  0.10915,  0.09465,  0.0823]\n",
    "alpha = [1.570796327, 0, 0, 1.570796327, -1.570796327, 0. ]\n",
    "q_zero_offset = [0., 0., 0., 0., 0., 0.]"
   ]
  },
  {
   "cell_type": "markdown",
   "metadata": {},
   "source": [
    "The `fk` function implements the forward kinematics of the UR5 given the 6-vector of joint angles `q`. The function returns a tuple of six homogenous transformation matrices: $\\mathbf{T}^0_1,\\ \\mathbf{T}^0_2,\\ \\mathbf{T}^0_3,\\ \\mathbf{T}^0_4,\\ \\mathbf{T}^0_5,\\ \\mathbf{T}^0_6$."
   ]
  },
  {
   "cell_type": "code",
   "execution_count": 4,
   "metadata": {},
   "outputs": [
    {
     "name": "stdout",
     "output_type": "stream",
     "text": [
      "[[ 1.        0.        0.       -0.39225 ]\n",
      " [ 0.       -0.       -1.       -0.19145 ]\n",
      " [ 0.        1.       -0.        0.419509]\n",
      " [ 0.        0.        0.        1.      ]]\n"
     ]
    }
   ],
   "source": [
    "q_home = np.array([0,-np.pi/2, np.pi/2,0,0,0])\n",
    "Ts = fk(q_home)\n",
    "T01, T02, T03, T04, T05, T06 = Ts\n",
    "print(T06)"
   ]
  },
  {
   "cell_type": "markdown",
   "metadata": {},
   "source": [
    "## Jacobian"
   ]
  },
  {
   "cell_type": "markdown",
   "metadata": {},
   "source": [
    "The `Jacobian` function takes as input a tuple of six homogeneous transformation matrices and returns the Jacobian matrix for a manipulator with six revolute joints."
   ]
  },
  {
   "cell_type": "code",
   "execution_count": 5,
   "metadata": {
    "scrolled": true
   },
   "outputs": [
    {
     "name": "stdout",
     "output_type": "stream",
     "text": [
      "[[ 0.19145 -0.33035  0.09465  0.09465 -0.0823  -0.     ]\n",
      " [-0.39225  0.       0.       0.       0.       0.     ]\n",
      " [ 0.      -0.39225 -0.39225  0.      -0.       0.     ]\n",
      " [ 0.       0.       0.       0.       0.       0.     ]\n",
      " [ 0.      -1.      -1.      -1.       0.      -1.     ]\n",
      " [ 1.      -0.      -0.      -0.      -1.      -0.     ]]\n"
     ]
    }
   ],
   "source": [
    "J = Jacobian(Ts)\n",
    "print(J)"
   ]
  },
  {
   "cell_type": "markdown",
   "metadata": {},
   "source": [
    "## Visualizer"
   ]
  },
  {
   "cell_type": "markdown",
   "metadata": {},
   "source": [
    "The `UR5Visualizer` class implement a visualization of the UR5 with frames attached to each link. The `show` method takes as input a 6-vector `q` of joint angles and visualize the current pose. The `interact` method can be used to *jog* each joint."
   ]
  },
  {
   "cell_type": "code",
   "execution_count": 6,
   "metadata": {
    "scrolled": false
   },
   "outputs": [
    {
     "data": {
      "application/vnd.jupyter.widget-view+json": {
       "model_id": "5e06234876074ed0aff57af725f9b91b",
       "version_major": 2,
       "version_minor": 0
      },
      "text/plain": [
       "Renderer(camera=PerspectiveCamera(aspect=1.5, children=(DirectionalLight(color='white', intensity=0.66, positi…"
      ]
     },
     "metadata": {},
     "output_type": "display_data"
    }
   ],
   "source": [
    "vis = UR5Visualizer()"
   ]
  },
  {
   "cell_type": "code",
   "execution_count": 7,
   "metadata": {},
   "outputs": [],
   "source": [
    "vis.show(q_home)"
   ]
  },
  {
   "cell_type": "code",
   "execution_count": 8,
   "metadata": {
    "scrolled": true
   },
   "outputs": [
    {
     "data": {
      "application/vnd.jupyter.widget-view+json": {
       "model_id": "d9adb4e005534a10a6679049645de529",
       "version_major": 2,
       "version_minor": 0
      },
      "text/plain": [
       "interactive(children=(FloatSlider(value=0.0, description='q1', max=3.141592653589793, min=-3.141592653589793),…"
      ]
     },
     "metadata": {},
     "output_type": "display_data"
    }
   ],
   "source": [
    "vis.interact()"
   ]
  },
  {
   "cell_type": "markdown",
   "metadata": {},
   "source": [
    "## Task 1\n",
    "\n",
    "Following section *10.8 Inverse kinematics of the UR5 industrial robot* in *A note on robot kinematics*, implement the analytic inverse kinematics of the UR5 in the function `analytic_ik`. The function should take at least the desired pose as a homogenous transformation matrix as input and return a 6-vector of joint angles."
   ]
  },
  {
   "cell_type": "code",
   "execution_count": 46,
   "metadata": {},
   "outputs": [],
   "source": [
    "def ik_analytical(T, shoulder=1, elbow=1, wrist=1):\n",
    "    \n",
    "    # Implement this function\n",
    "    \n",
    "    return q  "
   ]
  },
  {
   "cell_type": "markdown",
   "metadata": {},
   "source": [
    "## Task 2\n",
    "Implement the iterative inverse kinematics function `iterative_ik` for the UR5. The function should take at least the desired pose as a homogenous transformation matrix and the initial joint angles as input and return a 6-vector of joint angles. Use either the analytical Jacobian or the geometric Jacobian."
   ]
  },
  {
   "cell_type": "code",
   "execution_count": 10,
   "metadata": {},
   "outputs": [],
   "source": [
    "def ik_iterative(T, q0):\n",
    "    \n",
    "    # Implement this function\n",
    "    \n",
    "    return q"
   ]
  },
  {
   "cell_type": "markdown",
   "metadata": {},
   "source": [
    "## Evaluate your solution"
   ]
  },
  {
   "cell_type": "code",
   "execution_count": 31,
   "metadata": {},
   "outputs": [],
   "source": [
    "# Desired pose\n",
    "Td = np.array([[ 1.      ,  0.      ,  0.      , -0.244156],\n",
    "               [ 0.      , -0.      , -1.      , -0.664567],\n",
    "               [-0.      ,  1.      , -0.      ,  0.352134],\n",
    "               [ 0.      ,  0.      ,  0.      ,  1.      ]])"
   ]
  },
  {
   "cell_type": "code",
   "execution_count": 32,
   "metadata": {},
   "outputs": [],
   "source": [
    "# Initial guess\n",
    "q0 = q_zero = np.array([1,1,1,1,1,1])"
   ]
  },
  {
   "cell_type": "code",
   "execution_count": 33,
   "metadata": {},
   "outputs": [
    {
     "name": "stdout",
     "output_type": "stream",
     "text": [
      "[ 1.       -0.999999  1.        6.283184  1.       -0.      ]\n"
     ]
    }
   ],
   "source": [
    "# Solution from the analytical IK\n",
    "q_analytical = ik_analytical(Td)\n",
    "print(q_analytical)"
   ]
  },
  {
   "cell_type": "code",
   "execution_count": 34,
   "metadata": {},
   "outputs": [
    {
     "name": "stdout",
     "output_type": "stream",
     "text": [
      "[ 1.       -0.999999  1.        6.283184  1.       -0.      ]\n"
     ]
    }
   ],
   "source": [
    "# Solution from the iterative IK\n",
    "q_iterative = ik_iterative(Td, q0)\n",
    "print(q_iterative)"
   ]
  },
  {
   "cell_type": "code",
   "execution_count": 38,
   "metadata": {},
   "outputs": [
    {
     "name": "stdout",
     "output_type": "stream",
     "text": [
      "[[ 1.        0.        0.       -0.244156]\n",
      " [ 0.        0.000001 -1.       -0.664567]\n",
      " [-0.        1.        0.000001  0.352134]\n",
      " [ 0.        0.        0.        1.      ]]\n"
     ]
    }
   ],
   "source": [
    "# Pose, given the analytical solution\n",
    "T_analytical = fk(q_analytical)[5]\n",
    "print(T_analytical)"
   ]
  },
  {
   "cell_type": "code",
   "execution_count": 39,
   "metadata": {},
   "outputs": [
    {
     "name": "stdout",
     "output_type": "stream",
     "text": [
      "[[ 1.        0.        0.       -0.244156]\n",
      " [ 0.        0.000001 -1.       -0.664567]\n",
      " [-0.        1.        0.000001  0.352134]\n",
      " [ 0.        0.        0.        1.      ]]\n"
     ]
    }
   ],
   "source": [
    "# Pose, given the iterative solution\n",
    "T_iterative = fk(q_iterative)[5]\n",
    "print(T_iterative)"
   ]
  },
  {
   "cell_type": "code",
   "execution_count": 40,
   "metadata": {},
   "outputs": [
    {
     "data": {
      "text/plain": [
       "True"
      ]
     },
     "execution_count": 40,
     "metadata": {},
     "output_type": "execute_result"
    }
   ],
   "source": [
    "# Check if the computed poses are equal. Note that this is just a simple check. \n",
    "# You should in general compare the position and orientation separately, and decompose\n",
    "# the rotation angle and rotation axis. The result should be True.\n",
    "np.allclose(T_analytical, T_iterative)"
   ]
  },
  {
   "cell_type": "code",
   "execution_count": 41,
   "metadata": {},
   "outputs": [],
   "source": [
    "def ik_iterative(trf, q0=np.array([1,1,1,1,1,1])):\n",
    "    Rd = trf[:3,:3]\n",
    "    qk = q0\n",
    "    qs = []\n",
    "    for i in range(1000):\n",
    "        Ts = fk(qk)\n",
    "        Tk = Ts[5]\n",
    "        Jk = Jacobian(Ts)\n",
    "        Rk = Tk[:3,:3]\n",
    "        Re = Rd @ Rk.T\n",
    "        ep = trf[:3,3] - Tk[:3,3]\n",
    "        eo = np.array([Re[2,1] - Re[1,2], \n",
    "                       Re[0,2]-  Re[2,0], \n",
    "                       Re[1,0] - Re[0,1]]) * 0.5\n",
    "\n",
    "        e = np.array((ep, eo)).reshape(6,1)\n",
    "\n",
    "        K = 0.1\n",
    "        dq = K * np.dot(np.linalg.pinv(Jk),e).ravel()\n",
    "        qk = qk + dq \n",
    "        qs.append(qk)\n",
    "\n",
    "        if np.linalg.norm(e) < 1e-6:\n",
    "            break\n",
    "    return qk"
   ]
  },
  {
   "cell_type": "code",
   "execution_count": 48,
   "metadata": {},
   "outputs": [],
   "source": [
    "ik_analytical = ik_iterative"
   ]
  },
  {
   "cell_type": "code",
   "execution_count": 47,
   "metadata": {},
   "outputs": [],
   "source": [
    "def ik_analytical(trf):\n",
    "    pass "
   ]
  }
 ],
 "metadata": {
  "kernelspec": {
   "display_name": "Python 3",
   "language": "python",
   "name": "python3"
  },
  "language_info": {
   "codemirror_mode": {
    "name": "ipython",
    "version": 3
   },
   "file_extension": ".py",
   "mimetype": "text/x-python",
   "name": "python",
   "nbconvert_exporter": "python",
   "pygments_lexer": "ipython3",
   "version": "3.6.5"
  }
 },
 "nbformat": 4,
 "nbformat_minor": 2
}
