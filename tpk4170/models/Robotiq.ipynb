{
 "cells": [
  {
   "cell_type": "code",
   "execution_count": 1,
   "metadata": {},
   "outputs": [
    {
     "name": "stdout",
     "output_type": "stream",
     "text": [
      "Obtaining file:///home/lars/devel/tpk4170-robotics\n",
      "Installing collected packages: tpk4170\n",
      "  Found existing installation: tpk4170 1.0\n",
      "    Uninstalling tpk4170-1.0:\n",
      "      Successfully uninstalled tpk4170-1.0\n",
      "  Running setup.py develop for tpk4170\n",
      "Successfully installed tpk4170\n",
      "\u001b[33mYou are using pip version 10.0.1, however version 18.1 is available.\n",
      "You should consider upgrading via the 'pip install --upgrade pip' command.\u001b[0m\n"
     ]
    }
   ],
   "source": [
    "!pip install -e /home/lars/devel/tpk4170-robotics/"
   ]
  },
  {
   "cell_type": "code",
   "execution_count": 17,
   "metadata": {},
   "outputs": [],
   "source": [
    "import numpy as np\n",
    "from tpk4170.models import ColladaMesh, Grid, Axes\n",
    "from tpk4170.visualization import Viewer\n",
    "from tpk4170.utils.transformations import quaternion_from_euler"
   ]
  },
  {
   "cell_type": "code",
   "execution_count": 52,
   "metadata": {},
   "outputs": [],
   "source": [
    "base_link = ColladaMesh('./robotiq/2f85/robotiq_85_base_link.dae')\n",
    "right_finger_link = ColladaMesh('./robotiq/2f85/robotiq_85_finger_link.dae')\n",
    "left_finger_link = ColladaMesh('./robotiq/2f85/robotiq_85_finger_link.dae')\n",
    "finger_tip_link = ColladaMesh('./robotiq/2f85/robotiq_85_finger_tip_link.dae')\n",
    "left_inner_knuckle_link = ColladaMesh('./robotiq/2f85/robotiq_85_inner_knuckle_link.dae')\n",
    "right_inner_knuckle_link = ColladaMesh('./robotiq/2f85/robotiq_85_inner_knuckle_link.dae')\n",
    "left_knuckle_link = ColladaMesh('./robotiq/2f85/robotiq_85_knuckle_link.dae')\n",
    "right_knuckle_link = ColladaMesh('./robotiq/2f85/robotiq_85_knuckle_link.dae')"
   ]
  },
  {
   "cell_type": "code",
   "execution_count": 53,
   "metadata": {},
   "outputs": [
    {
     "data": {
      "application/vnd.jupyter.widget-view+json": {
       "model_id": "0df1874388ab468bad48fda05c11d44f",
       "version_major": 2,
       "version_minor": 0
      },
      "text/plain": [
       "Renderer(camera=PerspectiveCamera(aspect=1.5, children=(DirectionalLight(color='white', intensity=0.66, positi…"
      ]
     },
     "metadata": {},
     "output_type": "display_data"
    }
   ],
   "source": [
    "viewer = Viewer(background='white', camera_position=[1,1,1])\n",
    "viewer.add(Grid())"
   ]
  },
  {
   "cell_type": "code",
   "execution_count": 54,
   "metadata": {},
   "outputs": [],
   "source": [
    "viewer.add(base_link)"
   ]
  },
  {
   "cell_type": "code",
   "execution_count": null,
   "metadata": {},
   "outputs": [],
   "source": []
  },
  {
   "cell_type": "code",
   "execution_count": 55,
   "metadata": {},
   "outputs": [],
   "source": [
    "left_knuckle_link.quaternion = quaternion_from_euler(np.pi,0.0,0.0).tolist()\n",
    "left_knuckle_link.position = [0.05490451627, 0.03060114443, 0.0]\n",
    "base_link.add(left_knuckle_link)"
   ]
  },
  {
   "cell_type": "code",
   "execution_count": 58,
   "metadata": {},
   "outputs": [],
   "source": [
    "# right_knuckle_link.quaternion = quaternion_from_euler(0,0.0,0.0).tolist()\n",
    "right_knuckle_link.position = [0.05490451627, -0.03060114443, 0.0]\n",
    "base_link.add(right_knuckle_link)"
   ]
  },
  {
   "cell_type": "code",
   "execution_count": 59,
   "metadata": {},
   "outputs": [],
   "source": [
    "left_finger_link.position = [-0.00408552455, -0.03148604435, 0.0]\n",
    "left_knuckle_link.add(left_finger_link)"
   ]
  },
  {
   "cell_type": "code",
   "execution_count": 57,
   "metadata": {},
   "outputs": [],
   "source": [
    "right_finger_link.position = [-0.00408552455, -0.03148604435, 0.0]\n",
    "right_knuckle_link.add(right_finger_link)"
   ]
  },
  {
   "cell_type": "code",
   "execution_count": null,
   "metadata": {},
   "outputs": [],
   "source": []
  }
 ],
 "metadata": {
  "kernelspec": {
   "display_name": "Python 3",
   "language": "python",
   "name": "python3"
  },
  "language_info": {
   "codemirror_mode": {
    "name": "ipython",
    "version": 3
   },
   "file_extension": ".py",
   "mimetype": "text/x-python",
   "name": "python",
   "nbconvert_exporter": "python",
   "pygments_lexer": "ipython3",
   "version": "3.6.6"
  }
 },
 "nbformat": 4,
 "nbformat_minor": 2
}
