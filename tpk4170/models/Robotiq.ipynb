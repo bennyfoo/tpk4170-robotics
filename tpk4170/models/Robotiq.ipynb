{
 "cells": [
  {
   "cell_type": "code",
   "execution_count": 1,
   "metadata": {},
   "outputs": [
    {
     "name": "stdout",
     "output_type": "stream",
     "text": [
      "Obtaining file:///Users/lars/devel/tpk4170-robotics\n",
      "Installing collected packages: tpk4170\n",
      "  Found existing installation: tpk4170 1.0\n",
      "    Uninstalling tpk4170-1.0:\n",
      "      Successfully uninstalled tpk4170-1.0\n",
      "  Running setup.py develop for tpk4170\n",
      "Successfully installed tpk4170\n"
     ]
    }
   ],
   "source": [
    "!pip install -e /Users/lars/devel/tpk4170-robotics/"
   ]
  },
  {
   "cell_type": "code",
   "execution_count": 1,
   "metadata": {},
   "outputs": [],
   "source": [
    "import numpy as np\n",
    "from tpk4170.models import ColladaMesh, Grid, Axes\n",
    "from tpk4170.visualization import Viewer\n",
    "from tpk4170.utils.transformations import quaternion_from_euler"
   ]
  },
  {
   "cell_type": "code",
   "execution_count": 32,
   "metadata": {},
   "outputs": [],
   "source": [
    "from pythreejs import Object3D"
   ]
  },
  {
   "cell_type": "code",
   "execution_count": 33,
   "metadata": {},
   "outputs": [],
   "source": [
    "from ipywidgets import interact"
   ]
  },
  {
   "cell_type": "code",
   "execution_count": 3,
   "metadata": {},
   "outputs": [],
   "source": [
    "class Visual(Object3D):\n",
    "    def __init__(self, geometry=None, origin=[0.,0.,0.], rpy=[0.0,0.0,0.0]):\n",
    "        Object3D.__init__(self)\n",
    "        self.add(geometry)\n",
    "        self.position = origin\n",
    "        self.quaternion = quaternion_from_euler(*rpy).tolist()\n",
    "        \n",
    "class Link(Object3D):\n",
    "    def __init__(self, visual, origin=[0.,0.,0.], rpy=[0.0,0.0,0.0]):\n",
    "        Object3D.__init__(self)\n",
    "        self.visual = visual\n",
    "        self.add(self.visual)\n",
    "        \n",
    "        self.position = origin\n",
    "        self.quaternion = quaternion_from_euler(*rpy).tolist()\n",
    "\n",
    "        \n",
    "class Joint(Object3D):\n",
    "    def __init__(self, parent, child, axis, type_, origin=[0.,0.,0.], rpy=[0.0,0.0,0.0]):\n",
    "        Object3D.__init__(self)\n",
    "        self.parent = parent\n",
    "        self.child = child\n",
    "        self.axis = axis\n",
    "        self.type_ = type_\n",
    "        \n",
    "        self.parent.add(self)\n",
    "        self.add(child)\n",
    "        \n",
    "        self.position = origin\n",
    "        self.quaternion = quaternion_from_euler(*rpy).tolist()\n",
    "        \n",
    "        self._q = 0.0\n",
    "        \n",
    "    def angle(self, theta):\n",
    "        self.child.quaternion = quaternion_from_euler(*(np.array(self.axis) * theta)).tolist()\n",
    "        "
   ]
  },
  {
   "cell_type": "code",
   "execution_count": 18,
   "metadata": {},
   "outputs": [],
   "source": [
    "base_link = Link(visual=Visual(geometry=ColladaMesh(\n",
    "    './robotiq/2f85/robotiq_85_base_link.dae')))\n",
    "\n",
    "left_knuckle_link = Link(visual=Visual(geometry=ColladaMesh(\n",
    "    './robotiq/2f85/robotiq_85_knuckle_link.dae')))\n",
    "right_knuckle_link = Link(visual=Visual(geometry=ColladaMesh(\n",
    "    './robotiq/2f85/robotiq_85_knuckle_link.dae')))\n",
    "\n",
    "left_finger_link = Link(visual=Visual(geometry=ColladaMesh(\n",
    "    './robotiq/2f85/robotiq_85_finger_link.dae')))\n",
    "right_finger_link = Link(visual=Visual(geometry=ColladaMesh(\n",
    "    './robotiq/2f85/robotiq_85_finger_link.dae')))\n",
    "\n",
    "left_inner_knuckle_link = Link(visual=Visual(\n",
    "    geometry=ColladaMesh('./robotiq/2f85/robotiq_85_inner_knuckle_link.dae')))\n",
    "right_inner_knuckle_link = Link(visual=Visual(\n",
    "    geometry=ColladaMesh('./robotiq/2f85/robotiq_85_inner_knuckle_link.dae')))\n",
    "\n",
    "left_finger_tip_link = Link(visual=Visual(\n",
    "    geometry=ColladaMesh('./robotiq/2f85/robotiq_85_finger_tip_link.dae')))\n",
    "right_finger_tip_link = Link(visual=Visual(\n",
    "    geometry=ColladaMesh('./robotiq/2f85/robotiq_85_finger_tip_link.dae')))\n",
    "\n",
    "left_knuckle_joint = Joint(parent=base_link,\n",
    "                           child=left_knuckle_link,\n",
    "                           axis=[0.0, 0.0, 1.0],\n",
    "                           type_='revolute',\n",
    "                           origin=[0.05490451627, 0.03060114443, 0.0],\n",
    "                           rpy=[np.pi, 0.0, 0.0])\n",
    "\n",
    "right_knuckle_joint = Joint(parent=base_link,\n",
    "                            child=right_knuckle_link,\n",
    "                            axis=[0.0, 0.0, 1.0],\n",
    "                            type_='revolute',\n",
    "                            origin=[0.05490451627, -0.03060114443, 0.0],\n",
    "                            rpy=[0.0, 0.0, 0.0])\n",
    "\n",
    "left_finger_joint = Joint(parent=left_knuckle_link,\n",
    "                          child=left_finger_link,\n",
    "                          axis=[0.0, 0.0, 1.0],\n",
    "                          type_='revolute',\n",
    "                          origin=[-0.00408552455, -0.03148604435, 0.0],\n",
    "                          rpy=[0.0, 0.0, 0.0])\n",
    "\n",
    "right_finger_joint = Joint(parent=right_knuckle_link,\n",
    "                           child=right_finger_link,\n",
    "                           axis=[0.0, 0.0, 1.0],\n",
    "                           type_='revolute',\n",
    "                           origin=[-0.00408552455, -0.03148604435, 0.0],\n",
    "                           rpy=[0.0, 0.0, 0.0])\n",
    "\n",
    "left_inner_knuckle_joint = Joint(parent=base_link,\n",
    "                                 child=left_inner_knuckle_link,\n",
    "                                 axis=[0.0, 0.0, 1.0],\n",
    "                                 type_='revolute',\n",
    "                                 origin=[0.06142, 0.0127, 0.0],\n",
    "                                 rpy=[np.pi, 0.0, 0.0])\n",
    "\n",
    "right_inner_knuckle_joint = Joint(parent=base_link,\n",
    "                                  child=right_inner_knuckle_link,\n",
    "                                  axis=[0.0, 0.0, 1.0],\n",
    "                                  type_='revolute',\n",
    "                                  origin=[0.06142, -0.0127, 0.0],\n",
    "                                  rpy=[0.0, 0.0, 0.0])\n",
    "\n",
    "left_finger_tip_joint = Joint(parent=left_inner_knuckle_link,\n",
    "                              child=left_finger_tip_link,\n",
    "                              axis=[0.0, 0.0, 1.0],\n",
    "                              type_='revolute',\n",
    "                              origin=[0.04303959807, -0.03759940821, 0.0],\n",
    "                              rpy=[0.0, 0.0, 0.0])\n",
    "\n",
    "right_finger_tip_joint = Joint(parent=right_inner_knuckle_link,\n",
    "                               child=right_finger_tip_link,\n",
    "                               axis=[0.0, 0.0, 1.0],\n",
    "                               type_='revolute',\n",
    "                               origin=[0.04303959807, -0.03759940821, 0.0],\n",
    "                               rpy=[0.0, 0.0, 0.0])"
   ]
  },
  {
   "cell_type": "code",
   "execution_count": 49,
   "metadata": {},
   "outputs": [
    {
     "data": {
      "application/vnd.jupyter.widget-view+json": {
       "model_id": "8e0b48748c19449dbb938c63acaa2b8e",
       "version_major": 2,
       "version_minor": 0
      },
      "text/plain": [
       "Renderer(camera=PerspectiveCamera(aspect=1.5, children=(DirectionalLight(color='white', intensity=0.66, positi…"
      ]
     },
     "metadata": {},
     "output_type": "display_data"
    }
   ],
   "source": [
    "viewer = Viewer(background='white')\n",
    "viewer.add(Grid())\n",
    "viewer.add(base_link)\n",
    "base_link.add(Axes(size=0.1))"
   ]
  },
  {
   "cell_type": "code",
   "execution_count": 44,
   "metadata": {},
   "outputs": [],
   "source": [
    "from tpk4170.visualization import Kr6R900SixxVisualizer"
   ]
  },
  {
   "cell_type": "code",
   "execution_count": 45,
   "metadata": {},
   "outputs": [
    {
     "ename": "FileNotFoundError",
     "evalue": "[Errno 2] No such file or directory: '/home/lars/bin/miniconda3/envs/tpk4170/share/tpk4170/models/kr6r900sixx/visual/base_link.dae'",
     "output_type": "error",
     "traceback": [
      "\u001b[0;31m---------------------------------------------------------------------------\u001b[0m",
      "\u001b[0;31mFileNotFoundError\u001b[0m                         Traceback (most recent call last)",
      "\u001b[0;32m<ipython-input-45-4175b625a7c7>\u001b[0m in \u001b[0;36m<module>\u001b[0;34m\u001b[0m\n\u001b[0;32m----> 1\u001b[0;31m \u001b[0mkr6\u001b[0m \u001b[0;34m=\u001b[0m \u001b[0mKr6R900SixxVisualizer\u001b[0m\u001b[0;34m(\u001b[0m\u001b[0;34m)\u001b[0m\u001b[0;34m\u001b[0m\u001b[0m\n\u001b[0m",
      "\u001b[0;32m~/devel/tpk4170-robotics/tpk4170/visualization/visualization.py\u001b[0m in \u001b[0;36m__init__\u001b[0;34m(self, interact, show_trajectory)\u001b[0m\n\u001b[1;32m     69\u001b[0m     \u001b[0;32mdef\u001b[0m \u001b[0m__init__\u001b[0m\u001b[0;34m(\u001b[0m\u001b[0mself\u001b[0m\u001b[0;34m,\u001b[0m \u001b[0minteract\u001b[0m\u001b[0;34m=\u001b[0m\u001b[0;32mFalse\u001b[0m\u001b[0;34m,\u001b[0m \u001b[0mshow_trajectory\u001b[0m\u001b[0;34m=\u001b[0m\u001b[0;32mFalse\u001b[0m\u001b[0;34m)\u001b[0m\u001b[0;34m:\u001b[0m\u001b[0;34m\u001b[0m\u001b[0m\n\u001b[1;32m     70\u001b[0m         Visualizer.__init__(self,\n\u001b[0;32m---> 71\u001b[0;31m                             \u001b[0mkr6\u001b[0m\u001b[0;34m.\u001b[0m\u001b[0mBaseLink\u001b[0m\u001b[0;34m(\u001b[0m\u001b[0;34m)\u001b[0m\u001b[0;34m,\u001b[0m\u001b[0;34m\u001b[0m\u001b[0m\n\u001b[0m\u001b[1;32m     72\u001b[0m                             \u001b[0mkr6\u001b[0m\u001b[0;34m.\u001b[0m\u001b[0mLink1\u001b[0m\u001b[0;34m(\u001b[0m\u001b[0;34m)\u001b[0m\u001b[0;34m,\u001b[0m\u001b[0;34m\u001b[0m\u001b[0m\n\u001b[1;32m     73\u001b[0m                             \u001b[0mkr6\u001b[0m\u001b[0;34m.\u001b[0m\u001b[0mLink2\u001b[0m\u001b[0;34m(\u001b[0m\u001b[0;34m)\u001b[0m\u001b[0;34m,\u001b[0m\u001b[0;34m\u001b[0m\u001b[0m\n",
      "\u001b[0;32m~/devel/tpk4170-robotics/tpk4170/models/kr6r900sixx/kr6r900sixx.py\u001b[0m in \u001b[0;36m__init__\u001b[0;34m(self)\u001b[0m\n\u001b[1;32m     27\u001b[0m     \u001b[0;32mdef\u001b[0m \u001b[0m__init__\u001b[0m\u001b[0;34m(\u001b[0m\u001b[0mself\u001b[0m\u001b[0;34m)\u001b[0m\u001b[0;34m:\u001b[0m\u001b[0;34m\u001b[0m\u001b[0m\n\u001b[1;32m     28\u001b[0m         \u001b[0mObject3D\u001b[0m\u001b[0;34m.\u001b[0m\u001b[0m__init__\u001b[0m\u001b[0;34m(\u001b[0m\u001b[0mself\u001b[0m\u001b[0;34m)\u001b[0m\u001b[0;34m\u001b[0m\u001b[0m\n\u001b[0;32m---> 29\u001b[0;31m         \u001b[0mmesh\u001b[0m \u001b[0;34m=\u001b[0m \u001b[0mColladaMesh\u001b[0m\u001b[0;34m(\u001b[0m\u001b[0mdae_path\u001b[0m \u001b[0;34m+\u001b[0m \u001b[0;34m'base_link.dae'\u001b[0m\u001b[0;34m,\u001b[0m \u001b[0mscale\u001b[0m\u001b[0;34m=\u001b[0m\u001b[0;36m0.001\u001b[0m\u001b[0;34m)\u001b[0m\u001b[0;34m\u001b[0m\u001b[0m\n\u001b[0m\u001b[1;32m     30\u001b[0m         \u001b[0mself\u001b[0m\u001b[0;34m.\u001b[0m\u001b[0madd\u001b[0m\u001b[0;34m(\u001b[0m\u001b[0mmesh\u001b[0m\u001b[0;34m)\u001b[0m\u001b[0;34m\u001b[0m\u001b[0m\n\u001b[1;32m     31\u001b[0m         \u001b[0maxes\u001b[0m \u001b[0;34m=\u001b[0m \u001b[0mAxesHelper\u001b[0m\u001b[0;34m(\u001b[0m\u001b[0msize\u001b[0m\u001b[0;34m=\u001b[0m\u001b[0;36m0.5\u001b[0m\u001b[0;34m)\u001b[0m\u001b[0;34m\u001b[0m\u001b[0m\n",
      "\u001b[0;32m~/devel/tpk4170-robotics/tpk4170/models/models.py\u001b[0m in \u001b[0;36m__init__\u001b[0;34m(self, filename, scale)\u001b[0m\n\u001b[1;32m     40\u001b[0m         \u001b[0mGroup\u001b[0m\u001b[0;34m.\u001b[0m\u001b[0m__init__\u001b[0m\u001b[0;34m(\u001b[0m\u001b[0mself\u001b[0m\u001b[0;34m)\u001b[0m\u001b[0;34m\u001b[0m\u001b[0m\n\u001b[1;32m     41\u001b[0m \u001b[0;34m\u001b[0m\u001b[0m\n\u001b[0;32m---> 42\u001b[0;31m         \u001b[0mself\u001b[0m\u001b[0;34m.\u001b[0m\u001b[0m_dae\u001b[0m \u001b[0;34m=\u001b[0m \u001b[0mCollada\u001b[0m\u001b[0;34m(\u001b[0m\u001b[0mfilename\u001b[0m\u001b[0;34m)\u001b[0m\u001b[0;34m\u001b[0m\u001b[0m\n\u001b[0m\u001b[1;32m     43\u001b[0m         \u001b[0mself\u001b[0m\u001b[0;34m.\u001b[0m\u001b[0m_load_mesh\u001b[0m\u001b[0;34m(\u001b[0m\u001b[0mself\u001b[0m\u001b[0;34m.\u001b[0m\u001b[0m_dae\u001b[0m\u001b[0;34m,\u001b[0m \u001b[0mscale\u001b[0m\u001b[0;34m=\u001b[0m\u001b[0mscale\u001b[0m\u001b[0;34m)\u001b[0m\u001b[0;34m\u001b[0m\u001b[0m\n\u001b[1;32m     44\u001b[0m \u001b[0;34m\u001b[0m\u001b[0m\n",
      "\u001b[0;32m~/bin/miniconda3/envs/tpk4170/lib/python3.6/site-packages/collada/__init__.py\u001b[0m in \u001b[0;36m__init__\u001b[0;34m(self, filename, ignore, aux_file_loader, zip_filename, validate_output)\u001b[0m\n\u001b[1;32m    159\u001b[0m \u001b[0;34m\u001b[0m\u001b[0m\n\u001b[1;32m    160\u001b[0m         \u001b[0;32mif\u001b[0m \u001b[0misinstance\u001b[0m\u001b[0;34m(\u001b[0m\u001b[0mfilename\u001b[0m\u001b[0;34m,\u001b[0m \u001b[0mbasestring\u001b[0m\u001b[0;34m)\u001b[0m\u001b[0;34m:\u001b[0m\u001b[0;34m\u001b[0m\u001b[0m\n\u001b[0;32m--> 161\u001b[0;31m             \u001b[0mfdata\u001b[0m \u001b[0;34m=\u001b[0m \u001b[0mopen\u001b[0m\u001b[0;34m(\u001b[0m\u001b[0mfilename\u001b[0m\u001b[0;34m,\u001b[0m \u001b[0;34m'rb'\u001b[0m\u001b[0;34m)\u001b[0m\u001b[0;34m\u001b[0m\u001b[0m\n\u001b[0m\u001b[1;32m    162\u001b[0m             \u001b[0mself\u001b[0m\u001b[0;34m.\u001b[0m\u001b[0mfilename\u001b[0m \u001b[0;34m=\u001b[0m \u001b[0mfilename\u001b[0m\u001b[0;34m\u001b[0m\u001b[0m\n\u001b[1;32m    163\u001b[0m             \u001b[0mself\u001b[0m\u001b[0;34m.\u001b[0m\u001b[0mgetFileData\u001b[0m \u001b[0;34m=\u001b[0m \u001b[0mself\u001b[0m\u001b[0;34m.\u001b[0m\u001b[0m_getFileFromDisk\u001b[0m\u001b[0;34m\u001b[0m\u001b[0m\n",
      "\u001b[0;31mFileNotFoundError\u001b[0m: [Errno 2] No such file or directory: '/home/lars/bin/miniconda3/envs/tpk4170/share/tpk4170/models/kr6r900sixx/visual/base_link.dae'"
     ]
    }
   ],
   "source": [
    "kr6 = Kr6R900SixxVisualizer()"
   ]
  },
  {
   "cell_type": "code",
   "execution_count": 43,
   "metadata": {},
   "outputs": [
    {
     "data": {
      "application/vnd.jupyter.widget-view+json": {
       "model_id": "bc3f7fce4c9c4727b66ee42ac4762c65",
       "version_major": 2,
       "version_minor": 0
      },
      "text/plain": [
       "interactive(children=(FloatSlider(value=0.0, description='theta', max=1.0), Output()), _dom_classes=('widget-i…"
      ]
     },
     "metadata": {},
     "output_type": "display_data"
    }
   ],
   "source": [
    "@interact(x=(0.0,np.pi/4,0.01))\n",
    "def f(theta=0.0):\n",
    "    left_knuckle_joint.angle(theta)\n",
    "    left_inner_knuckle_joint.angle(theta)\n",
    "    left_finger_tip_joint.angle(-theta)\n",
    "\n",
    "    right_knuckle_joint.angle(theta)\n",
    "    right_inner_knuckle_joint.angle(theta)\n",
    "    right_finger_tip_joint.angle(-theta)"
   ]
  },
  {
   "cell_type": "code",
   "execution_count": 41,
   "metadata": {},
   "outputs": [
    {
     "data": {
      "application/vnd.jupyter.widget-view+json": {
       "model_id": "c0b2be7674594038b6f324254418e284",
       "version_major": 2,
       "version_minor": 0
      },
      "text/plain": [
       "interactive(children=(FloatSlider(value=0.0, description='theta', max=1.0), Output()), _dom_classes=('widget-i…"
      ]
     },
     "metadata": {},
     "output_type": "display_data"
    }
   ],
   "source": [
    "interact(f, x=(0.0, np.pi/4));"
   ]
  },
  {
   "cell_type": "code",
   "execution_count": null,
   "metadata": {},
   "outputs": [],
   "source": []
  }
 ],
 "metadata": {
  "kernelspec": {
   "display_name": "Python 3",
   "language": "python",
   "name": "python3"
  },
  "language_info": {
   "codemirror_mode": {
    "name": "ipython",
    "version": 3
   },
   "file_extension": ".py",
   "mimetype": "text/x-python",
   "name": "python",
   "nbconvert_exporter": "python",
   "pygments_lexer": "ipython3",
   "version": "3.6.6"
  }
 },
 "nbformat": 4,
 "nbformat_minor": 2
}
