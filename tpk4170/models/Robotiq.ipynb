{
 "cells": [
  {
   "cell_type": "code",
   "execution_count": 1,
   "metadata": {},
   "outputs": [
    {
     "name": "stdout",
     "output_type": "stream",
     "text": [
      "Obtaining file:///Users/lars/devel/tpk4170-robotics\n",
      "Installing collected packages: tpk4170\n",
      "  Found existing installation: tpk4170 1.0\n",
      "    Uninstalling tpk4170-1.0:\n",
      "      Successfully uninstalled tpk4170-1.0\n",
      "  Running setup.py develop for tpk4170\n",
      "Successfully installed tpk4170\n"
     ]
    }
   ],
   "source": [
    "!pip install -e /Users/lars/devel/tpk4170-robotics/"
   ]
  },
  {
   "cell_type": "code",
   "execution_count": 1,
   "metadata": {},
   "outputs": [],
   "source": [
    "import numpy as np\n",
    "from tpk4170.models import ColladaMesh, Grid, Axes\n",
    "from tpk4170.visualization import Viewer\n",
    "from tpk4170.utils.transformations import quaternion_from_euler"
   ]
  },
  {
   "cell_type": "code",
   "execution_count": 2,
   "metadata": {},
   "outputs": [],
   "source": [
    "from pythreejs import Object3D\n",
    "from enum import Enum"
   ]
  },
  {
   "cell_type": "code",
   "execution_count": null,
   "metadata": {},
   "outputs": [],
   "source": []
  },
  {
   "cell_type": "code",
   "execution_count": 35,
   "metadata": {},
   "outputs": [],
   "source": [
    "class Visual(Object3D):\n",
    "    def __init__(self, geometry=None, origin=[0.,0.,0.], rpy=[0.0,0.0,0.0]):\n",
    "        Object3D.__init__(self)\n",
    "        self.add(geometry)\n",
    "        self.position = origin\n",
    "        self.quaternion = quaternion_from_euler(*rpy).tolist()\n",
    "        \n",
    "class Link(Object3D):\n",
    "    def __init__(self, visual, origin=[0.,0.,0.], rpy=[0.0,0.0,0.0]):\n",
    "        Object3D.__init__(self)\n",
    "        self.visual = visual\n",
    "        self.add(self.visual)\n",
    "        \n",
    "        self.position = origin\n",
    "        self.quaternion = quaternion_from_euler(*rpy).tolist()\n",
    "\n",
    "        \n",
    "class Joint(Object3D):\n",
    "    def __init__(self, parent, child, axis, type_, origin=[0.,0.,0.], rpy=[0.0,0.0,0.0]):\n",
    "        Object3D.__init__(self)\n",
    "        self.parent = parent\n",
    "        self.child = child\n",
    "        self.axis = axis\n",
    "        self.type_ = type_\n",
    "        \n",
    "        self.parent.add(self)\n",
    "        self.add(child)\n",
    "        \n",
    "        self.position = origin\n",
    "        self.quaternion = quaternion_from_euler(*rpy).tolist()\n",
    "        \n",
    "        self._q = 0.0\n",
    "        \n",
    "    def angle(self, theta):\n",
    "        self.child.quaternion = quaternion_from_euler(*(np.array(self.axis) * theta)).tolist()\n",
    "        "
   ]
  },
  {
   "cell_type": "code",
   "execution_count": 58,
   "metadata": {},
   "outputs": [],
   "source": [
    "base_link = Link(visual=Visual(geometry=ColladaMesh('./robotiq/2f85/robotiq_85_base_link.dae')))\n",
    "\n",
    "left_knuckle_link = Link(visual=Visual(geometry=ColladaMesh('./robotiq/2f85/robotiq_85_knuckle_link.dae')))\n",
    "right_knuckle_link = Link(visual=Visual(geometry=ColladaMesh('./robotiq/2f85/robotiq_85_knuckle_link.dae')))\n",
    "\n",
    "left_knuckle_joint = Joint(parent=base_link, \n",
    "                           child=left_knuckle_link, \n",
    "                           axis=[0.0, 0.0, 1.0], \n",
    "                           type_='revolute',\n",
    "                           origin=[0.05490451627, 0.03060114443, 0.0],\n",
    "                           rpy=[np.pi, 0.0, 0.0])\n",
    "\n",
    "right_knuckle_joint = Joint(parent=base_link, \n",
    "                           child=right_knuckle_link, \n",
    "                           axis=[0.0, 0.0, 1.0], \n",
    "                           type_='revolute',\n",
    "                           origin=[0.05490451627, -0.03060114443, 0.0],\n",
    "                           rpy=[0.0, 0.0, 0.0])\n",
    "\n",
    "\n",
    "left_finger_link = Link(visual=Visual(geometry=ColladaMesh('./robotiq/2f85/robotiq_85_finger_link.dae')))\n",
    "right_finger_link = Link(visual=Visual(geometry=ColladaMesh('./robotiq/2f85/robotiq_85_finger_link.dae')))\n",
    "\n",
    "left_finger_joint = Joint(parent=left_knuckle_link, \n",
    "                           child=left_finger_link, \n",
    "                           axis=[0.0, 0.0, 1.0], \n",
    "                           type_='revolute',\n",
    "                           origin=[-0.00408552455, -0.03148604435, 0.0],\n",
    "                           rpy=[0.0, 0.0, 0.0])\n",
    "\n",
    "right_finger_joint = Joint(parent=right_knuckle_link, \n",
    "                           child=right_finger_link, \n",
    "                           axis=[0.0, 0.0, 1.0], \n",
    "                           type_='revolute',\n",
    "                           origin=[-0.00408552455, -0.03148604435, 0.0],\n",
    "                           rpy=[0.0, 0.0, 0.0])\n",
    "\n",
    "left_inner_knuckle_link = Link(visual=Visual(\n",
    "    geometry=ColladaMesh('./robotiq/2f85/robotiq_85_inner_knuckle_link.dae')))\n",
    "right_inner_knuckle_link = Link(visual=Visual(\n",
    "    geometry=ColladaMesh('./robotiq/2f85/robotiq_85_inner_knuckle_link.dae')))\n",
    "\n",
    "left_inner_knuckle_joint = Joint(parent=base_link, \n",
    "                                 child=left_inner_knuckle_link, \n",
    "                                 axis=[0.0, 0.0, 1.0], \n",
    "                                 type_='revolute',\n",
    "                                 origin=[0.06142, 0.0127, 0.0],\n",
    "                                 rpy=[np.pi, 0.0, 0.0])\n",
    "\n",
    "right_inner_knuckle_joint = Joint(parent=base_link, \n",
    "                                  child=right_inner_knuckle_link, \n",
    "                                  axis=[0.0, 0.0, 1.0], \n",
    "                                  type_='revolute',\n",
    "                                  origin=[0.06142, -0.0127, 0.0],\n",
    "                                  rpy=[0.0, 0.0, 0.0])\n",
    "\n",
    "left_finger_tip_link = Link(visual=Visual(\n",
    "    geometry=ColladaMesh('./robotiq/2f85/robotiq_85_finger_tip_link.dae')))\n",
    "right_finger_tip_link = Link(visual=Visual(\n",
    "    geometry=ColladaMesh('./robotiq/2f85/robotiq_85_finger_tip_link.dae')))\n",
    "\n",
    "left_finger_tip_joint = Joint(parent=left_inner_knuckle_link, \n",
    "                                 child=left_finger_tip_link, \n",
    "                                 axis=[0.0, 0.0, 1.0], \n",
    "                                 type_='revolute',\n",
    "                                 origin=[0.04303959807, -0.03759940821, 0.0],\n",
    "                                 rpy=[0.0, 0.0, 0.0])\n",
    "\n",
    "right_finger_tip_joint = Joint(parent=right_inner_knuckle_link, \n",
    "                                  child=right_finger_tip_link, \n",
    "                                  axis=[0.0, 0.0, 1.0], \n",
    "                                  type_='revolute',\n",
    "                                  origin=[0.04303959807, -0.03759940821, 0.0],\n",
    "                                  rpy=[0.0, 0.0, 0.0])\n",
    "\n",
    "\n",
    "# Link(visual=ColladaMesh('./robotiq/2f85/robotiq_85_knuckle_link.dae'))\n",
    "# right_knuckle_link = Link(visual=ColladaMesh('./robotiq/2f85/robotiq_85_knuckle_link.dae'))\n",
    "# left_knuckle_joint = Joint(parent=base_link, child=left_knuckle_link)"
   ]
  },
  {
   "cell_type": "code",
   "execution_count": 59,
   "metadata": {},
   "outputs": [],
   "source": [
    "# <xacro:macro name=\"inner_knuckle_joint\" params=\"prefix fingerprefix reflect\">\n",
    "#     <joint name=\"${prefix}${fingerprefix}_inner_knuckle_joint\" type=\"revolute\">\n",
    "#       <origin xyz=\"0 ${reflect * -0.0127} 0.06142\" rpy=\"${pi / 2 + .725} 0 ${(reflect - 1) * pi / 2}\" />\n",
    "#       <parent link=\"${prefix}robotiq_arg2f_base_link\" />\n",
    "#       <child link=\"${prefix}${fingerprefix}_inner_knuckle\" />\n",
    "#       <axis xyz=\"1 0 0\" />\n",
    "#       <limit lower=\"0\" upper=\"0.8757\" velocity=\"2.0\" effort=\"1000\" />\n",
    "#       <mimic joint=\"${prefix}finger_joint\" multiplier=\"-1\" offset=\"0\" />\n",
    "#     </joint>\n",
    "#   </xacro:macro>"
   ]
  },
  {
   "cell_type": "code",
   "execution_count": 60,
   "metadata": {},
   "outputs": [
    {
     "data": {
      "application/vnd.jupyter.widget-view+json": {
       "model_id": "6e8079845db04edfb9977b404c59351d",
       "version_major": 2,
       "version_minor": 0
      },
      "text/plain": [
       "Preview(child=Link(children=(Visual(children=(ColladaMesh(children=(Mesh(geometry=BufferGeometry(attributes={'…"
      ]
     },
     "metadata": {},
     "output_type": "display_data"
    }
   ],
   "source": [
    "base_link"
   ]
  },
  {
   "cell_type": "code",
   "execution_count": 61,
   "metadata": {},
   "outputs": [
    {
     "data": {
      "application/vnd.jupyter.widget-view+json": {
       "model_id": "8dd23296e3ae46c898c5e3f932944229",
       "version_major": 2,
       "version_minor": 0
      },
      "text/plain": [
       "Renderer(camera=PerspectiveCamera(aspect=1.5, children=(DirectionalLight(color='white', intensity=0.66, positi…"
      ]
     },
     "metadata": {},
     "output_type": "display_data"
    }
   ],
   "source": [
    "viewer = Viewer(background='white')\n",
    "viewer.add(Grid())\n",
    "viewer.add(base_link)"
   ]
  },
  {
   "cell_type": "code",
   "execution_count": 66,
   "metadata": {},
   "outputs": [],
   "source": [
    "left_knuckle_joint.angle(0.2)\n",
    "left_finger_joint.angle(-0.2)\n",
    "left_inner_knuckle_joint.angle(0.2)\n",
    "left_finger_tip_joint.angle(-0.2)"
   ]
  },
  {
   "cell_type": "code",
   "execution_count": 53,
   "metadata": {},
   "outputs": [],
   "source": [
    "left_knuckle_joint.angle(0.0)\n",
    "\n",
    ", left_finger_tip_joint]\n",
    "for j in ljoints:\n",
    "    j.angle(0.0)"
   ]
  },
  {
   "cell_type": "code",
   "execution_count": 23,
   "metadata": {},
   "outputs": [],
   "source": [
    "left_knuckle_link.quaternion = quaternion_from_euler(np.pi,0.0,0.0).tolist()\n",
    "left_knuckle_link.position = [0.05490451627, 0.03060114443, 0.0]\n",
    "base_link.add(left_knuckle_link)"
   ]
  },
  {
   "cell_type": "code",
   "execution_count": 24,
   "metadata": {},
   "outputs": [],
   "source": [
    "# right_knuckle_link.quaternion = quaternion_from_euler(0,0.0,0.0).tolist()\n",
    "right_knuckle_link.position = [0.05490451627, -0.03060114443, 0.0]\n",
    "base_link.add(right_knuckle_link)"
   ]
  },
  {
   "cell_type": "code",
   "execution_count": 25,
   "metadata": {},
   "outputs": [],
   "source": [
    "left_finger_link.position = [-0.00408552455, -0.03148604435, 0.0]\n",
    "left_knuckle_link.add(left_finger_link)"
   ]
  },
  {
   "cell_type": "code",
   "execution_count": 26,
   "metadata": {},
   "outputs": [],
   "source": [
    "right_finger_link.position = [-0.00408552455, -0.03148604435, 0.0]\n",
    "right_knuckle_link.add(right_finger_link)"
   ]
  },
  {
   "cell_type": "code",
   "execution_count": 27,
   "metadata": {},
   "outputs": [],
   "source": [
    "left_inner_knuckle_link.position = [0.06142, 0.0127, 0.0]\n",
    "left_inner_knuckle_link.quaternion = quaternion_from_euler(np.pi, 0.0, 0.0).tolist()\n",
    "base_link.add(left_inner_knuckle_link)"
   ]
  },
  {
   "cell_type": "code",
   "execution_count": 28,
   "metadata": {},
   "outputs": [],
   "source": [
    "right_inner_knuckle_link.position = [0.06142, -0.0127, 0.0]\n",
    "base_link.add(right_inner_knuckle_link)"
   ]
  },
  {
   "cell_type": "code",
   "execution_count": 19,
   "metadata": {},
   "outputs": [],
   "source": [
    "left_finger_tip_link.position = [0.04303959807, -0.03759940821, 0.0]\n",
    "left_inner_knuckle_link.add(left_finger_tip_link)"
   ]
  },
  {
   "cell_type": "code",
   "execution_count": 20,
   "metadata": {},
   "outputs": [],
   "source": [
    "right_finger_tip_link.position = [0.04303959807, -0.03759940821, 0.0]\n",
    "right_inner_knuckle_link.add(right_finger_tip_link)"
   ]
  },
  {
   "cell_type": "code",
   "execution_count": null,
   "metadata": {},
   "outputs": [],
   "source": []
  }
 ],
 "metadata": {
  "kernelspec": {
   "display_name": "Python 3",
   "language": "python",
   "name": "python3"
  },
  "language_info": {
   "codemirror_mode": {
    "name": "ipython",
    "version": 3
   },
   "file_extension": ".py",
   "mimetype": "text/x-python",
   "name": "python",
   "nbconvert_exporter": "python",
   "pygments_lexer": "ipython3",
   "version": "3.7.0"
  }
 },
 "nbformat": 4,
 "nbformat_minor": 2
}
